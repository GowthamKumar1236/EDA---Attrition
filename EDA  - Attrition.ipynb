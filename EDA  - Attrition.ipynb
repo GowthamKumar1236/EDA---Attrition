{
 "cells": [
  {
   "cell_type": "markdown",
   "metadata": {
    "id": "zVKlotolhmEa"
   },
   "source": [
    "# FACTORS AFFECTING ATTRITION"
   ]
  },
  {
   "cell_type": "markdown",
   "metadata": {
    "id": "flLScFjCmKyM"
   },
   "source": [
    "## Problem Statement : \n",
    "   Exploratory Data Analysis (EDA) on the given Attrition data set for finding the factors that might affect the attrition  "
   ]
  },
  {
   "cell_type": "code",
   "execution_count": 1,
   "metadata": {
    "executionInfo": {
     "elapsed": 343,
     "status": "ok",
     "timestamp": 1665312919235,
     "user": {
      "displayName": "SAI.SASI.SEKHAR RALLABANDI",
      "userId": "03962991214365984155"
     },
     "user_tz": -330
    },
    "id": "6VL1Rtg6hHTL"
   },
   "outputs": [],
   "source": [
    "# Importing libraries required for the analysis\n",
    "import pandas as pd\n",
    "import numpy as np\n",
    "import seaborn as sns\n",
    "import matplotlib.pyplot as plt\n",
    "import warnings\n",
    "warnings.filterwarnings('ignore')"
   ]
  },
  {
   "cell_type": "code",
   "execution_count": 2,
   "metadata": {
    "colab": {
     "base_uri": "https://localhost:8080/",
     "height": 74
    },
    "executionInfo": {
     "elapsed": 70541,
     "status": "ok",
     "timestamp": 1665312990607,
     "user": {
      "displayName": "SAI.SASI.SEKHAR RALLABANDI",
      "userId": "03962991214365984155"
     },
     "user_tz": -330
    },
    "id": "hdjSF2bQjgHq",
    "outputId": "4a1618f9-bd15-4c81-b660-7567d9042b3f",
    "scrolled": true
   },
   "outputs": [],
   "source": [
    "# Importing the csv file\n",
    "attrition = pd.read_csv(\"attrition.csv\")"
   ]
  },
  {
   "cell_type": "code",
   "execution_count": 3,
   "metadata": {
    "colab": {
     "base_uri": "https://localhost:8080/"
    },
    "executionInfo": {
     "elapsed": 10,
     "status": "ok",
     "timestamp": 1665312990608,
     "user": {
      "displayName": "SAI.SASI.SEKHAR RALLABANDI",
      "userId": "03962991214365984155"
     },
     "user_tz": -330
    },
    "id": "ulSQQU9ehuaq",
    "outputId": "f457d52c-b988-457f-c55f-174f92c09f6d"
   },
   "outputs": [
    {
     "data": {
      "text/html": [
       "<div>\n",
       "<style scoped>\n",
       "    .dataframe tbody tr th:only-of-type {\n",
       "        vertical-align: middle;\n",
       "    }\n",
       "\n",
       "    .dataframe tbody tr th {\n",
       "        vertical-align: top;\n",
       "    }\n",
       "\n",
       "    .dataframe thead th {\n",
       "        text-align: right;\n",
       "    }\n",
       "</style>\n",
       "<table border=\"1\" class=\"dataframe\">\n",
       "  <thead>\n",
       "    <tr style=\"text-align: right;\">\n",
       "      <th></th>\n",
       "      <th>Age</th>\n",
       "      <th>Attrition</th>\n",
       "      <th>BusinessTravel</th>\n",
       "      <th>Department</th>\n",
       "      <th>EducationField</th>\n",
       "      <th>EnvironmentSatisfaction</th>\n",
       "      <th>Gender</th>\n",
       "      <th>JobInvolvement</th>\n",
       "      <th>JobLevel</th>\n",
       "      <th>JobSatisfaction</th>\n",
       "      <th>MaritalStatus</th>\n",
       "      <th>MonthlyIncome</th>\n",
       "      <th>OverTime</th>\n",
       "      <th>TotalWorkingYears</th>\n",
       "      <th>WorkLifeBalance</th>\n",
       "      <th>YearsAtCompany</th>\n",
       "      <th>YearsInCurrentRole</th>\n",
       "      <th>YearsSinceLastPromotion</th>\n",
       "      <th>YearsWithCurrManager</th>\n",
       "      <th>DistanceFromHome</th>\n",
       "    </tr>\n",
       "  </thead>\n",
       "  <tbody>\n",
       "    <tr>\n",
       "      <th>0</th>\n",
       "      <td>41</td>\n",
       "      <td>1</td>\n",
       "      <td>Travel_Rarely</td>\n",
       "      <td>Sales</td>\n",
       "      <td>Life Sciences</td>\n",
       "      <td>2</td>\n",
       "      <td>Female</td>\n",
       "      <td>3</td>\n",
       "      <td>2</td>\n",
       "      <td>4</td>\n",
       "      <td>Single</td>\n",
       "      <td>5993</td>\n",
       "      <td>Yes</td>\n",
       "      <td>8</td>\n",
       "      <td>1</td>\n",
       "      <td>6</td>\n",
       "      <td>4</td>\n",
       "      <td>0</td>\n",
       "      <td>5</td>\n",
       "      <td>1</td>\n",
       "    </tr>\n",
       "    <tr>\n",
       "      <th>1</th>\n",
       "      <td>49</td>\n",
       "      <td>0</td>\n",
       "      <td>Travel_Frequently</td>\n",
       "      <td>Research &amp; Development</td>\n",
       "      <td>Life Sciences</td>\n",
       "      <td>3</td>\n",
       "      <td>Male</td>\n",
       "      <td>2</td>\n",
       "      <td>2</td>\n",
       "      <td>2</td>\n",
       "      <td>Married</td>\n",
       "      <td>5130</td>\n",
       "      <td>No</td>\n",
       "      <td>10</td>\n",
       "      <td>3</td>\n",
       "      <td>10</td>\n",
       "      <td>7</td>\n",
       "      <td>1</td>\n",
       "      <td>7</td>\n",
       "      <td>8</td>\n",
       "    </tr>\n",
       "    <tr>\n",
       "      <th>2</th>\n",
       "      <td>37</td>\n",
       "      <td>1</td>\n",
       "      <td>Travel_Rarely</td>\n",
       "      <td>Research &amp; Development</td>\n",
       "      <td>Other</td>\n",
       "      <td>4</td>\n",
       "      <td>Male</td>\n",
       "      <td>2</td>\n",
       "      <td>1</td>\n",
       "      <td>3</td>\n",
       "      <td>Single</td>\n",
       "      <td>2090</td>\n",
       "      <td>Yes</td>\n",
       "      <td>7</td>\n",
       "      <td>3</td>\n",
       "      <td>0</td>\n",
       "      <td>0</td>\n",
       "      <td>0</td>\n",
       "      <td>0</td>\n",
       "      <td>2</td>\n",
       "    </tr>\n",
       "    <tr>\n",
       "      <th>3</th>\n",
       "      <td>33</td>\n",
       "      <td>0</td>\n",
       "      <td>Travel_Frequently</td>\n",
       "      <td>Research &amp; Development</td>\n",
       "      <td>Life Sciences</td>\n",
       "      <td>4</td>\n",
       "      <td>Female</td>\n",
       "      <td>3</td>\n",
       "      <td>1</td>\n",
       "      <td>3</td>\n",
       "      <td>Married</td>\n",
       "      <td>2909</td>\n",
       "      <td>Yes</td>\n",
       "      <td>8</td>\n",
       "      <td>3</td>\n",
       "      <td>8</td>\n",
       "      <td>7</td>\n",
       "      <td>3</td>\n",
       "      <td>0</td>\n",
       "      <td>3</td>\n",
       "    </tr>\n",
       "    <tr>\n",
       "      <th>4</th>\n",
       "      <td>27</td>\n",
       "      <td>0</td>\n",
       "      <td>Travel_Rarely</td>\n",
       "      <td>Research &amp; Development</td>\n",
       "      <td>Medical</td>\n",
       "      <td>1</td>\n",
       "      <td>Male</td>\n",
       "      <td>3</td>\n",
       "      <td>1</td>\n",
       "      <td>2</td>\n",
       "      <td>Married</td>\n",
       "      <td>3468</td>\n",
       "      <td>No</td>\n",
       "      <td>6</td>\n",
       "      <td>3</td>\n",
       "      <td>2</td>\n",
       "      <td>2</td>\n",
       "      <td>2</td>\n",
       "      <td>2</td>\n",
       "      <td>2</td>\n",
       "    </tr>\n",
       "    <tr>\n",
       "      <th>...</th>\n",
       "      <td>...</td>\n",
       "      <td>...</td>\n",
       "      <td>...</td>\n",
       "      <td>...</td>\n",
       "      <td>...</td>\n",
       "      <td>...</td>\n",
       "      <td>...</td>\n",
       "      <td>...</td>\n",
       "      <td>...</td>\n",
       "      <td>...</td>\n",
       "      <td>...</td>\n",
       "      <td>...</td>\n",
       "      <td>...</td>\n",
       "      <td>...</td>\n",
       "      <td>...</td>\n",
       "      <td>...</td>\n",
       "      <td>...</td>\n",
       "      <td>...</td>\n",
       "      <td>...</td>\n",
       "      <td>...</td>\n",
       "    </tr>\n",
       "    <tr>\n",
       "      <th>1465</th>\n",
       "      <td>36</td>\n",
       "      <td>0</td>\n",
       "      <td>Travel_Frequently</td>\n",
       "      <td>Research &amp; Development</td>\n",
       "      <td>Medical</td>\n",
       "      <td>3</td>\n",
       "      <td>Male</td>\n",
       "      <td>4</td>\n",
       "      <td>2</td>\n",
       "      <td>4</td>\n",
       "      <td>Married</td>\n",
       "      <td>2571</td>\n",
       "      <td>No</td>\n",
       "      <td>17</td>\n",
       "      <td>3</td>\n",
       "      <td>5</td>\n",
       "      <td>2</td>\n",
       "      <td>0</td>\n",
       "      <td>3</td>\n",
       "      <td>23</td>\n",
       "    </tr>\n",
       "    <tr>\n",
       "      <th>1466</th>\n",
       "      <td>39</td>\n",
       "      <td>0</td>\n",
       "      <td>Travel_Rarely</td>\n",
       "      <td>Research &amp; Development</td>\n",
       "      <td>Medical</td>\n",
       "      <td>4</td>\n",
       "      <td>Male</td>\n",
       "      <td>2</td>\n",
       "      <td>3</td>\n",
       "      <td>1</td>\n",
       "      <td>Married</td>\n",
       "      <td>9991</td>\n",
       "      <td>No</td>\n",
       "      <td>9</td>\n",
       "      <td>3</td>\n",
       "      <td>7</td>\n",
       "      <td>7</td>\n",
       "      <td>1</td>\n",
       "      <td>7</td>\n",
       "      <td>6</td>\n",
       "    </tr>\n",
       "    <tr>\n",
       "      <th>1467</th>\n",
       "      <td>27</td>\n",
       "      <td>0</td>\n",
       "      <td>Travel_Rarely</td>\n",
       "      <td>Research &amp; Development</td>\n",
       "      <td>Life Sciences</td>\n",
       "      <td>2</td>\n",
       "      <td>Male</td>\n",
       "      <td>4</td>\n",
       "      <td>2</td>\n",
       "      <td>2</td>\n",
       "      <td>Married</td>\n",
       "      <td>6142</td>\n",
       "      <td>Yes</td>\n",
       "      <td>6</td>\n",
       "      <td>3</td>\n",
       "      <td>6</td>\n",
       "      <td>2</td>\n",
       "      <td>0</td>\n",
       "      <td>3</td>\n",
       "      <td>4</td>\n",
       "    </tr>\n",
       "    <tr>\n",
       "      <th>1468</th>\n",
       "      <td>49</td>\n",
       "      <td>0</td>\n",
       "      <td>Travel_Frequently</td>\n",
       "      <td>Sales</td>\n",
       "      <td>Medical</td>\n",
       "      <td>4</td>\n",
       "      <td>Male</td>\n",
       "      <td>2</td>\n",
       "      <td>2</td>\n",
       "      <td>2</td>\n",
       "      <td>Married</td>\n",
       "      <td>5390</td>\n",
       "      <td>No</td>\n",
       "      <td>17</td>\n",
       "      <td>2</td>\n",
       "      <td>9</td>\n",
       "      <td>6</td>\n",
       "      <td>0</td>\n",
       "      <td>8</td>\n",
       "      <td>2</td>\n",
       "    </tr>\n",
       "    <tr>\n",
       "      <th>1469</th>\n",
       "      <td>34</td>\n",
       "      <td>0</td>\n",
       "      <td>Travel_Rarely</td>\n",
       "      <td>Research &amp; Development</td>\n",
       "      <td>Medical</td>\n",
       "      <td>2</td>\n",
       "      <td>Male</td>\n",
       "      <td>4</td>\n",
       "      <td>2</td>\n",
       "      <td>3</td>\n",
       "      <td>Married</td>\n",
       "      <td>4404</td>\n",
       "      <td>No</td>\n",
       "      <td>6</td>\n",
       "      <td>4</td>\n",
       "      <td>4</td>\n",
       "      <td>3</td>\n",
       "      <td>1</td>\n",
       "      <td>2</td>\n",
       "      <td>8</td>\n",
       "    </tr>\n",
       "  </tbody>\n",
       "</table>\n",
       "<p>1470 rows × 20 columns</p>\n",
       "</div>"
      ],
      "text/plain": [
       "      Age  Attrition     BusinessTravel              Department  \\\n",
       "0      41          1      Travel_Rarely                   Sales   \n",
       "1      49          0  Travel_Frequently  Research & Development   \n",
       "2      37          1      Travel_Rarely  Research & Development   \n",
       "3      33          0  Travel_Frequently  Research & Development   \n",
       "4      27          0      Travel_Rarely  Research & Development   \n",
       "...   ...        ...                ...                     ...   \n",
       "1465   36          0  Travel_Frequently  Research & Development   \n",
       "1466   39          0      Travel_Rarely  Research & Development   \n",
       "1467   27          0      Travel_Rarely  Research & Development   \n",
       "1468   49          0  Travel_Frequently                   Sales   \n",
       "1469   34          0      Travel_Rarely  Research & Development   \n",
       "\n",
       "     EducationField  EnvironmentSatisfaction  Gender  JobInvolvement  \\\n",
       "0     Life Sciences                        2  Female               3   \n",
       "1     Life Sciences                        3    Male               2   \n",
       "2             Other                        4    Male               2   \n",
       "3     Life Sciences                        4  Female               3   \n",
       "4           Medical                        1    Male               3   \n",
       "...             ...                      ...     ...             ...   \n",
       "1465        Medical                        3    Male               4   \n",
       "1466        Medical                        4    Male               2   \n",
       "1467  Life Sciences                        2    Male               4   \n",
       "1468        Medical                        4    Male               2   \n",
       "1469        Medical                        2    Male               4   \n",
       "\n",
       "      JobLevel  JobSatisfaction MaritalStatus  MonthlyIncome OverTime  \\\n",
       "0            2                4        Single           5993      Yes   \n",
       "1            2                2       Married           5130       No   \n",
       "2            1                3        Single           2090      Yes   \n",
       "3            1                3       Married           2909      Yes   \n",
       "4            1                2       Married           3468       No   \n",
       "...        ...              ...           ...            ...      ...   \n",
       "1465         2                4       Married           2571       No   \n",
       "1466         3                1       Married           9991       No   \n",
       "1467         2                2       Married           6142      Yes   \n",
       "1468         2                2       Married           5390       No   \n",
       "1469         2                3       Married           4404       No   \n",
       "\n",
       "      TotalWorkingYears  WorkLifeBalance  YearsAtCompany  YearsInCurrentRole  \\\n",
       "0                     8                1               6                   4   \n",
       "1                    10                3              10                   7   \n",
       "2                     7                3               0                   0   \n",
       "3                     8                3               8                   7   \n",
       "4                     6                3               2                   2   \n",
       "...                 ...              ...             ...                 ...   \n",
       "1465                 17                3               5                   2   \n",
       "1466                  9                3               7                   7   \n",
       "1467                  6                3               6                   2   \n",
       "1468                 17                2               9                   6   \n",
       "1469                  6                4               4                   3   \n",
       "\n",
       "      YearsSinceLastPromotion  YearsWithCurrManager  DistanceFromHome  \n",
       "0                           0                     5                 1  \n",
       "1                           1                     7                 8  \n",
       "2                           0                     0                 2  \n",
       "3                           3                     0                 3  \n",
       "4                           2                     2                 2  \n",
       "...                       ...                   ...               ...  \n",
       "1465                        0                     3                23  \n",
       "1466                        1                     7                 6  \n",
       "1467                        0                     3                 4  \n",
       "1468                        0                     8                 2  \n",
       "1469                        1                     2                 8  \n",
       "\n",
       "[1470 rows x 20 columns]"
      ]
     },
     "execution_count": 3,
     "metadata": {},
     "output_type": "execute_result"
    }
   ],
   "source": [
    "# Reading the attrition.csv file\n",
    "attrition"
   ]
  },
  {
   "cell_type": "code",
   "execution_count": 4,
   "metadata": {
    "colab": {
     "base_uri": "https://localhost:8080/"
    },
    "executionInfo": {
     "elapsed": 9,
     "status": "ok",
     "timestamp": 1665312990609,
     "user": {
      "displayName": "SAI.SASI.SEKHAR RALLABANDI",
      "userId": "03962991214365984155"
     },
     "user_tz": -330
    },
    "id": "K3n1zk5Fs7Yu",
    "outputId": "1bc528ec-5651-4494-e0d3-704228e5d2a1"
   },
   "outputs": [
    {
     "data": {
      "text/plain": [
       "(1470, 20)"
      ]
     },
     "execution_count": 4,
     "metadata": {},
     "output_type": "execute_result"
    }
   ],
   "source": [
    "#Getting the number of rows and columns \n",
    "attrition.shape"
   ]
  },
  {
   "cell_type": "code",
   "execution_count": 5,
   "metadata": {
    "colab": {
     "base_uri": "https://localhost:8080/"
    },
    "executionInfo": {
     "elapsed": 6,
     "status": "ok",
     "timestamp": 1665312990609,
     "user": {
      "displayName": "SAI.SASI.SEKHAR RALLABANDI",
      "userId": "03962991214365984155"
     },
     "user_tz": -330
    },
    "id": "ruBdqp7ps7nW",
    "outputId": "ab455406-2e8f-4c46-8430-3e8ebc580d80"
   },
   "outputs": [
    {
     "data": {
      "text/plain": [
       "Age                         int64\n",
       "Attrition                   int64\n",
       "BusinessTravel             object\n",
       "Department                 object\n",
       "EducationField             object\n",
       "EnvironmentSatisfaction     int64\n",
       "Gender                     object\n",
       "JobInvolvement              int64\n",
       "JobLevel                    int64\n",
       "JobSatisfaction             int64\n",
       "MaritalStatus              object\n",
       "MonthlyIncome               int64\n",
       "OverTime                   object\n",
       "TotalWorkingYears           int64\n",
       "WorkLifeBalance             int64\n",
       "YearsAtCompany              int64\n",
       "YearsInCurrentRole          int64\n",
       "YearsSinceLastPromotion     int64\n",
       "YearsWithCurrManager        int64\n",
       "DistanceFromHome            int64\n",
       "dtype: object"
      ]
     },
     "execution_count": 5,
     "metadata": {},
     "output_type": "execute_result"
    }
   ],
   "source": [
    "#Column name and data types of all the columns\n",
    "attrition.dtypes"
   ]
  },
  {
   "cell_type": "code",
   "execution_count": 6,
   "metadata": {
    "colab": {
     "base_uri": "https://localhost:8080/",
     "height": 357
    },
    "executionInfo": {
     "elapsed": 817,
     "status": "ok",
     "timestamp": 1665312991421,
     "user": {
      "displayName": "SAI.SASI.SEKHAR RALLABANDI",
      "userId": "03962991214365984155"
     },
     "user_tz": -330
    },
    "id": "PpAOOPkwjuWD",
    "outputId": "5c9236b7-5eb3-465c-817d-aa3aec1f5ab6"
   },
   "outputs": [
    {
     "data": {
      "text/html": [
       "<div>\n",
       "<style scoped>\n",
       "    .dataframe tbody tr th:only-of-type {\n",
       "        vertical-align: middle;\n",
       "    }\n",
       "\n",
       "    .dataframe tbody tr th {\n",
       "        vertical-align: top;\n",
       "    }\n",
       "\n",
       "    .dataframe thead th {\n",
       "        text-align: right;\n",
       "    }\n",
       "</style>\n",
       "<table border=\"1\" class=\"dataframe\">\n",
       "  <thead>\n",
       "    <tr style=\"text-align: right;\">\n",
       "      <th></th>\n",
       "      <th>Age</th>\n",
       "      <th>Attrition</th>\n",
       "      <th>BusinessTravel</th>\n",
       "      <th>Department</th>\n",
       "      <th>EducationField</th>\n",
       "      <th>EnvironmentSatisfaction</th>\n",
       "      <th>Gender</th>\n",
       "      <th>JobInvolvement</th>\n",
       "      <th>JobLevel</th>\n",
       "      <th>JobSatisfaction</th>\n",
       "      <th>MaritalStatus</th>\n",
       "      <th>MonthlyIncome</th>\n",
       "      <th>OverTime</th>\n",
       "      <th>TotalWorkingYears</th>\n",
       "      <th>WorkLifeBalance</th>\n",
       "      <th>YearsAtCompany</th>\n",
       "      <th>YearsInCurrentRole</th>\n",
       "      <th>YearsSinceLastPromotion</th>\n",
       "      <th>YearsWithCurrManager</th>\n",
       "      <th>DistanceFromHome</th>\n",
       "    </tr>\n",
       "  </thead>\n",
       "  <tbody>\n",
       "    <tr>\n",
       "      <th>997</th>\n",
       "      <td>27</td>\n",
       "      <td>1</td>\n",
       "      <td>Travel_Rarely</td>\n",
       "      <td>Research &amp; Development</td>\n",
       "      <td>Life Sciences</td>\n",
       "      <td>4</td>\n",
       "      <td>Female</td>\n",
       "      <td>3</td>\n",
       "      <td>1</td>\n",
       "      <td>3</td>\n",
       "      <td>Single</td>\n",
       "      <td>2394</td>\n",
       "      <td>Yes</td>\n",
       "      <td>8</td>\n",
       "      <td>3</td>\n",
       "      <td>8</td>\n",
       "      <td>2</td>\n",
       "      <td>7</td>\n",
       "      <td>7</td>\n",
       "      <td>17</td>\n",
       "    </tr>\n",
       "    <tr>\n",
       "      <th>1138</th>\n",
       "      <td>50</td>\n",
       "      <td>0</td>\n",
       "      <td>Travel_Frequently</td>\n",
       "      <td>Research &amp; Development</td>\n",
       "      <td>Medical</td>\n",
       "      <td>2</td>\n",
       "      <td>Male</td>\n",
       "      <td>3</td>\n",
       "      <td>4</td>\n",
       "      <td>3</td>\n",
       "      <td>Married</td>\n",
       "      <td>11245</td>\n",
       "      <td>Yes</td>\n",
       "      <td>32</td>\n",
       "      <td>3</td>\n",
       "      <td>30</td>\n",
       "      <td>8</td>\n",
       "      <td>12</td>\n",
       "      <td>13</td>\n",
       "      <td>20</td>\n",
       "    </tr>\n",
       "    <tr>\n",
       "      <th>179</th>\n",
       "      <td>38</td>\n",
       "      <td>0</td>\n",
       "      <td>Travel_Rarely</td>\n",
       "      <td>Research &amp; Development</td>\n",
       "      <td>Life Sciences</td>\n",
       "      <td>3</td>\n",
       "      <td>Female</td>\n",
       "      <td>3</td>\n",
       "      <td>1</td>\n",
       "      <td>4</td>\n",
       "      <td>Single</td>\n",
       "      <td>2288</td>\n",
       "      <td>No</td>\n",
       "      <td>2</td>\n",
       "      <td>3</td>\n",
       "      <td>2</td>\n",
       "      <td>2</td>\n",
       "      <td>2</td>\n",
       "      <td>1</td>\n",
       "      <td>9</td>\n",
       "    </tr>\n",
       "    <tr>\n",
       "      <th>381</th>\n",
       "      <td>30</td>\n",
       "      <td>0</td>\n",
       "      <td>Travel_Rarely</td>\n",
       "      <td>Sales</td>\n",
       "      <td>Technical Degree</td>\n",
       "      <td>3</td>\n",
       "      <td>Male</td>\n",
       "      <td>3</td>\n",
       "      <td>1</td>\n",
       "      <td>2</td>\n",
       "      <td>Married</td>\n",
       "      <td>2476</td>\n",
       "      <td>No</td>\n",
       "      <td>1</td>\n",
       "      <td>3</td>\n",
       "      <td>1</td>\n",
       "      <td>0</td>\n",
       "      <td>0</td>\n",
       "      <td>0</td>\n",
       "      <td>2</td>\n",
       "    </tr>\n",
       "    <tr>\n",
       "      <th>498</th>\n",
       "      <td>22</td>\n",
       "      <td>0</td>\n",
       "      <td>Travel_Rarely</td>\n",
       "      <td>Research &amp; Development</td>\n",
       "      <td>Medical</td>\n",
       "      <td>1</td>\n",
       "      <td>Male</td>\n",
       "      <td>3</td>\n",
       "      <td>1</td>\n",
       "      <td>3</td>\n",
       "      <td>Married</td>\n",
       "      <td>2773</td>\n",
       "      <td>No</td>\n",
       "      <td>3</td>\n",
       "      <td>3</td>\n",
       "      <td>2</td>\n",
       "      <td>2</td>\n",
       "      <td>2</td>\n",
       "      <td>2</td>\n",
       "      <td>6</td>\n",
       "    </tr>\n",
       "  </tbody>\n",
       "</table>\n",
       "</div>"
      ],
      "text/plain": [
       "      Age  Attrition     BusinessTravel              Department  \\\n",
       "997    27          1      Travel_Rarely  Research & Development   \n",
       "1138   50          0  Travel_Frequently  Research & Development   \n",
       "179    38          0      Travel_Rarely  Research & Development   \n",
       "381    30          0      Travel_Rarely                   Sales   \n",
       "498    22          0      Travel_Rarely  Research & Development   \n",
       "\n",
       "        EducationField  EnvironmentSatisfaction  Gender  JobInvolvement  \\\n",
       "997      Life Sciences                        4  Female               3   \n",
       "1138           Medical                        2    Male               3   \n",
       "179      Life Sciences                        3  Female               3   \n",
       "381   Technical Degree                        3    Male               3   \n",
       "498            Medical                        1    Male               3   \n",
       "\n",
       "      JobLevel  JobSatisfaction MaritalStatus  MonthlyIncome OverTime  \\\n",
       "997          1                3        Single           2394      Yes   \n",
       "1138         4                3       Married          11245      Yes   \n",
       "179          1                4        Single           2288       No   \n",
       "381          1                2       Married           2476       No   \n",
       "498          1                3       Married           2773       No   \n",
       "\n",
       "      TotalWorkingYears  WorkLifeBalance  YearsAtCompany  YearsInCurrentRole  \\\n",
       "997                   8                3               8                   2   \n",
       "1138                 32                3              30                   8   \n",
       "179                   2                3               2                   2   \n",
       "381                   1                3               1                   0   \n",
       "498                   3                3               2                   2   \n",
       "\n",
       "      YearsSinceLastPromotion  YearsWithCurrManager  DistanceFromHome  \n",
       "997                         7                     7                17  \n",
       "1138                       12                    13                20  \n",
       "179                         2                     1                 9  \n",
       "381                         0                     0                 2  \n",
       "498                         2                     2                 6  "
      ]
     },
     "execution_count": 6,
     "metadata": {},
     "output_type": "execute_result"
    }
   ],
   "source": [
    "#Observing the sample variables and entities of the data set\n",
    "attrition.sample(5)"
   ]
  },
  {
   "cell_type": "markdown",
   "metadata": {
    "id": "ysmRFyVOtMin"
   },
   "source": [
    "Understanding the data into two types of variables       \n",
    "1) Integer type Variables           \n",
    "2) Object type Variables             "
   ]
  },
  {
   "cell_type": "markdown",
   "metadata": {
    "id": "hEJ9yjzKtM5U"
   },
   "source": [
    "### Describing Integer type Variables"
   ]
  },
  {
   "cell_type": "code",
   "execution_count": 7,
   "metadata": {
    "colab": {
     "base_uri": "https://localhost:8080/",
     "height": 364
    },
    "executionInfo": {
     "elapsed": 14,
     "status": "ok",
     "timestamp": 1665312991423,
     "user": {
      "displayName": "SAI.SASI.SEKHAR RALLABANDI",
      "userId": "03962991214365984155"
     },
     "user_tz": -330
    },
    "id": "eWMhflCVj_2w",
    "outputId": "4719e44f-b43e-4139-b395-13a0a33c82a0"
   },
   "outputs": [
    {
     "data": {
      "text/html": [
       "<div>\n",
       "<style scoped>\n",
       "    .dataframe tbody tr th:only-of-type {\n",
       "        vertical-align: middle;\n",
       "    }\n",
       "\n",
       "    .dataframe tbody tr th {\n",
       "        vertical-align: top;\n",
       "    }\n",
       "\n",
       "    .dataframe thead th {\n",
       "        text-align: right;\n",
       "    }\n",
       "</style>\n",
       "<table border=\"1\" class=\"dataframe\">\n",
       "  <thead>\n",
       "    <tr style=\"text-align: right;\">\n",
       "      <th></th>\n",
       "      <th>Age</th>\n",
       "      <th>Attrition</th>\n",
       "      <th>EnvironmentSatisfaction</th>\n",
       "      <th>JobInvolvement</th>\n",
       "      <th>JobLevel</th>\n",
       "      <th>JobSatisfaction</th>\n",
       "      <th>MonthlyIncome</th>\n",
       "      <th>TotalWorkingYears</th>\n",
       "      <th>WorkLifeBalance</th>\n",
       "      <th>YearsAtCompany</th>\n",
       "      <th>YearsInCurrentRole</th>\n",
       "      <th>YearsSinceLastPromotion</th>\n",
       "      <th>YearsWithCurrManager</th>\n",
       "      <th>DistanceFromHome</th>\n",
       "    </tr>\n",
       "  </thead>\n",
       "  <tbody>\n",
       "    <tr>\n",
       "      <th>count</th>\n",
       "      <td>1470.000000</td>\n",
       "      <td>1470.000000</td>\n",
       "      <td>1470.000000</td>\n",
       "      <td>1470.000000</td>\n",
       "      <td>1470.000000</td>\n",
       "      <td>1470.000000</td>\n",
       "      <td>1470.000000</td>\n",
       "      <td>1470.000000</td>\n",
       "      <td>1470.000000</td>\n",
       "      <td>1470.000000</td>\n",
       "      <td>1470.000000</td>\n",
       "      <td>1470.000000</td>\n",
       "      <td>1470.000000</td>\n",
       "      <td>1470.000000</td>\n",
       "    </tr>\n",
       "    <tr>\n",
       "      <th>mean</th>\n",
       "      <td>36.923810</td>\n",
       "      <td>0.161224</td>\n",
       "      <td>2.721769</td>\n",
       "      <td>2.729932</td>\n",
       "      <td>2.063946</td>\n",
       "      <td>2.728571</td>\n",
       "      <td>6502.931293</td>\n",
       "      <td>11.279592</td>\n",
       "      <td>2.761224</td>\n",
       "      <td>7.008163</td>\n",
       "      <td>4.229252</td>\n",
       "      <td>2.187755</td>\n",
       "      <td>4.123129</td>\n",
       "      <td>9.192517</td>\n",
       "    </tr>\n",
       "    <tr>\n",
       "      <th>std</th>\n",
       "      <td>9.135373</td>\n",
       "      <td>0.367863</td>\n",
       "      <td>1.093082</td>\n",
       "      <td>0.711561</td>\n",
       "      <td>1.106940</td>\n",
       "      <td>1.102846</td>\n",
       "      <td>4707.956783</td>\n",
       "      <td>7.780782</td>\n",
       "      <td>0.706476</td>\n",
       "      <td>6.126525</td>\n",
       "      <td>3.623137</td>\n",
       "      <td>3.222430</td>\n",
       "      <td>3.568136</td>\n",
       "      <td>8.106864</td>\n",
       "    </tr>\n",
       "    <tr>\n",
       "      <th>min</th>\n",
       "      <td>18.000000</td>\n",
       "      <td>0.000000</td>\n",
       "      <td>1.000000</td>\n",
       "      <td>1.000000</td>\n",
       "      <td>1.000000</td>\n",
       "      <td>1.000000</td>\n",
       "      <td>1009.000000</td>\n",
       "      <td>0.000000</td>\n",
       "      <td>1.000000</td>\n",
       "      <td>0.000000</td>\n",
       "      <td>0.000000</td>\n",
       "      <td>0.000000</td>\n",
       "      <td>0.000000</td>\n",
       "      <td>1.000000</td>\n",
       "    </tr>\n",
       "    <tr>\n",
       "      <th>25%</th>\n",
       "      <td>30.000000</td>\n",
       "      <td>0.000000</td>\n",
       "      <td>2.000000</td>\n",
       "      <td>2.000000</td>\n",
       "      <td>1.000000</td>\n",
       "      <td>2.000000</td>\n",
       "      <td>2911.000000</td>\n",
       "      <td>6.000000</td>\n",
       "      <td>2.000000</td>\n",
       "      <td>3.000000</td>\n",
       "      <td>2.000000</td>\n",
       "      <td>0.000000</td>\n",
       "      <td>2.000000</td>\n",
       "      <td>2.000000</td>\n",
       "    </tr>\n",
       "    <tr>\n",
       "      <th>50%</th>\n",
       "      <td>36.000000</td>\n",
       "      <td>0.000000</td>\n",
       "      <td>3.000000</td>\n",
       "      <td>3.000000</td>\n",
       "      <td>2.000000</td>\n",
       "      <td>3.000000</td>\n",
       "      <td>4919.000000</td>\n",
       "      <td>10.000000</td>\n",
       "      <td>3.000000</td>\n",
       "      <td>5.000000</td>\n",
       "      <td>3.000000</td>\n",
       "      <td>1.000000</td>\n",
       "      <td>3.000000</td>\n",
       "      <td>7.000000</td>\n",
       "    </tr>\n",
       "    <tr>\n",
       "      <th>75%</th>\n",
       "      <td>43.000000</td>\n",
       "      <td>0.000000</td>\n",
       "      <td>4.000000</td>\n",
       "      <td>3.000000</td>\n",
       "      <td>3.000000</td>\n",
       "      <td>4.000000</td>\n",
       "      <td>8379.000000</td>\n",
       "      <td>15.000000</td>\n",
       "      <td>3.000000</td>\n",
       "      <td>9.000000</td>\n",
       "      <td>7.000000</td>\n",
       "      <td>3.000000</td>\n",
       "      <td>7.000000</td>\n",
       "      <td>14.000000</td>\n",
       "    </tr>\n",
       "    <tr>\n",
       "      <th>max</th>\n",
       "      <td>60.000000</td>\n",
       "      <td>1.000000</td>\n",
       "      <td>4.000000</td>\n",
       "      <td>4.000000</td>\n",
       "      <td>5.000000</td>\n",
       "      <td>4.000000</td>\n",
       "      <td>19999.000000</td>\n",
       "      <td>40.000000</td>\n",
       "      <td>4.000000</td>\n",
       "      <td>40.000000</td>\n",
       "      <td>18.000000</td>\n",
       "      <td>15.000000</td>\n",
       "      <td>17.000000</td>\n",
       "      <td>29.000000</td>\n",
       "    </tr>\n",
       "  </tbody>\n",
       "</table>\n",
       "</div>"
      ],
      "text/plain": [
       "               Age    Attrition  EnvironmentSatisfaction  JobInvolvement  \\\n",
       "count  1470.000000  1470.000000              1470.000000     1470.000000   \n",
       "mean     36.923810     0.161224                 2.721769        2.729932   \n",
       "std       9.135373     0.367863                 1.093082        0.711561   \n",
       "min      18.000000     0.000000                 1.000000        1.000000   \n",
       "25%      30.000000     0.000000                 2.000000        2.000000   \n",
       "50%      36.000000     0.000000                 3.000000        3.000000   \n",
       "75%      43.000000     0.000000                 4.000000        3.000000   \n",
       "max      60.000000     1.000000                 4.000000        4.000000   \n",
       "\n",
       "          JobLevel  JobSatisfaction  MonthlyIncome  TotalWorkingYears  \\\n",
       "count  1470.000000      1470.000000    1470.000000        1470.000000   \n",
       "mean      2.063946         2.728571    6502.931293          11.279592   \n",
       "std       1.106940         1.102846    4707.956783           7.780782   \n",
       "min       1.000000         1.000000    1009.000000           0.000000   \n",
       "25%       1.000000         2.000000    2911.000000           6.000000   \n",
       "50%       2.000000         3.000000    4919.000000          10.000000   \n",
       "75%       3.000000         4.000000    8379.000000          15.000000   \n",
       "max       5.000000         4.000000   19999.000000          40.000000   \n",
       "\n",
       "       WorkLifeBalance  YearsAtCompany  YearsInCurrentRole  \\\n",
       "count      1470.000000     1470.000000         1470.000000   \n",
       "mean          2.761224        7.008163            4.229252   \n",
       "std           0.706476        6.126525            3.623137   \n",
       "min           1.000000        0.000000            0.000000   \n",
       "25%           2.000000        3.000000            2.000000   \n",
       "50%           3.000000        5.000000            3.000000   \n",
       "75%           3.000000        9.000000            7.000000   \n",
       "max           4.000000       40.000000           18.000000   \n",
       "\n",
       "       YearsSinceLastPromotion  YearsWithCurrManager  DistanceFromHome  \n",
       "count              1470.000000           1470.000000       1470.000000  \n",
       "mean                  2.187755              4.123129          9.192517  \n",
       "std                   3.222430              3.568136          8.106864  \n",
       "min                   0.000000              0.000000          1.000000  \n",
       "25%                   0.000000              2.000000          2.000000  \n",
       "50%                   1.000000              3.000000          7.000000  \n",
       "75%                   3.000000              7.000000         14.000000  \n",
       "max                  15.000000             17.000000         29.000000  "
      ]
     },
     "execution_count": 7,
     "metadata": {},
     "output_type": "execute_result"
    }
   ],
   "source": [
    "attrition.describe()"
   ]
  },
  {
   "cell_type": "markdown",
   "metadata": {
    "id": "8i53avS7InNI"
   },
   "source": [
    "### Describing Object type Variables"
   ]
  },
  {
   "cell_type": "code",
   "execution_count": 8,
   "metadata": {
    "colab": {
     "base_uri": "https://localhost:8080/",
     "height": 175
    },
    "executionInfo": {
     "elapsed": 14,
     "status": "ok",
     "timestamp": 1665312991424,
     "user": {
      "displayName": "SAI.SASI.SEKHAR RALLABANDI",
      "userId": "03962991214365984155"
     },
     "user_tz": -330
    },
    "id": "NLm0HKhRtmsF",
    "outputId": "53dfcab1-3d33-4603-f82b-bc8977d9f065"
   },
   "outputs": [
    {
     "data": {
      "text/html": [
       "<div>\n",
       "<style scoped>\n",
       "    .dataframe tbody tr th:only-of-type {\n",
       "        vertical-align: middle;\n",
       "    }\n",
       "\n",
       "    .dataframe tbody tr th {\n",
       "        vertical-align: top;\n",
       "    }\n",
       "\n",
       "    .dataframe thead th {\n",
       "        text-align: right;\n",
       "    }\n",
       "</style>\n",
       "<table border=\"1\" class=\"dataframe\">\n",
       "  <thead>\n",
       "    <tr style=\"text-align: right;\">\n",
       "      <th></th>\n",
       "      <th>BusinessTravel</th>\n",
       "      <th>Department</th>\n",
       "      <th>EducationField</th>\n",
       "      <th>Gender</th>\n",
       "      <th>MaritalStatus</th>\n",
       "      <th>OverTime</th>\n",
       "    </tr>\n",
       "  </thead>\n",
       "  <tbody>\n",
       "    <tr>\n",
       "      <th>count</th>\n",
       "      <td>1470</td>\n",
       "      <td>1470</td>\n",
       "      <td>1470</td>\n",
       "      <td>1470</td>\n",
       "      <td>1470</td>\n",
       "      <td>1470</td>\n",
       "    </tr>\n",
       "    <tr>\n",
       "      <th>unique</th>\n",
       "      <td>3</td>\n",
       "      <td>3</td>\n",
       "      <td>6</td>\n",
       "      <td>2</td>\n",
       "      <td>3</td>\n",
       "      <td>2</td>\n",
       "    </tr>\n",
       "    <tr>\n",
       "      <th>top</th>\n",
       "      <td>Travel_Rarely</td>\n",
       "      <td>Research &amp; Development</td>\n",
       "      <td>Life Sciences</td>\n",
       "      <td>Male</td>\n",
       "      <td>Married</td>\n",
       "      <td>No</td>\n",
       "    </tr>\n",
       "    <tr>\n",
       "      <th>freq</th>\n",
       "      <td>1043</td>\n",
       "      <td>961</td>\n",
       "      <td>606</td>\n",
       "      <td>882</td>\n",
       "      <td>673</td>\n",
       "      <td>1054</td>\n",
       "    </tr>\n",
       "  </tbody>\n",
       "</table>\n",
       "</div>"
      ],
      "text/plain": [
       "       BusinessTravel              Department EducationField Gender  \\\n",
       "count            1470                    1470           1470   1470   \n",
       "unique              3                       3              6      2   \n",
       "top     Travel_Rarely  Research & Development  Life Sciences   Male   \n",
       "freq             1043                     961            606    882   \n",
       "\n",
       "       MaritalStatus OverTime  \n",
       "count           1470     1470  \n",
       "unique             3        2  \n",
       "top          Married       No  \n",
       "freq             673     1054  "
      ]
     },
     "execution_count": 8,
     "metadata": {},
     "output_type": "execute_result"
    }
   ],
   "source": [
    "#Describing categorical variable\n",
    "attrition.describe(include=['O'])"
   ]
  },
  {
   "cell_type": "code",
   "execution_count": 9,
   "metadata": {
    "colab": {
     "base_uri": "https://localhost:8080/"
    },
    "executionInfo": {
     "elapsed": 13,
     "status": "ok",
     "timestamp": 1665312991424,
     "user": {
      "displayName": "SAI.SASI.SEKHAR RALLABANDI",
      "userId": "03962991214365984155"
     },
     "user_tz": -330
    },
    "id": "4S5uaeDAt8UJ",
    "outputId": "81b320cd-c73e-44ff-d4be-f96f4d5568e4"
   },
   "outputs": [
    {
     "data": {
      "text/plain": [
       "Age                        0\n",
       "Attrition                  0\n",
       "BusinessTravel             0\n",
       "Department                 0\n",
       "EducationField             0\n",
       "EnvironmentSatisfaction    0\n",
       "Gender                     0\n",
       "JobInvolvement             0\n",
       "JobLevel                   0\n",
       "JobSatisfaction            0\n",
       "MaritalStatus              0\n",
       "MonthlyIncome              0\n",
       "OverTime                   0\n",
       "TotalWorkingYears          0\n",
       "WorkLifeBalance            0\n",
       "YearsAtCompany             0\n",
       "YearsInCurrentRole         0\n",
       "YearsSinceLastPromotion    0\n",
       "YearsWithCurrManager       0\n",
       "DistanceFromHome           0\n",
       "dtype: int64"
      ]
     },
     "execution_count": 9,
     "metadata": {},
     "output_type": "execute_result"
    }
   ],
   "source": [
    "# Checking for null values\n",
    "attrition.isnull().sum()"
   ]
  },
  {
   "cell_type": "code",
   "execution_count": 10,
   "metadata": {
    "colab": {
     "base_uri": "https://localhost:8080/"
    },
    "executionInfo": {
     "elapsed": 8,
     "status": "ok",
     "timestamp": 1665312991424,
     "user": {
      "displayName": "SAI.SASI.SEKHAR RALLABANDI",
      "userId": "03962991214365984155"
     },
     "user_tz": -330
    },
    "id": "k8UV3FUGuDIU",
    "outputId": "a8e426c7-6fd5-49ae-c7e0-4a6a5fdd4f05"
   },
   "outputs": [
    {
     "data": {
      "text/plain": [
       "0"
      ]
     },
     "execution_count": 10,
     "metadata": {},
     "output_type": "execute_result"
    }
   ],
   "source": [
    "# Checking for data duplication\n",
    "attrition.duplicated().sum()"
   ]
  },
  {
   "cell_type": "code",
   "execution_count": 11,
   "metadata": {
    "colab": {
     "base_uri": "https://localhost:8080/",
     "height": 574
    },
    "executionInfo": {
     "elapsed": 7,
     "status": "ok",
     "timestamp": 1665312991425,
     "user": {
      "displayName": "SAI.SASI.SEKHAR RALLABANDI",
      "userId": "03962991214365984155"
     },
     "user_tz": -330
    },
    "id": "xfwMpnkYp_fM",
    "outputId": "92cebc57-fca3-4dfa-a6d7-6bded67ff065"
   },
   "outputs": [
    {
     "data": {
      "text/html": [
       "<div>\n",
       "<style scoped>\n",
       "    .dataframe tbody tr th:only-of-type {\n",
       "        vertical-align: middle;\n",
       "    }\n",
       "\n",
       "    .dataframe tbody tr th {\n",
       "        vertical-align: top;\n",
       "    }\n",
       "\n",
       "    .dataframe thead th {\n",
       "        text-align: right;\n",
       "    }\n",
       "</style>\n",
       "<table border=\"1\" class=\"dataframe\">\n",
       "  <thead>\n",
       "    <tr style=\"text-align: right;\">\n",
       "      <th></th>\n",
       "      <th>Age</th>\n",
       "      <th>Attrition</th>\n",
       "      <th>BusinessTravel</th>\n",
       "      <th>Department</th>\n",
       "      <th>EducationField</th>\n",
       "      <th>EnvironmentSatisfaction</th>\n",
       "      <th>Gender</th>\n",
       "      <th>JobInvolvement</th>\n",
       "      <th>JobLevel</th>\n",
       "      <th>JobSatisfaction</th>\n",
       "      <th>MaritalStatus</th>\n",
       "      <th>MonthlyIncome</th>\n",
       "      <th>OverTime</th>\n",
       "      <th>TotalWorkingYears</th>\n",
       "      <th>WorkLifeBalance</th>\n",
       "      <th>YearsAtCompany</th>\n",
       "      <th>YearsInCurrentRole</th>\n",
       "      <th>YearsSinceLastPromotion</th>\n",
       "      <th>YearsWithCurrManager</th>\n",
       "      <th>DistanceFromHome</th>\n",
       "    </tr>\n",
       "  </thead>\n",
       "  <tbody>\n",
       "    <tr>\n",
       "      <th>0</th>\n",
       "      <td>41</td>\n",
       "      <td>1</td>\n",
       "      <td>Travel_Rarely</td>\n",
       "      <td>Sales</td>\n",
       "      <td>Life Sciences</td>\n",
       "      <td>2</td>\n",
       "      <td>Female</td>\n",
       "      <td>3</td>\n",
       "      <td>2</td>\n",
       "      <td>4</td>\n",
       "      <td>Single</td>\n",
       "      <td>5993</td>\n",
       "      <td>Yes</td>\n",
       "      <td>8</td>\n",
       "      <td>1</td>\n",
       "      <td>6</td>\n",
       "      <td>4</td>\n",
       "      <td>0</td>\n",
       "      <td>5</td>\n",
       "      <td>1</td>\n",
       "    </tr>\n",
       "    <tr>\n",
       "      <th>2</th>\n",
       "      <td>37</td>\n",
       "      <td>1</td>\n",
       "      <td>Travel_Rarely</td>\n",
       "      <td>Research &amp; Development</td>\n",
       "      <td>Other</td>\n",
       "      <td>4</td>\n",
       "      <td>Male</td>\n",
       "      <td>2</td>\n",
       "      <td>1</td>\n",
       "      <td>3</td>\n",
       "      <td>Single</td>\n",
       "      <td>2090</td>\n",
       "      <td>Yes</td>\n",
       "      <td>7</td>\n",
       "      <td>3</td>\n",
       "      <td>0</td>\n",
       "      <td>0</td>\n",
       "      <td>0</td>\n",
       "      <td>0</td>\n",
       "      <td>2</td>\n",
       "    </tr>\n",
       "    <tr>\n",
       "      <th>14</th>\n",
       "      <td>28</td>\n",
       "      <td>1</td>\n",
       "      <td>Travel_Rarely</td>\n",
       "      <td>Research &amp; Development</td>\n",
       "      <td>Life Sciences</td>\n",
       "      <td>3</td>\n",
       "      <td>Male</td>\n",
       "      <td>2</td>\n",
       "      <td>1</td>\n",
       "      <td>3</td>\n",
       "      <td>Single</td>\n",
       "      <td>2028</td>\n",
       "      <td>Yes</td>\n",
       "      <td>6</td>\n",
       "      <td>3</td>\n",
       "      <td>4</td>\n",
       "      <td>2</td>\n",
       "      <td>0</td>\n",
       "      <td>3</td>\n",
       "      <td>24</td>\n",
       "    </tr>\n",
       "    <tr>\n",
       "      <th>21</th>\n",
       "      <td>36</td>\n",
       "      <td>1</td>\n",
       "      <td>Travel_Rarely</td>\n",
       "      <td>Sales</td>\n",
       "      <td>Life Sciences</td>\n",
       "      <td>3</td>\n",
       "      <td>Male</td>\n",
       "      <td>2</td>\n",
       "      <td>1</td>\n",
       "      <td>1</td>\n",
       "      <td>Single</td>\n",
       "      <td>3407</td>\n",
       "      <td>No</td>\n",
       "      <td>10</td>\n",
       "      <td>3</td>\n",
       "      <td>5</td>\n",
       "      <td>3</td>\n",
       "      <td>0</td>\n",
       "      <td>3</td>\n",
       "      <td>9</td>\n",
       "    </tr>\n",
       "    <tr>\n",
       "      <th>24</th>\n",
       "      <td>34</td>\n",
       "      <td>1</td>\n",
       "      <td>Travel_Rarely</td>\n",
       "      <td>Research &amp; Development</td>\n",
       "      <td>Medical</td>\n",
       "      <td>2</td>\n",
       "      <td>Male</td>\n",
       "      <td>3</td>\n",
       "      <td>1</td>\n",
       "      <td>1</td>\n",
       "      <td>Single</td>\n",
       "      <td>2960</td>\n",
       "      <td>No</td>\n",
       "      <td>8</td>\n",
       "      <td>3</td>\n",
       "      <td>4</td>\n",
       "      <td>2</td>\n",
       "      <td>1</td>\n",
       "      <td>3</td>\n",
       "      <td>6</td>\n",
       "    </tr>\n",
       "    <tr>\n",
       "      <th>...</th>\n",
       "      <td>...</td>\n",
       "      <td>...</td>\n",
       "      <td>...</td>\n",
       "      <td>...</td>\n",
       "      <td>...</td>\n",
       "      <td>...</td>\n",
       "      <td>...</td>\n",
       "      <td>...</td>\n",
       "      <td>...</td>\n",
       "      <td>...</td>\n",
       "      <td>...</td>\n",
       "      <td>...</td>\n",
       "      <td>...</td>\n",
       "      <td>...</td>\n",
       "      <td>...</td>\n",
       "      <td>...</td>\n",
       "      <td>...</td>\n",
       "      <td>...</td>\n",
       "      <td>...</td>\n",
       "      <td>...</td>\n",
       "    </tr>\n",
       "    <tr>\n",
       "      <th>1438</th>\n",
       "      <td>23</td>\n",
       "      <td>1</td>\n",
       "      <td>Travel_Frequently</td>\n",
       "      <td>Sales</td>\n",
       "      <td>Marketing</td>\n",
       "      <td>4</td>\n",
       "      <td>Male</td>\n",
       "      <td>3</td>\n",
       "      <td>1</td>\n",
       "      <td>1</td>\n",
       "      <td>Married</td>\n",
       "      <td>1790</td>\n",
       "      <td>No</td>\n",
       "      <td>1</td>\n",
       "      <td>2</td>\n",
       "      <td>1</td>\n",
       "      <td>0</td>\n",
       "      <td>1</td>\n",
       "      <td>0</td>\n",
       "      <td>9</td>\n",
       "    </tr>\n",
       "    <tr>\n",
       "      <th>1442</th>\n",
       "      <td>29</td>\n",
       "      <td>1</td>\n",
       "      <td>Travel_Rarely</td>\n",
       "      <td>Research &amp; Development</td>\n",
       "      <td>Medical</td>\n",
       "      <td>1</td>\n",
       "      <td>Male</td>\n",
       "      <td>3</td>\n",
       "      <td>1</td>\n",
       "      <td>4</td>\n",
       "      <td>Married</td>\n",
       "      <td>4787</td>\n",
       "      <td>Yes</td>\n",
       "      <td>4</td>\n",
       "      <td>4</td>\n",
       "      <td>2</td>\n",
       "      <td>2</td>\n",
       "      <td>2</td>\n",
       "      <td>2</td>\n",
       "      <td>1</td>\n",
       "    </tr>\n",
       "    <tr>\n",
       "      <th>1444</th>\n",
       "      <td>56</td>\n",
       "      <td>1</td>\n",
       "      <td>Travel_Rarely</td>\n",
       "      <td>Research &amp; Development</td>\n",
       "      <td>Technical Degree</td>\n",
       "      <td>4</td>\n",
       "      <td>Male</td>\n",
       "      <td>3</td>\n",
       "      <td>1</td>\n",
       "      <td>3</td>\n",
       "      <td>Married</td>\n",
       "      <td>2339</td>\n",
       "      <td>No</td>\n",
       "      <td>14</td>\n",
       "      <td>1</td>\n",
       "      <td>10</td>\n",
       "      <td>9</td>\n",
       "      <td>9</td>\n",
       "      <td>8</td>\n",
       "      <td>7</td>\n",
       "    </tr>\n",
       "    <tr>\n",
       "      <th>1452</th>\n",
       "      <td>50</td>\n",
       "      <td>1</td>\n",
       "      <td>Travel_Frequently</td>\n",
       "      <td>Sales</td>\n",
       "      <td>Life Sciences</td>\n",
       "      <td>2</td>\n",
       "      <td>Male</td>\n",
       "      <td>3</td>\n",
       "      <td>2</td>\n",
       "      <td>3</td>\n",
       "      <td>Divorced</td>\n",
       "      <td>6728</td>\n",
       "      <td>No</td>\n",
       "      <td>12</td>\n",
       "      <td>3</td>\n",
       "      <td>6</td>\n",
       "      <td>3</td>\n",
       "      <td>0</td>\n",
       "      <td>1</td>\n",
       "      <td>1</td>\n",
       "    </tr>\n",
       "    <tr>\n",
       "      <th>1461</th>\n",
       "      <td>50</td>\n",
       "      <td>1</td>\n",
       "      <td>Travel_Rarely</td>\n",
       "      <td>Sales</td>\n",
       "      <td>Marketing</td>\n",
       "      <td>4</td>\n",
       "      <td>Male</td>\n",
       "      <td>2</td>\n",
       "      <td>3</td>\n",
       "      <td>1</td>\n",
       "      <td>Divorced</td>\n",
       "      <td>10854</td>\n",
       "      <td>Yes</td>\n",
       "      <td>20</td>\n",
       "      <td>3</td>\n",
       "      <td>3</td>\n",
       "      <td>2</td>\n",
       "      <td>2</td>\n",
       "      <td>0</td>\n",
       "      <td>28</td>\n",
       "    </tr>\n",
       "  </tbody>\n",
       "</table>\n",
       "<p>237 rows × 20 columns</p>\n",
       "</div>"
      ],
      "text/plain": [
       "      Age  Attrition     BusinessTravel              Department  \\\n",
       "0      41          1      Travel_Rarely                   Sales   \n",
       "2      37          1      Travel_Rarely  Research & Development   \n",
       "14     28          1      Travel_Rarely  Research & Development   \n",
       "21     36          1      Travel_Rarely                   Sales   \n",
       "24     34          1      Travel_Rarely  Research & Development   \n",
       "...   ...        ...                ...                     ...   \n",
       "1438   23          1  Travel_Frequently                   Sales   \n",
       "1442   29          1      Travel_Rarely  Research & Development   \n",
       "1444   56          1      Travel_Rarely  Research & Development   \n",
       "1452   50          1  Travel_Frequently                   Sales   \n",
       "1461   50          1      Travel_Rarely                   Sales   \n",
       "\n",
       "        EducationField  EnvironmentSatisfaction  Gender  JobInvolvement  \\\n",
       "0        Life Sciences                        2  Female               3   \n",
       "2                Other                        4    Male               2   \n",
       "14       Life Sciences                        3    Male               2   \n",
       "21       Life Sciences                        3    Male               2   \n",
       "24             Medical                        2    Male               3   \n",
       "...                ...                      ...     ...             ...   \n",
       "1438         Marketing                        4    Male               3   \n",
       "1442           Medical                        1    Male               3   \n",
       "1444  Technical Degree                        4    Male               3   \n",
       "1452     Life Sciences                        2    Male               3   \n",
       "1461         Marketing                        4    Male               2   \n",
       "\n",
       "      JobLevel  JobSatisfaction MaritalStatus  MonthlyIncome OverTime  \\\n",
       "0            2                4        Single           5993      Yes   \n",
       "2            1                3        Single           2090      Yes   \n",
       "14           1                3        Single           2028      Yes   \n",
       "21           1                1        Single           3407       No   \n",
       "24           1                1        Single           2960       No   \n",
       "...        ...              ...           ...            ...      ...   \n",
       "1438         1                1       Married           1790       No   \n",
       "1442         1                4       Married           4787      Yes   \n",
       "1444         1                3       Married           2339       No   \n",
       "1452         2                3      Divorced           6728       No   \n",
       "1461         3                1      Divorced          10854      Yes   \n",
       "\n",
       "      TotalWorkingYears  WorkLifeBalance  YearsAtCompany  YearsInCurrentRole  \\\n",
       "0                     8                1               6                   4   \n",
       "2                     7                3               0                   0   \n",
       "14                    6                3               4                   2   \n",
       "21                   10                3               5                   3   \n",
       "24                    8                3               4                   2   \n",
       "...                 ...              ...             ...                 ...   \n",
       "1438                  1                2               1                   0   \n",
       "1442                  4                4               2                   2   \n",
       "1444                 14                1              10                   9   \n",
       "1452                 12                3               6                   3   \n",
       "1461                 20                3               3                   2   \n",
       "\n",
       "      YearsSinceLastPromotion  YearsWithCurrManager  DistanceFromHome  \n",
       "0                           0                     5                 1  \n",
       "2                           0                     0                 2  \n",
       "14                          0                     3                24  \n",
       "21                          0                     3                 9  \n",
       "24                          1                     3                 6  \n",
       "...                       ...                   ...               ...  \n",
       "1438                        1                     0                 9  \n",
       "1442                        2                     2                 1  \n",
       "1444                        9                     8                 7  \n",
       "1452                        0                     1                 1  \n",
       "1461                        2                     0                28  \n",
       "\n",
       "[237 rows x 20 columns]"
      ]
     },
     "execution_count": 11,
     "metadata": {},
     "output_type": "execute_result"
    }
   ],
   "source": [
    "#Analysing the data of those employees who left the company out of overall employees\n",
    "a = attrition.loc[(attrition.Attrition == 1),:]\n",
    "a"
   ]
  },
  {
   "cell_type": "code",
   "execution_count": 12,
   "metadata": {
    "colab": {
     "base_uri": "https://localhost:8080/",
     "height": 364
    },
    "executionInfo": {
     "elapsed": 461,
     "status": "ok",
     "timestamp": 1665312991880,
     "user": {
      "displayName": "SAI.SASI.SEKHAR RALLABANDI",
      "userId": "03962991214365984155"
     },
     "user_tz": -330
    },
    "id": "sFETjJSBp_h3",
    "outputId": "1af20295-9b46-42e6-9209-55905ad8f25d"
   },
   "outputs": [
    {
     "data": {
      "text/html": [
       "<div>\n",
       "<style scoped>\n",
       "    .dataframe tbody tr th:only-of-type {\n",
       "        vertical-align: middle;\n",
       "    }\n",
       "\n",
       "    .dataframe tbody tr th {\n",
       "        vertical-align: top;\n",
       "    }\n",
       "\n",
       "    .dataframe thead th {\n",
       "        text-align: right;\n",
       "    }\n",
       "</style>\n",
       "<table border=\"1\" class=\"dataframe\">\n",
       "  <thead>\n",
       "    <tr style=\"text-align: right;\">\n",
       "      <th></th>\n",
       "      <th>Age</th>\n",
       "      <th>Attrition</th>\n",
       "      <th>EnvironmentSatisfaction</th>\n",
       "      <th>JobInvolvement</th>\n",
       "      <th>JobLevel</th>\n",
       "      <th>JobSatisfaction</th>\n",
       "      <th>MonthlyIncome</th>\n",
       "      <th>TotalWorkingYears</th>\n",
       "      <th>WorkLifeBalance</th>\n",
       "      <th>YearsAtCompany</th>\n",
       "      <th>YearsInCurrentRole</th>\n",
       "      <th>YearsSinceLastPromotion</th>\n",
       "      <th>YearsWithCurrManager</th>\n",
       "      <th>DistanceFromHome</th>\n",
       "    </tr>\n",
       "  </thead>\n",
       "  <tbody>\n",
       "    <tr>\n",
       "      <th>count</th>\n",
       "      <td>237.000000</td>\n",
       "      <td>237.0</td>\n",
       "      <td>237.000000</td>\n",
       "      <td>237.000000</td>\n",
       "      <td>237.000000</td>\n",
       "      <td>237.000000</td>\n",
       "      <td>237.000000</td>\n",
       "      <td>237.000000</td>\n",
       "      <td>237.000000</td>\n",
       "      <td>237.000000</td>\n",
       "      <td>237.000000</td>\n",
       "      <td>237.000000</td>\n",
       "      <td>237.000000</td>\n",
       "      <td>237.000000</td>\n",
       "    </tr>\n",
       "    <tr>\n",
       "      <th>mean</th>\n",
       "      <td>33.607595</td>\n",
       "      <td>1.0</td>\n",
       "      <td>2.464135</td>\n",
       "      <td>2.518987</td>\n",
       "      <td>1.637131</td>\n",
       "      <td>2.468354</td>\n",
       "      <td>4787.092827</td>\n",
       "      <td>8.244726</td>\n",
       "      <td>2.658228</td>\n",
       "      <td>5.130802</td>\n",
       "      <td>2.902954</td>\n",
       "      <td>1.945148</td>\n",
       "      <td>2.852321</td>\n",
       "      <td>10.632911</td>\n",
       "    </tr>\n",
       "    <tr>\n",
       "      <th>std</th>\n",
       "      <td>9.689350</td>\n",
       "      <td>0.0</td>\n",
       "      <td>1.169791</td>\n",
       "      <td>0.773405</td>\n",
       "      <td>0.940594</td>\n",
       "      <td>1.118058</td>\n",
       "      <td>3640.210367</td>\n",
       "      <td>7.169204</td>\n",
       "      <td>0.816453</td>\n",
       "      <td>5.949984</td>\n",
       "      <td>3.174827</td>\n",
       "      <td>3.153077</td>\n",
       "      <td>3.143349</td>\n",
       "      <td>8.452525</td>\n",
       "    </tr>\n",
       "    <tr>\n",
       "      <th>min</th>\n",
       "      <td>18.000000</td>\n",
       "      <td>1.0</td>\n",
       "      <td>1.000000</td>\n",
       "      <td>1.000000</td>\n",
       "      <td>1.000000</td>\n",
       "      <td>1.000000</td>\n",
       "      <td>1009.000000</td>\n",
       "      <td>0.000000</td>\n",
       "      <td>1.000000</td>\n",
       "      <td>0.000000</td>\n",
       "      <td>0.000000</td>\n",
       "      <td>0.000000</td>\n",
       "      <td>0.000000</td>\n",
       "      <td>1.000000</td>\n",
       "    </tr>\n",
       "    <tr>\n",
       "      <th>25%</th>\n",
       "      <td>28.000000</td>\n",
       "      <td>1.0</td>\n",
       "      <td>1.000000</td>\n",
       "      <td>2.000000</td>\n",
       "      <td>1.000000</td>\n",
       "      <td>1.000000</td>\n",
       "      <td>2373.000000</td>\n",
       "      <td>3.000000</td>\n",
       "      <td>2.000000</td>\n",
       "      <td>1.000000</td>\n",
       "      <td>0.000000</td>\n",
       "      <td>0.000000</td>\n",
       "      <td>0.000000</td>\n",
       "      <td>3.000000</td>\n",
       "    </tr>\n",
       "    <tr>\n",
       "      <th>50%</th>\n",
       "      <td>32.000000</td>\n",
       "      <td>1.0</td>\n",
       "      <td>3.000000</td>\n",
       "      <td>3.000000</td>\n",
       "      <td>1.000000</td>\n",
       "      <td>3.000000</td>\n",
       "      <td>3202.000000</td>\n",
       "      <td>7.000000</td>\n",
       "      <td>3.000000</td>\n",
       "      <td>3.000000</td>\n",
       "      <td>2.000000</td>\n",
       "      <td>1.000000</td>\n",
       "      <td>2.000000</td>\n",
       "      <td>9.000000</td>\n",
       "    </tr>\n",
       "    <tr>\n",
       "      <th>75%</th>\n",
       "      <td>39.000000</td>\n",
       "      <td>1.0</td>\n",
       "      <td>4.000000</td>\n",
       "      <td>3.000000</td>\n",
       "      <td>2.000000</td>\n",
       "      <td>3.000000</td>\n",
       "      <td>5916.000000</td>\n",
       "      <td>10.000000</td>\n",
       "      <td>3.000000</td>\n",
       "      <td>7.000000</td>\n",
       "      <td>4.000000</td>\n",
       "      <td>2.000000</td>\n",
       "      <td>5.000000</td>\n",
       "      <td>17.000000</td>\n",
       "    </tr>\n",
       "    <tr>\n",
       "      <th>max</th>\n",
       "      <td>58.000000</td>\n",
       "      <td>1.0</td>\n",
       "      <td>4.000000</td>\n",
       "      <td>4.000000</td>\n",
       "      <td>5.000000</td>\n",
       "      <td>4.000000</td>\n",
       "      <td>19859.000000</td>\n",
       "      <td>40.000000</td>\n",
       "      <td>4.000000</td>\n",
       "      <td>40.000000</td>\n",
       "      <td>15.000000</td>\n",
       "      <td>15.000000</td>\n",
       "      <td>14.000000</td>\n",
       "      <td>29.000000</td>\n",
       "    </tr>\n",
       "  </tbody>\n",
       "</table>\n",
       "</div>"
      ],
      "text/plain": [
       "              Age  Attrition  EnvironmentSatisfaction  JobInvolvement  \\\n",
       "count  237.000000      237.0               237.000000      237.000000   \n",
       "mean    33.607595        1.0                 2.464135        2.518987   \n",
       "std      9.689350        0.0                 1.169791        0.773405   \n",
       "min     18.000000        1.0                 1.000000        1.000000   \n",
       "25%     28.000000        1.0                 1.000000        2.000000   \n",
       "50%     32.000000        1.0                 3.000000        3.000000   \n",
       "75%     39.000000        1.0                 4.000000        3.000000   \n",
       "max     58.000000        1.0                 4.000000        4.000000   \n",
       "\n",
       "         JobLevel  JobSatisfaction  MonthlyIncome  TotalWorkingYears  \\\n",
       "count  237.000000       237.000000     237.000000         237.000000   \n",
       "mean     1.637131         2.468354    4787.092827           8.244726   \n",
       "std      0.940594         1.118058    3640.210367           7.169204   \n",
       "min      1.000000         1.000000    1009.000000           0.000000   \n",
       "25%      1.000000         1.000000    2373.000000           3.000000   \n",
       "50%      1.000000         3.000000    3202.000000           7.000000   \n",
       "75%      2.000000         3.000000    5916.000000          10.000000   \n",
       "max      5.000000         4.000000   19859.000000          40.000000   \n",
       "\n",
       "       WorkLifeBalance  YearsAtCompany  YearsInCurrentRole  \\\n",
       "count       237.000000      237.000000          237.000000   \n",
       "mean          2.658228        5.130802            2.902954   \n",
       "std           0.816453        5.949984            3.174827   \n",
       "min           1.000000        0.000000            0.000000   \n",
       "25%           2.000000        1.000000            0.000000   \n",
       "50%           3.000000        3.000000            2.000000   \n",
       "75%           3.000000        7.000000            4.000000   \n",
       "max           4.000000       40.000000           15.000000   \n",
       "\n",
       "       YearsSinceLastPromotion  YearsWithCurrManager  DistanceFromHome  \n",
       "count               237.000000            237.000000        237.000000  \n",
       "mean                  1.945148              2.852321         10.632911  \n",
       "std                   3.153077              3.143349          8.452525  \n",
       "min                   0.000000              0.000000          1.000000  \n",
       "25%                   0.000000              0.000000          3.000000  \n",
       "50%                   1.000000              2.000000          9.000000  \n",
       "75%                   2.000000              5.000000         17.000000  \n",
       "max                  15.000000             14.000000         29.000000  "
      ]
     },
     "execution_count": 12,
     "metadata": {},
     "output_type": "execute_result"
    }
   ],
   "source": [
    "a.describe()"
   ]
  },
  {
   "cell_type": "code",
   "execution_count": 13,
   "metadata": {
    "colab": {
     "base_uri": "https://localhost:8080/",
     "height": 644
    },
    "executionInfo": {
     "elapsed": 9,
     "status": "ok",
     "timestamp": 1665312991880,
     "user": {
      "displayName": "SAI.SASI.SEKHAR RALLABANDI",
      "userId": "03962991214365984155"
     },
     "user_tz": -330
    },
    "id": "t9yEcA6hp_ko",
    "outputId": "51446b8b-552f-4341-ee76-7754fd501519"
   },
   "outputs": [
    {
     "data": {
      "text/html": [
       "<div>\n",
       "<style scoped>\n",
       "    .dataframe tbody tr th:only-of-type {\n",
       "        vertical-align: middle;\n",
       "    }\n",
       "\n",
       "    .dataframe tbody tr th {\n",
       "        vertical-align: top;\n",
       "    }\n",
       "\n",
       "    .dataframe thead th {\n",
       "        text-align: right;\n",
       "    }\n",
       "</style>\n",
       "<table border=\"1\" class=\"dataframe\">\n",
       "  <thead>\n",
       "    <tr style=\"text-align: right;\">\n",
       "      <th></th>\n",
       "      <th>Age</th>\n",
       "      <th>Attrition</th>\n",
       "      <th>BusinessTravel</th>\n",
       "      <th>Department</th>\n",
       "      <th>EducationField</th>\n",
       "      <th>EnvironmentSatisfaction</th>\n",
       "      <th>Gender</th>\n",
       "      <th>JobInvolvement</th>\n",
       "      <th>JobLevel</th>\n",
       "      <th>JobSatisfaction</th>\n",
       "      <th>MaritalStatus</th>\n",
       "      <th>MonthlyIncome</th>\n",
       "      <th>OverTime</th>\n",
       "      <th>TotalWorkingYears</th>\n",
       "      <th>WorkLifeBalance</th>\n",
       "      <th>YearsAtCompany</th>\n",
       "      <th>YearsInCurrentRole</th>\n",
       "      <th>YearsSinceLastPromotion</th>\n",
       "      <th>YearsWithCurrManager</th>\n",
       "      <th>DistanceFromHome</th>\n",
       "    </tr>\n",
       "  </thead>\n",
       "  <tbody>\n",
       "    <tr>\n",
       "      <th>1</th>\n",
       "      <td>49</td>\n",
       "      <td>0</td>\n",
       "      <td>Travel_Frequently</td>\n",
       "      <td>Research &amp; Development</td>\n",
       "      <td>Life Sciences</td>\n",
       "      <td>3</td>\n",
       "      <td>Male</td>\n",
       "      <td>2</td>\n",
       "      <td>2</td>\n",
       "      <td>2</td>\n",
       "      <td>Married</td>\n",
       "      <td>5130</td>\n",
       "      <td>No</td>\n",
       "      <td>10</td>\n",
       "      <td>3</td>\n",
       "      <td>10</td>\n",
       "      <td>7</td>\n",
       "      <td>1</td>\n",
       "      <td>7</td>\n",
       "      <td>8</td>\n",
       "    </tr>\n",
       "    <tr>\n",
       "      <th>3</th>\n",
       "      <td>33</td>\n",
       "      <td>0</td>\n",
       "      <td>Travel_Frequently</td>\n",
       "      <td>Research &amp; Development</td>\n",
       "      <td>Life Sciences</td>\n",
       "      <td>4</td>\n",
       "      <td>Female</td>\n",
       "      <td>3</td>\n",
       "      <td>1</td>\n",
       "      <td>3</td>\n",
       "      <td>Married</td>\n",
       "      <td>2909</td>\n",
       "      <td>Yes</td>\n",
       "      <td>8</td>\n",
       "      <td>3</td>\n",
       "      <td>8</td>\n",
       "      <td>7</td>\n",
       "      <td>3</td>\n",
       "      <td>0</td>\n",
       "      <td>3</td>\n",
       "    </tr>\n",
       "    <tr>\n",
       "      <th>4</th>\n",
       "      <td>27</td>\n",
       "      <td>0</td>\n",
       "      <td>Travel_Rarely</td>\n",
       "      <td>Research &amp; Development</td>\n",
       "      <td>Medical</td>\n",
       "      <td>1</td>\n",
       "      <td>Male</td>\n",
       "      <td>3</td>\n",
       "      <td>1</td>\n",
       "      <td>2</td>\n",
       "      <td>Married</td>\n",
       "      <td>3468</td>\n",
       "      <td>No</td>\n",
       "      <td>6</td>\n",
       "      <td>3</td>\n",
       "      <td>2</td>\n",
       "      <td>2</td>\n",
       "      <td>2</td>\n",
       "      <td>2</td>\n",
       "      <td>2</td>\n",
       "    </tr>\n",
       "    <tr>\n",
       "      <th>5</th>\n",
       "      <td>32</td>\n",
       "      <td>0</td>\n",
       "      <td>Travel_Frequently</td>\n",
       "      <td>Research &amp; Development</td>\n",
       "      <td>Life Sciences</td>\n",
       "      <td>4</td>\n",
       "      <td>Male</td>\n",
       "      <td>3</td>\n",
       "      <td>1</td>\n",
       "      <td>4</td>\n",
       "      <td>Single</td>\n",
       "      <td>3068</td>\n",
       "      <td>No</td>\n",
       "      <td>8</td>\n",
       "      <td>2</td>\n",
       "      <td>7</td>\n",
       "      <td>7</td>\n",
       "      <td>3</td>\n",
       "      <td>6</td>\n",
       "      <td>2</td>\n",
       "    </tr>\n",
       "    <tr>\n",
       "      <th>6</th>\n",
       "      <td>59</td>\n",
       "      <td>0</td>\n",
       "      <td>Travel_Rarely</td>\n",
       "      <td>Research &amp; Development</td>\n",
       "      <td>Medical</td>\n",
       "      <td>3</td>\n",
       "      <td>Female</td>\n",
       "      <td>4</td>\n",
       "      <td>1</td>\n",
       "      <td>1</td>\n",
       "      <td>Married</td>\n",
       "      <td>2670</td>\n",
       "      <td>Yes</td>\n",
       "      <td>12</td>\n",
       "      <td>2</td>\n",
       "      <td>1</td>\n",
       "      <td>0</td>\n",
       "      <td>0</td>\n",
       "      <td>0</td>\n",
       "      <td>3</td>\n",
       "    </tr>\n",
       "    <tr>\n",
       "      <th>...</th>\n",
       "      <td>...</td>\n",
       "      <td>...</td>\n",
       "      <td>...</td>\n",
       "      <td>...</td>\n",
       "      <td>...</td>\n",
       "      <td>...</td>\n",
       "      <td>...</td>\n",
       "      <td>...</td>\n",
       "      <td>...</td>\n",
       "      <td>...</td>\n",
       "      <td>...</td>\n",
       "      <td>...</td>\n",
       "      <td>...</td>\n",
       "      <td>...</td>\n",
       "      <td>...</td>\n",
       "      <td>...</td>\n",
       "      <td>...</td>\n",
       "      <td>...</td>\n",
       "      <td>...</td>\n",
       "      <td>...</td>\n",
       "    </tr>\n",
       "    <tr>\n",
       "      <th>1465</th>\n",
       "      <td>36</td>\n",
       "      <td>0</td>\n",
       "      <td>Travel_Frequently</td>\n",
       "      <td>Research &amp; Development</td>\n",
       "      <td>Medical</td>\n",
       "      <td>3</td>\n",
       "      <td>Male</td>\n",
       "      <td>4</td>\n",
       "      <td>2</td>\n",
       "      <td>4</td>\n",
       "      <td>Married</td>\n",
       "      <td>2571</td>\n",
       "      <td>No</td>\n",
       "      <td>17</td>\n",
       "      <td>3</td>\n",
       "      <td>5</td>\n",
       "      <td>2</td>\n",
       "      <td>0</td>\n",
       "      <td>3</td>\n",
       "      <td>23</td>\n",
       "    </tr>\n",
       "    <tr>\n",
       "      <th>1466</th>\n",
       "      <td>39</td>\n",
       "      <td>0</td>\n",
       "      <td>Travel_Rarely</td>\n",
       "      <td>Research &amp; Development</td>\n",
       "      <td>Medical</td>\n",
       "      <td>4</td>\n",
       "      <td>Male</td>\n",
       "      <td>2</td>\n",
       "      <td>3</td>\n",
       "      <td>1</td>\n",
       "      <td>Married</td>\n",
       "      <td>9991</td>\n",
       "      <td>No</td>\n",
       "      <td>9</td>\n",
       "      <td>3</td>\n",
       "      <td>7</td>\n",
       "      <td>7</td>\n",
       "      <td>1</td>\n",
       "      <td>7</td>\n",
       "      <td>6</td>\n",
       "    </tr>\n",
       "    <tr>\n",
       "      <th>1467</th>\n",
       "      <td>27</td>\n",
       "      <td>0</td>\n",
       "      <td>Travel_Rarely</td>\n",
       "      <td>Research &amp; Development</td>\n",
       "      <td>Life Sciences</td>\n",
       "      <td>2</td>\n",
       "      <td>Male</td>\n",
       "      <td>4</td>\n",
       "      <td>2</td>\n",
       "      <td>2</td>\n",
       "      <td>Married</td>\n",
       "      <td>6142</td>\n",
       "      <td>Yes</td>\n",
       "      <td>6</td>\n",
       "      <td>3</td>\n",
       "      <td>6</td>\n",
       "      <td>2</td>\n",
       "      <td>0</td>\n",
       "      <td>3</td>\n",
       "      <td>4</td>\n",
       "    </tr>\n",
       "    <tr>\n",
       "      <th>1468</th>\n",
       "      <td>49</td>\n",
       "      <td>0</td>\n",
       "      <td>Travel_Frequently</td>\n",
       "      <td>Sales</td>\n",
       "      <td>Medical</td>\n",
       "      <td>4</td>\n",
       "      <td>Male</td>\n",
       "      <td>2</td>\n",
       "      <td>2</td>\n",
       "      <td>2</td>\n",
       "      <td>Married</td>\n",
       "      <td>5390</td>\n",
       "      <td>No</td>\n",
       "      <td>17</td>\n",
       "      <td>2</td>\n",
       "      <td>9</td>\n",
       "      <td>6</td>\n",
       "      <td>0</td>\n",
       "      <td>8</td>\n",
       "      <td>2</td>\n",
       "    </tr>\n",
       "    <tr>\n",
       "      <th>1469</th>\n",
       "      <td>34</td>\n",
       "      <td>0</td>\n",
       "      <td>Travel_Rarely</td>\n",
       "      <td>Research &amp; Development</td>\n",
       "      <td>Medical</td>\n",
       "      <td>2</td>\n",
       "      <td>Male</td>\n",
       "      <td>4</td>\n",
       "      <td>2</td>\n",
       "      <td>3</td>\n",
       "      <td>Married</td>\n",
       "      <td>4404</td>\n",
       "      <td>No</td>\n",
       "      <td>6</td>\n",
       "      <td>4</td>\n",
       "      <td>4</td>\n",
       "      <td>3</td>\n",
       "      <td>1</td>\n",
       "      <td>2</td>\n",
       "      <td>8</td>\n",
       "    </tr>\n",
       "  </tbody>\n",
       "</table>\n",
       "<p>1233 rows × 20 columns</p>\n",
       "</div>"
      ],
      "text/plain": [
       "      Age  Attrition     BusinessTravel              Department  \\\n",
       "1      49          0  Travel_Frequently  Research & Development   \n",
       "3      33          0  Travel_Frequently  Research & Development   \n",
       "4      27          0      Travel_Rarely  Research & Development   \n",
       "5      32          0  Travel_Frequently  Research & Development   \n",
       "6      59          0      Travel_Rarely  Research & Development   \n",
       "...   ...        ...                ...                     ...   \n",
       "1465   36          0  Travel_Frequently  Research & Development   \n",
       "1466   39          0      Travel_Rarely  Research & Development   \n",
       "1467   27          0      Travel_Rarely  Research & Development   \n",
       "1468   49          0  Travel_Frequently                   Sales   \n",
       "1469   34          0      Travel_Rarely  Research & Development   \n",
       "\n",
       "     EducationField  EnvironmentSatisfaction  Gender  JobInvolvement  \\\n",
       "1     Life Sciences                        3    Male               2   \n",
       "3     Life Sciences                        4  Female               3   \n",
       "4           Medical                        1    Male               3   \n",
       "5     Life Sciences                        4    Male               3   \n",
       "6           Medical                        3  Female               4   \n",
       "...             ...                      ...     ...             ...   \n",
       "1465        Medical                        3    Male               4   \n",
       "1466        Medical                        4    Male               2   \n",
       "1467  Life Sciences                        2    Male               4   \n",
       "1468        Medical                        4    Male               2   \n",
       "1469        Medical                        2    Male               4   \n",
       "\n",
       "      JobLevel  JobSatisfaction MaritalStatus  MonthlyIncome OverTime  \\\n",
       "1            2                2       Married           5130       No   \n",
       "3            1                3       Married           2909      Yes   \n",
       "4            1                2       Married           3468       No   \n",
       "5            1                4        Single           3068       No   \n",
       "6            1                1       Married           2670      Yes   \n",
       "...        ...              ...           ...            ...      ...   \n",
       "1465         2                4       Married           2571       No   \n",
       "1466         3                1       Married           9991       No   \n",
       "1467         2                2       Married           6142      Yes   \n",
       "1468         2                2       Married           5390       No   \n",
       "1469         2                3       Married           4404       No   \n",
       "\n",
       "      TotalWorkingYears  WorkLifeBalance  YearsAtCompany  YearsInCurrentRole  \\\n",
       "1                    10                3              10                   7   \n",
       "3                     8                3               8                   7   \n",
       "4                     6                3               2                   2   \n",
       "5                     8                2               7                   7   \n",
       "6                    12                2               1                   0   \n",
       "...                 ...              ...             ...                 ...   \n",
       "1465                 17                3               5                   2   \n",
       "1466                  9                3               7                   7   \n",
       "1467                  6                3               6                   2   \n",
       "1468                 17                2               9                   6   \n",
       "1469                  6                4               4                   3   \n",
       "\n",
       "      YearsSinceLastPromotion  YearsWithCurrManager  DistanceFromHome  \n",
       "1                           1                     7                 8  \n",
       "3                           3                     0                 3  \n",
       "4                           2                     2                 2  \n",
       "5                           3                     6                 2  \n",
       "6                           0                     0                 3  \n",
       "...                       ...                   ...               ...  \n",
       "1465                        0                     3                23  \n",
       "1466                        1                     7                 6  \n",
       "1467                        0                     3                 4  \n",
       "1468                        0                     8                 2  \n",
       "1469                        1                     2                 8  \n",
       "\n",
       "[1233 rows x 20 columns]"
      ]
     },
     "execution_count": 13,
     "metadata": {},
     "output_type": "execute_result"
    }
   ],
   "source": [
    "#Analysing the data of those employees who are working in the company out of overall employees\n",
    "b = attrition.loc[(attrition.Attrition == 0),:]\n",
    "b"
   ]
  },
  {
   "cell_type": "code",
   "execution_count": 14,
   "metadata": {
    "colab": {
     "base_uri": "https://localhost:8080/",
     "height": 364
    },
    "executionInfo": {
     "elapsed": 7,
     "status": "ok",
     "timestamp": 1665312991880,
     "user": {
      "displayName": "SAI.SASI.SEKHAR RALLABANDI",
      "userId": "03962991214365984155"
     },
     "user_tz": -330
    },
    "id": "akUea1bWp_nJ",
    "outputId": "48582233-2c49-44a7-a1fe-35823ddc6951"
   },
   "outputs": [
    {
     "data": {
      "text/html": [
       "<div>\n",
       "<style scoped>\n",
       "    .dataframe tbody tr th:only-of-type {\n",
       "        vertical-align: middle;\n",
       "    }\n",
       "\n",
       "    .dataframe tbody tr th {\n",
       "        vertical-align: top;\n",
       "    }\n",
       "\n",
       "    .dataframe thead th {\n",
       "        text-align: right;\n",
       "    }\n",
       "</style>\n",
       "<table border=\"1\" class=\"dataframe\">\n",
       "  <thead>\n",
       "    <tr style=\"text-align: right;\">\n",
       "      <th></th>\n",
       "      <th>Age</th>\n",
       "      <th>Attrition</th>\n",
       "      <th>EnvironmentSatisfaction</th>\n",
       "      <th>JobInvolvement</th>\n",
       "      <th>JobLevel</th>\n",
       "      <th>JobSatisfaction</th>\n",
       "      <th>MonthlyIncome</th>\n",
       "      <th>TotalWorkingYears</th>\n",
       "      <th>WorkLifeBalance</th>\n",
       "      <th>YearsAtCompany</th>\n",
       "      <th>YearsInCurrentRole</th>\n",
       "      <th>YearsSinceLastPromotion</th>\n",
       "      <th>YearsWithCurrManager</th>\n",
       "      <th>DistanceFromHome</th>\n",
       "    </tr>\n",
       "  </thead>\n",
       "  <tbody>\n",
       "    <tr>\n",
       "      <th>count</th>\n",
       "      <td>1233.000000</td>\n",
       "      <td>1233.0</td>\n",
       "      <td>1233.000000</td>\n",
       "      <td>1233.000000</td>\n",
       "      <td>1233.000000</td>\n",
       "      <td>1233.000000</td>\n",
       "      <td>1233.000000</td>\n",
       "      <td>1233.000000</td>\n",
       "      <td>1233.000000</td>\n",
       "      <td>1233.000000</td>\n",
       "      <td>1233.000000</td>\n",
       "      <td>1233.000000</td>\n",
       "      <td>1233.000000</td>\n",
       "      <td>1233.000000</td>\n",
       "    </tr>\n",
       "    <tr>\n",
       "      <th>mean</th>\n",
       "      <td>37.561233</td>\n",
       "      <td>0.0</td>\n",
       "      <td>2.771290</td>\n",
       "      <td>2.770479</td>\n",
       "      <td>2.145985</td>\n",
       "      <td>2.778589</td>\n",
       "      <td>6832.739659</td>\n",
       "      <td>11.862936</td>\n",
       "      <td>2.781022</td>\n",
       "      <td>7.369019</td>\n",
       "      <td>4.484185</td>\n",
       "      <td>2.234388</td>\n",
       "      <td>4.367397</td>\n",
       "      <td>8.915653</td>\n",
       "    </tr>\n",
       "    <tr>\n",
       "      <th>std</th>\n",
       "      <td>8.888360</td>\n",
       "      <td>0.0</td>\n",
       "      <td>1.071132</td>\n",
       "      <td>0.692050</td>\n",
       "      <td>1.117933</td>\n",
       "      <td>1.093277</td>\n",
       "      <td>4818.208001</td>\n",
       "      <td>7.760719</td>\n",
       "      <td>0.681907</td>\n",
       "      <td>6.096298</td>\n",
       "      <td>3.649402</td>\n",
       "      <td>3.234762</td>\n",
       "      <td>3.594116</td>\n",
       "      <td>8.012633</td>\n",
       "    </tr>\n",
       "    <tr>\n",
       "      <th>min</th>\n",
       "      <td>18.000000</td>\n",
       "      <td>0.0</td>\n",
       "      <td>1.000000</td>\n",
       "      <td>1.000000</td>\n",
       "      <td>1.000000</td>\n",
       "      <td>1.000000</td>\n",
       "      <td>1051.000000</td>\n",
       "      <td>0.000000</td>\n",
       "      <td>1.000000</td>\n",
       "      <td>0.000000</td>\n",
       "      <td>0.000000</td>\n",
       "      <td>0.000000</td>\n",
       "      <td>0.000000</td>\n",
       "      <td>1.000000</td>\n",
       "    </tr>\n",
       "    <tr>\n",
       "      <th>25%</th>\n",
       "      <td>31.000000</td>\n",
       "      <td>0.0</td>\n",
       "      <td>2.000000</td>\n",
       "      <td>2.000000</td>\n",
       "      <td>1.000000</td>\n",
       "      <td>2.000000</td>\n",
       "      <td>3211.000000</td>\n",
       "      <td>6.000000</td>\n",
       "      <td>2.000000</td>\n",
       "      <td>3.000000</td>\n",
       "      <td>2.000000</td>\n",
       "      <td>0.000000</td>\n",
       "      <td>2.000000</td>\n",
       "      <td>2.000000</td>\n",
       "    </tr>\n",
       "    <tr>\n",
       "      <th>50%</th>\n",
       "      <td>36.000000</td>\n",
       "      <td>0.0</td>\n",
       "      <td>3.000000</td>\n",
       "      <td>3.000000</td>\n",
       "      <td>2.000000</td>\n",
       "      <td>3.000000</td>\n",
       "      <td>5204.000000</td>\n",
       "      <td>10.000000</td>\n",
       "      <td>3.000000</td>\n",
       "      <td>6.000000</td>\n",
       "      <td>3.000000</td>\n",
       "      <td>1.000000</td>\n",
       "      <td>3.000000</td>\n",
       "      <td>7.000000</td>\n",
       "    </tr>\n",
       "    <tr>\n",
       "      <th>75%</th>\n",
       "      <td>43.000000</td>\n",
       "      <td>0.0</td>\n",
       "      <td>4.000000</td>\n",
       "      <td>3.000000</td>\n",
       "      <td>3.000000</td>\n",
       "      <td>4.000000</td>\n",
       "      <td>8834.000000</td>\n",
       "      <td>16.000000</td>\n",
       "      <td>3.000000</td>\n",
       "      <td>10.000000</td>\n",
       "      <td>7.000000</td>\n",
       "      <td>3.000000</td>\n",
       "      <td>7.000000</td>\n",
       "      <td>13.000000</td>\n",
       "    </tr>\n",
       "    <tr>\n",
       "      <th>max</th>\n",
       "      <td>60.000000</td>\n",
       "      <td>0.0</td>\n",
       "      <td>4.000000</td>\n",
       "      <td>4.000000</td>\n",
       "      <td>5.000000</td>\n",
       "      <td>4.000000</td>\n",
       "      <td>19999.000000</td>\n",
       "      <td>38.000000</td>\n",
       "      <td>4.000000</td>\n",
       "      <td>37.000000</td>\n",
       "      <td>18.000000</td>\n",
       "      <td>15.000000</td>\n",
       "      <td>17.000000</td>\n",
       "      <td>29.000000</td>\n",
       "    </tr>\n",
       "  </tbody>\n",
       "</table>\n",
       "</div>"
      ],
      "text/plain": [
       "               Age  Attrition  EnvironmentSatisfaction  JobInvolvement  \\\n",
       "count  1233.000000     1233.0              1233.000000     1233.000000   \n",
       "mean     37.561233        0.0                 2.771290        2.770479   \n",
       "std       8.888360        0.0                 1.071132        0.692050   \n",
       "min      18.000000        0.0                 1.000000        1.000000   \n",
       "25%      31.000000        0.0                 2.000000        2.000000   \n",
       "50%      36.000000        0.0                 3.000000        3.000000   \n",
       "75%      43.000000        0.0                 4.000000        3.000000   \n",
       "max      60.000000        0.0                 4.000000        4.000000   \n",
       "\n",
       "          JobLevel  JobSatisfaction  MonthlyIncome  TotalWorkingYears  \\\n",
       "count  1233.000000      1233.000000    1233.000000        1233.000000   \n",
       "mean      2.145985         2.778589    6832.739659          11.862936   \n",
       "std       1.117933         1.093277    4818.208001           7.760719   \n",
       "min       1.000000         1.000000    1051.000000           0.000000   \n",
       "25%       1.000000         2.000000    3211.000000           6.000000   \n",
       "50%       2.000000         3.000000    5204.000000          10.000000   \n",
       "75%       3.000000         4.000000    8834.000000          16.000000   \n",
       "max       5.000000         4.000000   19999.000000          38.000000   \n",
       "\n",
       "       WorkLifeBalance  YearsAtCompany  YearsInCurrentRole  \\\n",
       "count      1233.000000     1233.000000         1233.000000   \n",
       "mean          2.781022        7.369019            4.484185   \n",
       "std           0.681907        6.096298            3.649402   \n",
       "min           1.000000        0.000000            0.000000   \n",
       "25%           2.000000        3.000000            2.000000   \n",
       "50%           3.000000        6.000000            3.000000   \n",
       "75%           3.000000       10.000000            7.000000   \n",
       "max           4.000000       37.000000           18.000000   \n",
       "\n",
       "       YearsSinceLastPromotion  YearsWithCurrManager  DistanceFromHome  \n",
       "count              1233.000000           1233.000000       1233.000000  \n",
       "mean                  2.234388              4.367397          8.915653  \n",
       "std                   3.234762              3.594116          8.012633  \n",
       "min                   0.000000              0.000000          1.000000  \n",
       "25%                   0.000000              2.000000          2.000000  \n",
       "50%                   1.000000              3.000000          7.000000  \n",
       "75%                   3.000000              7.000000         13.000000  \n",
       "max                  15.000000             17.000000         29.000000  "
      ]
     },
     "execution_count": 14,
     "metadata": {},
     "output_type": "execute_result"
    }
   ],
   "source": [
    "b.describe()"
   ]
  },
  {
   "cell_type": "markdown",
   "metadata": {
    "id": "Soehsi8CGfaj"
   },
   "source": [
    "Basic Observations of the given Data set:  \n",
    "\n",
    "1)Our Target variable / Label - Attrition has two values,0 - staying in the company(No attrition),1 - Leaving the company(Attrition)   \n",
    "2)The total size of the data set is 1470 rows x 20 Columns    \n",
    "3)The given data set is having composition of both 'int' type variables and 'object' type variables. Out of the total variables, there are 14 integer variables and 6 object type variables.    \n",
    "4)There are no Null values and duplicate values in the dataset   \n",
    "\n",
    "Under our analysis of the given data set, Describing Integer type Variables:\n",
    "\n",
    "1) Age:                \n",
    "The average age of all the employees is little less than 37.     \n",
    "The variance of age about the mean is nearly 9.      \n",
    "The minimum age of employee is 18.      \n",
    "Around 367 out of 1470 employees are having age less than 30.50% of the employees i.e., 735 employees are having age less than 36, Remaining 735 employees having age greater than 36.    \n",
    "Around 367 out of 1470 employees are having age greater than 43. While the maximum age of employees being 60.\n",
    "\n",
    "2) Monthly Income:   \n",
    "The average monthly income of all the employees is nearly 6503.   \n",
    "The variance of monthly income about the mean is nearly 4707.   \n",
    "The lowest monthly income of all the employees is 1009.   \n",
    "Around 367 out of 1470 employees are having monthly income less than 2911. \n",
    "50% of the employees i.e., 735 employees are having monthly income less than 4919, Remaining 735 employees having monthly income greater than 4919.    \n",
    "Around 367 out of 1470 employees are having monthly income greater than 8379. While the maximum age of employees being 19999.\n",
    "\n",
    "3) Total Working Years:   \n",
    "The average Total Working Years of all the employees is nearly 11.   \n",
    "The variance of Total Working Years about the mean is nearly 8.   \n",
    "The lowest Total Working Years of all the employees is 0.   \n",
    "Around 367 out of 1470 employees are having Total Working Years less than 6. \n",
    "50% of the employees i.e., 735 employees are having Total Working Years less than 10, Remaining 735 employees having Total Working Years greater than 10.    \n",
    "Around 367 out of 1470 employees are having Total Working Years greater than 15. While the maximum Total Working Years of employees being 40.\n",
    "\n",
    "4) Years at Company:\n",
    "The average Years at Company of all the employees is nearly 7.   \n",
    "The variance of Years at Company about the mean is nearly 6.   \n",
    "The lowest Years at Company of all the employees is 0.   \n",
    "Around 367 out of 1470 employees are having Years at Company less than 3. \n",
    "50% of the employees i.e., 735 employees are having Years at Company less than 5, Remaining 735 employees having Years at Company greater than 5.    \n",
    "Around 367 out of 1470 employees are having Years at Company greater than 9. While the maximum Years at Company of employees being 40.  \n",
    "\n",
    "5) Years in Current Role:   \n",
    "The average Years in Current Role of all the employees is nearly 4.   \n",
    "The variance of Years in Current Role about the mean is nearly 3.5.   \n",
    "The lowest Years in Current Role of all the employees is 0.   \n",
    "Around 367 out of 1470 employees are having Years in Current Role less than 2. \n",
    "50% of the employees i.e., 735 employees are having Years in Current Role less than 3, Remaining 735 employees having Years in Current Role greater than 3.    \n",
    "Around 367 out of 1470 employees are having Years in Current Role greater than 7. While the maximum Years in Current Role of employees being 18.  \n",
    "\n",
    "\n",
    "6) Years since last promotion    \n",
    "The average Years since last promotion of all the employees is nearly 2.   \n",
    "The variance of Years since last promotion about the mean is nearly 3.   \n",
    "The lowest Years since last promotion of all the employees is 0.   \n",
    "Around 367 out of 1470 employees are having Years since last promotion less than 0. \n",
    "50% of the employees i.e., 735 employees are having Years since last promotion less than 1, Remaining 735 employees having Years since last promotion greater than 1.    \n",
    "Around 367 out of 1470 employees are having Years since last promotion greater than 3. While the maximum Years since last promotion of employees being 15. \n",
    "\n",
    "7) Years with Current Manager     \n",
    "The average Years with Current Manager of all the employees is nearly 4.   \n",
    "The variance of Years with Current Manager about the mean is nearly 3.5.   \n",
    "The lowest Years with Current Manager of all the employees is 0.   \n",
    "Around 367 out of 1470 employees are having Years with Current Manager less than 2. \n",
    "50% of the employees i.e., 735 employees are having Years with Current Manager less than 3, Remaining 735 employees having Years with Current Manager greater than 3.    \n",
    "Around 367 out of 1470 employees are having Years with Current Manager greater than 7. While the maximum Years with Current Manager of employees being 17. \n",
    "\n",
    "8) Distance From Home          \n",
    "The average Distance From Home of all the employees is nearly 9.   \n",
    "The variance of Distance From Home about the mean is nearly 8.   \n",
    "The lowest Distance From Home of all the employees is 1.   \n",
    "Around 367 out of 1470 employees are having Distance From Home less than 2. \n",
    "50% of the employees i.e., 735 employees are having Distance From Home less than 7, Remaining 735 employees having Distance From Home greater than 7.    \n",
    "Around 367 out of 1470 employees are having Distance From Home greater than 14. While the maximum Distance From Home of employees being 29.\n"
   ]
  },
  {
   "cell_type": "markdown",
   "metadata": {
    "id": "JZ7k0_-bkGw9"
   },
   "source": [
    "The describe() method gives the 8 point summary of the descriptive statistics   \n",
    "It is for all the numerical variables in the data     "
   ]
  },
  {
   "cell_type": "markdown",
   "metadata": {
    "id": "xBrrtemLkUp-"
   },
   "source": [
    "1. Age"
   ]
  },
  {
   "cell_type": "code",
   "execution_count": 15,
   "metadata": {
    "colab": {
     "base_uri": "https://localhost:8080/",
     "height": 175
    },
    "executionInfo": {
     "elapsed": 439,
     "status": "ok",
     "timestamp": 1665312992313,
     "user": {
      "displayName": "SAI.SASI.SEKHAR RALLABANDI",
      "userId": "03962991214365984155"
     },
     "user_tz": -330
    },
    "id": "U2wqN3fakD1r",
    "outputId": "a1be1b47-3d90-4694-b28a-37555f1eeb1a"
   },
   "outputs": [
    {
     "data": {
      "text/html": [
       "<div>\n",
       "<style scoped>\n",
       "    .dataframe tbody tr th:only-of-type {\n",
       "        vertical-align: middle;\n",
       "    }\n",
       "\n",
       "    .dataframe tbody tr th {\n",
       "        vertical-align: top;\n",
       "    }\n",
       "\n",
       "    .dataframe thead tr th {\n",
       "        text-align: left;\n",
       "    }\n",
       "\n",
       "    .dataframe thead tr:last-of-type th {\n",
       "        text-align: right;\n",
       "    }\n",
       "</style>\n",
       "<table border=\"1\" class=\"dataframe\">\n",
       "  <thead>\n",
       "    <tr>\n",
       "      <th></th>\n",
       "      <th colspan=\"8\" halign=\"left\">Age</th>\n",
       "    </tr>\n",
       "    <tr>\n",
       "      <th></th>\n",
       "      <th>count</th>\n",
       "      <th>mean</th>\n",
       "      <th>std</th>\n",
       "      <th>min</th>\n",
       "      <th>25%</th>\n",
       "      <th>50%</th>\n",
       "      <th>75%</th>\n",
       "      <th>max</th>\n",
       "    </tr>\n",
       "    <tr>\n",
       "      <th>Attrition</th>\n",
       "      <th></th>\n",
       "      <th></th>\n",
       "      <th></th>\n",
       "      <th></th>\n",
       "      <th></th>\n",
       "      <th></th>\n",
       "      <th></th>\n",
       "      <th></th>\n",
       "    </tr>\n",
       "  </thead>\n",
       "  <tbody>\n",
       "    <tr>\n",
       "      <th>0</th>\n",
       "      <td>1233.0</td>\n",
       "      <td>37.561233</td>\n",
       "      <td>8.88836</td>\n",
       "      <td>18.0</td>\n",
       "      <td>31.0</td>\n",
       "      <td>36.0</td>\n",
       "      <td>43.0</td>\n",
       "      <td>60.0</td>\n",
       "    </tr>\n",
       "    <tr>\n",
       "      <th>1</th>\n",
       "      <td>237.0</td>\n",
       "      <td>33.607595</td>\n",
       "      <td>9.68935</td>\n",
       "      <td>18.0</td>\n",
       "      <td>28.0</td>\n",
       "      <td>32.0</td>\n",
       "      <td>39.0</td>\n",
       "      <td>58.0</td>\n",
       "    </tr>\n",
       "  </tbody>\n",
       "</table>\n",
       "</div>"
      ],
      "text/plain": [
       "              Age                                                  \n",
       "            count       mean      std   min   25%   50%   75%   max\n",
       "Attrition                                                          \n",
       "0          1233.0  37.561233  8.88836  18.0  31.0  36.0  43.0  60.0\n",
       "1           237.0  33.607595  9.68935  18.0  28.0  32.0  39.0  58.0"
      ]
     },
     "execution_count": 15,
     "metadata": {},
     "output_type": "execute_result"
    }
   ],
   "source": [
    "attrition[['Attrition','Age']].groupby(['Attrition']).describe()"
   ]
  },
  {
   "cell_type": "code",
   "execution_count": 16,
   "metadata": {
    "colab": {
     "base_uri": "https://localhost:8080/",
     "height": 351
    },
    "executionInfo": {
     "elapsed": 9,
     "status": "ok",
     "timestamp": 1665312992313,
     "user": {
      "displayName": "SAI.SASI.SEKHAR RALLABANDI",
      "userId": "03962991214365984155"
     },
     "user_tz": -330
    },
    "id": "estLCgQbasrD",
    "outputId": "80f258d9-d304-411b-cb37-83117b01da66"
   },
   "outputs": [
    {
     "data": {
      "text/plain": [
       "<AxesSubplot:xlabel='Age', ylabel='Density'>"
      ]
     },
     "execution_count": 16,
     "metadata": {},
     "output_type": "execute_result"
    },
    {
     "data": {
      "image/png": "[encoded data removed]",
      "text/plain": [
       "<Figure size 432x288 with 1 Axes>"
      ]
     },
     "metadata": {
      "needs_background": "light"
     },
     "output_type": "display_data"
    }
   ],
   "source": [
    "sns.distplot(attrition['Age'], kde=True) "
   ]
  },
  {
   "cell_type": "code",
   "execution_count": 17,
   "metadata": {
    "colab": {
     "base_uri": "https://localhost:8080/",
     "height": 475
    },
    "executionInfo": {
     "elapsed": 382,
     "status": "ok",
     "timestamp": 1665312992692,
     "user": {
      "displayName": "SAI.SASI.SEKHAR RALLABANDI",
      "userId": "03962991214365984155"
     },
     "user_tz": -330
    },
    "id": "cBmCc3mhdVRN",
    "outputId": "b9f321bd-f1d1-4641-e893-76b689452488"
   },
   "outputs": [
    {
     "data": {
      "image/png": "[encoded data removed]",
      "text/plain": [
       "<Figure size 288x432 with 1 Axes>"
      ]
     },
     "metadata": {
      "needs_background": "light"
     },
     "output_type": "display_data"
    }
   ],
   "source": [
    "attrition.boxplot(column=\"Age\", grid=False,by=\"Attrition\",figsize=(4,6))\n",
    "plt.show()"
   ]
  },
  {
   "cell_type": "markdown",
   "metadata": {
    "id": "AgVWfieTdsYa"
   },
   "source": [
    "1) Age:   \n",
    "-The average age of employees leaving the company is nearly 33.while the minimum and maximum ages of the employees leaving the company are 18 and 58 respectively.      \n",
    "-The mean age of employees is slightly greater than median.so the distribution can be approximated as normally distributed.     \n",
    "-Around 50% of the employees leaving the company are having age less than 32. It implies that attrition is significant in younger people.    \n",
    " \n"
   ]
  },
  {
   "cell_type": "markdown",
   "metadata": {
    "id": "MnZ0ADcwfT9F"
   },
   "source": [
    "2.MonthlyIncome"
   ]
  },
  {
   "cell_type": "code",
   "execution_count": 18,
   "metadata": {
    "colab": {
     "base_uri": "https://localhost:8080/",
     "height": 175
    },
    "executionInfo": {
     "elapsed": 8,
     "status": "ok",
     "timestamp": 1665312992692,
     "user": {
      "displayName": "SAI.SASI.SEKHAR RALLABANDI",
      "userId": "03962991214365984155"
     },
     "user_tz": -330
    },
    "id": "7-1Ak155kZPY",
    "outputId": "91caada0-152d-4b09-82cc-9dd39fa1eebb"
   },
   "outputs": [
    {
     "data": {
      "text/html": [
       "<div>\n",
       "<style scoped>\n",
       "    .dataframe tbody tr th:only-of-type {\n",
       "        vertical-align: middle;\n",
       "    }\n",
       "\n",
       "    .dataframe tbody tr th {\n",
       "        vertical-align: top;\n",
       "    }\n",
       "\n",
       "    .dataframe thead tr th {\n",
       "        text-align: left;\n",
       "    }\n",
       "\n",
       "    .dataframe thead tr:last-of-type th {\n",
       "        text-align: right;\n",
       "    }\n",
       "</style>\n",
       "<table border=\"1\" class=\"dataframe\">\n",
       "  <thead>\n",
       "    <tr>\n",
       "      <th></th>\n",
       "      <th colspan=\"8\" halign=\"left\">MonthlyIncome</th>\n",
       "    </tr>\n",
       "    <tr>\n",
       "      <th></th>\n",
       "      <th>count</th>\n",
       "      <th>mean</th>\n",
       "      <th>std</th>\n",
       "      <th>min</th>\n",
       "      <th>25%</th>\n",
       "      <th>50%</th>\n",
       "      <th>75%</th>\n",
       "      <th>max</th>\n",
       "    </tr>\n",
       "    <tr>\n",
       "      <th>Attrition</th>\n",
       "      <th></th>\n",
       "      <th></th>\n",
       "      <th></th>\n",
       "      <th></th>\n",
       "      <th></th>\n",
       "      <th></th>\n",
       "      <th></th>\n",
       "      <th></th>\n",
       "    </tr>\n",
       "  </thead>\n",
       "  <tbody>\n",
       "    <tr>\n",
       "      <th>0</th>\n",
       "      <td>1233.0</td>\n",
       "      <td>6832.739659</td>\n",
       "      <td>4818.208001</td>\n",
       "      <td>1051.0</td>\n",
       "      <td>3211.0</td>\n",
       "      <td>5204.0</td>\n",
       "      <td>8834.0</td>\n",
       "      <td>19999.0</td>\n",
       "    </tr>\n",
       "    <tr>\n",
       "      <th>1</th>\n",
       "      <td>237.0</td>\n",
       "      <td>4787.092827</td>\n",
       "      <td>3640.210367</td>\n",
       "      <td>1009.0</td>\n",
       "      <td>2373.0</td>\n",
       "      <td>3202.0</td>\n",
       "      <td>5916.0</td>\n",
       "      <td>19859.0</td>\n",
       "    </tr>\n",
       "  </tbody>\n",
       "</table>\n",
       "</div>"
      ],
      "text/plain": [
       "          MonthlyIncome                                                    \\\n",
       "                  count         mean          std     min     25%     50%   \n",
       "Attrition                                                                   \n",
       "0                1233.0  6832.739659  4818.208001  1051.0  3211.0  5204.0   \n",
       "1                 237.0  4787.092827  3640.210367  1009.0  2373.0  3202.0   \n",
       "\n",
       "                            \n",
       "              75%      max  \n",
       "Attrition                   \n",
       "0          8834.0  19999.0  \n",
       "1          5916.0  19859.0  "
      ]
     },
     "execution_count": 18,
     "metadata": {},
     "output_type": "execute_result"
    }
   ],
   "source": [
    "attrition[['Attrition','MonthlyIncome']].groupby(['Attrition']).describe()"
   ]
  },
  {
   "cell_type": "code",
   "execution_count": 19,
   "metadata": {
    "colab": {
     "base_uri": "https://localhost:8080/",
     "height": 351
    },
    "executionInfo": {
     "elapsed": 1120,
     "status": "ok",
     "timestamp": 1665312993804,
     "user": {
      "displayName": "SAI.SASI.SEKHAR RALLABANDI",
      "userId": "03962991214365984155"
     },
     "user_tz": -330
    },
    "id": "QHyoZc08bMSh",
    "outputId": "32c3fd57-e3cb-4d5a-a503-c25b6e303f52"
   },
   "outputs": [
    {
     "data": {
      "text/plain": [
       "<AxesSubplot:xlabel='MonthlyIncome', ylabel='Density'>"
      ]
     },
     "execution_count": 19,
     "metadata": {},
     "output_type": "execute_result"
    },
    {
     "data": {
      "image/png": "[encoded data removed]",
      "text/plain": [
       "<Figure size 432x288 with 1 Axes>"
      ]
     },
     "metadata": {
      "needs_background": "light"
     },
     "output_type": "display_data"
    }
   ],
   "source": [
    "sns.distplot(attrition['MonthlyIncome'], kde=True)"
   ]
  },
  {
   "cell_type": "code",
   "execution_count": 20,
   "metadata": {
    "colab": {
     "base_uri": "https://localhost:8080/",
     "height": 475
    },
    "executionInfo": {
     "elapsed": 12,
     "status": "ok",
     "timestamp": 1665312993804,
     "user": {
      "displayName": "SAI.SASI.SEKHAR RALLABANDI",
      "userId": "03962991214365984155"
     },
     "user_tz": -330
    },
    "id": "M058tGFkfkWZ",
    "outputId": "dfd3a9fe-729e-4b45-d340-17eed7ac7869"
   },
   "outputs": [
    {
     "data": {
      "image/png": "[encoded data removed]",
      "text/plain": [
       "<Figure size 288x432 with 1 Axes>"
      ]
     },
     "metadata": {
      "needs_background": "light"
     },
     "output_type": "display_data"
    }
   ],
   "source": [
    "attrition.boxplot(column=\"MonthlyIncome\", grid=False,by=\"Attrition\",figsize=(4,6))\n",
    "plt.show()"
   ]
  },
  {
   "cell_type": "markdown",
   "metadata": {
    "id": "0Ye0SBNGfqIf"
   },
   "source": [
    "2) Monthly Income:   \n",
    "-The average monthly income of employees leaving the company is nearly 4787. While the lowest monthly income of the employee leaving the company is 1009.     \n",
    "-The mean monthly income of all the employees is greater than the median which means that the distribution is positively skewed.  \n",
    "-Employee who earn less than mean are much more than employee who earn more than mean.  \n",
    "-Most of the employees are earning low salary. The reason for this might be the employees at lower job level are more. (This can be explode further)  \n"
   ]
  },
  {
   "cell_type": "markdown",
   "metadata": {
    "id": "wQyM_Jx1hlf1"
   },
   "source": [
    "3.TotalWorkingYears"
   ]
  },
  {
   "cell_type": "code",
   "execution_count": 21,
   "metadata": {
    "colab": {
     "base_uri": "https://localhost:8080/",
     "height": 175
    },
    "executionInfo": {
     "elapsed": 9,
     "status": "ok",
     "timestamp": 1665312993805,
     "user": {
      "displayName": "SAI.SASI.SEKHAR RALLABANDI",
      "userId": "03962991214365984155"
     },
     "user_tz": -330
    },
    "id": "9pcSlXbxZLqW",
    "outputId": "bb611a0b-b90d-4183-bd67-a449afc798f9"
   },
   "outputs": [
    {
     "data": {
      "text/html": [
       "<div>\n",
       "<style scoped>\n",
       "    .dataframe tbody tr th:only-of-type {\n",
       "        vertical-align: middle;\n",
       "    }\n",
       "\n",
       "    .dataframe tbody tr th {\n",
       "        vertical-align: top;\n",
       "    }\n",
       "\n",
       "    .dataframe thead tr th {\n",
       "        text-align: left;\n",
       "    }\n",
       "\n",
       "    .dataframe thead tr:last-of-type th {\n",
       "        text-align: right;\n",
       "    }\n",
       "</style>\n",
       "<table border=\"1\" class=\"dataframe\">\n",
       "  <thead>\n",
       "    <tr>\n",
       "      <th></th>\n",
       "      <th colspan=\"8\" halign=\"left\">TotalWorkingYears</th>\n",
       "    </tr>\n",
       "    <tr>\n",
       "      <th></th>\n",
       "      <th>count</th>\n",
       "      <th>mean</th>\n",
       "      <th>std</th>\n",
       "      <th>min</th>\n",
       "      <th>25%</th>\n",
       "      <th>50%</th>\n",
       "      <th>75%</th>\n",
       "      <th>max</th>\n",
       "    </tr>\n",
       "    <tr>\n",
       "      <th>Attrition</th>\n",
       "      <th></th>\n",
       "      <th></th>\n",
       "      <th></th>\n",
       "      <th></th>\n",
       "      <th></th>\n",
       "      <th></th>\n",
       "      <th></th>\n",
       "      <th></th>\n",
       "    </tr>\n",
       "  </thead>\n",
       "  <tbody>\n",
       "    <tr>\n",
       "      <th>0</th>\n",
       "      <td>1233.0</td>\n",
       "      <td>11.862936</td>\n",
       "      <td>7.760719</td>\n",
       "      <td>0.0</td>\n",
       "      <td>6.0</td>\n",
       "      <td>10.0</td>\n",
       "      <td>16.0</td>\n",
       "      <td>38.0</td>\n",
       "    </tr>\n",
       "    <tr>\n",
       "      <th>1</th>\n",
       "      <td>237.0</td>\n",
       "      <td>8.244726</td>\n",
       "      <td>7.169204</td>\n",
       "      <td>0.0</td>\n",
       "      <td>3.0</td>\n",
       "      <td>7.0</td>\n",
       "      <td>10.0</td>\n",
       "      <td>40.0</td>\n",
       "    </tr>\n",
       "  </tbody>\n",
       "</table>\n",
       "</div>"
      ],
      "text/plain": [
       "          TotalWorkingYears                                                 \n",
       "                      count       mean       std  min  25%   50%   75%   max\n",
       "Attrition                                                                   \n",
       "0                    1233.0  11.862936  7.760719  0.0  6.0  10.0  16.0  38.0\n",
       "1                     237.0   8.244726  7.169204  0.0  3.0   7.0  10.0  40.0"
      ]
     },
     "execution_count": 21,
     "metadata": {},
     "output_type": "execute_result"
    }
   ],
   "source": [
    "attrition[['Attrition','TotalWorkingYears']].groupby(['Attrition']).describe()"
   ]
  },
  {
   "cell_type": "code",
   "execution_count": 22,
   "metadata": {
    "colab": {
     "base_uri": "https://localhost:8080/",
     "height": 351
    },
    "executionInfo": {
     "elapsed": 917,
     "status": "ok",
     "timestamp": 1665312994713,
     "user": {
      "displayName": "SAI.SASI.SEKHAR RALLABANDI",
      "userId": "03962991214365984155"
     },
     "user_tz": -330
    },
    "id": "qG8MGpq6bR8p",
    "outputId": "2fc0d89f-5736-4198-8175-903199b7e028"
   },
   "outputs": [
    {
     "data": {
      "text/plain": [
       "<AxesSubplot:xlabel='TotalWorkingYears', ylabel='Density'>"
      ]
     },
     "execution_count": 22,
     "metadata": {},
     "output_type": "execute_result"
    },
    {
     "data": {
      "image/png": "[encoded data removed]",
      "text/plain": [
       "<Figure size 432x288 with 1 Axes>"
      ]
     },
     "metadata": {
      "needs_background": "light"
     },
     "output_type": "display_data"
    }
   ],
   "source": [
    "sns.distplot(attrition['TotalWorkingYears'], kde=True)"
   ]
  },
  {
   "cell_type": "code",
   "execution_count": 23,
   "metadata": {
    "colab": {
     "base_uri": "https://localhost:8080/",
     "height": 475
    },
    "executionInfo": {
     "elapsed": 8,
     "status": "ok",
     "timestamp": 1665312994713,
     "user": {
      "displayName": "SAI.SASI.SEKHAR RALLABANDI",
      "userId": "03962991214365984155"
     },
     "user_tz": -330
    },
    "id": "UQGF7XXIhwSK",
    "outputId": "fa482108-6fea-4769-d5d3-289ded6d904c"
   },
   "outputs": [
    {
     "data": {
      "image/png": "[encoded data removed]",
      "text/plain": [
       "<Figure size 288x432 with 1 Axes>"
      ]
     },
     "metadata": {
      "needs_background": "light"
     },
     "output_type": "display_data"
    }
   ],
   "source": [
    "attrition.boxplot(column=\"TotalWorkingYears\", grid=False,by=\"Attrition\",figsize=(4,6))\n",
    "plt.show()"
   ]
  },
  {
   "cell_type": "markdown",
   "metadata": {
    "id": "t3PmWl8khyNt"
   },
   "source": [
    "3) Total Working Years:   \n",
    "-The average Total Working Years of all the employees is nearly 11. While is is 7 years for employees leaving the company.  \n"
   ]
  },
  {
   "cell_type": "markdown",
   "metadata": {
    "id": "FKdmTtogkKyi"
   },
   "source": [
    "4.YearsAtCompany"
   ]
  },
  {
   "cell_type": "code",
   "execution_count": 24,
   "metadata": {
    "colab": {
     "base_uri": "https://localhost:8080/",
     "height": 175
    },
    "executionInfo": {
     "elapsed": 972,
     "status": "ok",
     "timestamp": 1665312995680,
     "user": {
      "displayName": "SAI.SASI.SEKHAR RALLABANDI",
      "userId": "03962991214365984155"
     },
     "user_tz": -330
    },
    "id": "CeAdCD4dZLtV",
    "outputId": "c3ac58a1-3df1-44ed-c78b-65744602b68d"
   },
   "outputs": [
    {
     "data": {
      "text/html": [
       "<div>\n",
       "<style scoped>\n",
       "    .dataframe tbody tr th:only-of-type {\n",
       "        vertical-align: middle;\n",
       "    }\n",
       "\n",
       "    .dataframe tbody tr th {\n",
       "        vertical-align: top;\n",
       "    }\n",
       "\n",
       "    .dataframe thead tr th {\n",
       "        text-align: left;\n",
       "    }\n",
       "\n",
       "    .dataframe thead tr:last-of-type th {\n",
       "        text-align: right;\n",
       "    }\n",
       "</style>\n",
       "<table border=\"1\" class=\"dataframe\">\n",
       "  <thead>\n",
       "    <tr>\n",
       "      <th></th>\n",
       "      <th colspan=\"8\" halign=\"left\">YearsAtCompany</th>\n",
       "    </tr>\n",
       "    <tr>\n",
       "      <th></th>\n",
       "      <th>count</th>\n",
       "      <th>mean</th>\n",
       "      <th>std</th>\n",
       "      <th>min</th>\n",
       "      <th>25%</th>\n",
       "      <th>50%</th>\n",
       "      <th>75%</th>\n",
       "      <th>max</th>\n",
       "    </tr>\n",
       "    <tr>\n",
       "      <th>Attrition</th>\n",
       "      <th></th>\n",
       "      <th></th>\n",
       "      <th></th>\n",
       "      <th></th>\n",
       "      <th></th>\n",
       "      <th></th>\n",
       "      <th></th>\n",
       "      <th></th>\n",
       "    </tr>\n",
       "  </thead>\n",
       "  <tbody>\n",
       "    <tr>\n",
       "      <th>0</th>\n",
       "      <td>1233.0</td>\n",
       "      <td>7.369019</td>\n",
       "      <td>6.096298</td>\n",
       "      <td>0.0</td>\n",
       "      <td>3.0</td>\n",
       "      <td>6.0</td>\n",
       "      <td>10.0</td>\n",
       "      <td>37.0</td>\n",
       "    </tr>\n",
       "    <tr>\n",
       "      <th>1</th>\n",
       "      <td>237.0</td>\n",
       "      <td>5.130802</td>\n",
       "      <td>5.949984</td>\n",
       "      <td>0.0</td>\n",
       "      <td>1.0</td>\n",
       "      <td>3.0</td>\n",
       "      <td>7.0</td>\n",
       "      <td>40.0</td>\n",
       "    </tr>\n",
       "  </tbody>\n",
       "</table>\n",
       "</div>"
      ],
      "text/plain": [
       "          YearsAtCompany                                               \n",
       "                   count      mean       std  min  25%  50%   75%   max\n",
       "Attrition                                                              \n",
       "0                 1233.0  7.369019  6.096298  0.0  3.0  6.0  10.0  37.0\n",
       "1                  237.0  5.130802  5.949984  0.0  1.0  3.0   7.0  40.0"
      ]
     },
     "execution_count": 24,
     "metadata": {},
     "output_type": "execute_result"
    }
   ],
   "source": [
    "attrition[['Attrition','YearsAtCompany']].groupby(['Attrition']).describe()"
   ]
  },
  {
   "cell_type": "code",
   "execution_count": 25,
   "metadata": {
    "colab": {
     "base_uri": "https://localhost:8080/",
     "height": 351
    },
    "executionInfo": {
     "elapsed": 14,
     "status": "ok",
     "timestamp": 1665312995680,
     "user": {
      "displayName": "SAI.SASI.SEKHAR RALLABANDI",
      "userId": "03962991214365984155"
     },
     "user_tz": -330
    },
    "id": "7l3hF5zMbWfk",
    "outputId": "c1252df1-e227-40ca-cde1-041739da708a"
   },
   "outputs": [
    {
     "data": {
      "text/plain": [
       "<AxesSubplot:xlabel='YearsAtCompany', ylabel='Density'>"
      ]
     },
     "execution_count": 25,
     "metadata": {},
     "output_type": "execute_result"
    },
    {
     "data": {
      "image/png": "[encoded data removed]",
      "text/plain": [
       "<Figure size 432x288 with 1 Axes>"
      ]
     },
     "metadata": {
      "needs_background": "light"
     },
     "output_type": "display_data"
    }
   ],
   "source": [
    "sns.distplot(attrition['YearsAtCompany'], kde=True)"
   ]
  },
  {
   "cell_type": "code",
   "execution_count": 26,
   "metadata": {
    "colab": {
     "base_uri": "https://localhost:8080/",
     "height": 475
    },
    "executionInfo": {
     "elapsed": 13,
     "status": "ok",
     "timestamp": 1665312995681,
     "user": {
      "displayName": "SAI.SASI.SEKHAR RALLABANDI",
      "userId": "03962991214365984155"
     },
     "user_tz": -330
    },
    "id": "mBySZxYhkXU3",
    "outputId": "a0b638ab-b42e-4582-de49-0a635de4cc8d"
   },
   "outputs": [
    {
     "data": {
      "image/png": "[encoded data removed]",
      "text/plain": [
       "<Figure size 288x432 with 1 Axes>"
      ]
     },
     "metadata": {
      "needs_background": "light"
     },
     "output_type": "display_data"
    }
   ],
   "source": [
    "attrition.boxplot(column=\"YearsAtCompany\", grid=False,by=\"Attrition\",figsize=(4,6))\n",
    "plt.show()"
   ]
  },
  {
   "cell_type": "markdown",
   "metadata": {
    "id": "2ElgIfNlkcyq"
   },
   "source": [
    "4) Years at Company:   \n",
    "-The average Years at Company of all the employees is nearly 7.  \n",
    "-Most people don't spend more than 10 years in this company.   \n",
    "-75% of the employees leaving the company are spending less than 7 years in this company.   \n"
   ]
  },
  {
   "cell_type": "markdown",
   "metadata": {
    "id": "k86n-MYGlZSq"
   },
   "source": [
    "5.YearsInCurrentRole"
   ]
  },
  {
   "cell_type": "code",
   "execution_count": 27,
   "metadata": {
    "colab": {
     "base_uri": "https://localhost:8080/",
     "height": 175
    },
    "executionInfo": {
     "elapsed": 11,
     "status": "ok",
     "timestamp": 1665312995681,
     "user": {
      "displayName": "SAI.SASI.SEKHAR RALLABANDI",
      "userId": "03962991214365984155"
     },
     "user_tz": -330
    },
    "id": "5esnBBAUZLvx",
    "outputId": "6e8f6b2d-8b45-46a5-8ec1-6fc033239e90"
   },
   "outputs": [
    {
     "data": {
      "text/html": [
       "<div>\n",
       "<style scoped>\n",
       "    .dataframe tbody tr th:only-of-type {\n",
       "        vertical-align: middle;\n",
       "    }\n",
       "\n",
       "    .dataframe tbody tr th {\n",
       "        vertical-align: top;\n",
       "    }\n",
       "\n",
       "    .dataframe thead tr th {\n",
       "        text-align: left;\n",
       "    }\n",
       "\n",
       "    .dataframe thead tr:last-of-type th {\n",
       "        text-align: right;\n",
       "    }\n",
       "</style>\n",
       "<table border=\"1\" class=\"dataframe\">\n",
       "  <thead>\n",
       "    <tr>\n",
       "      <th></th>\n",
       "      <th colspan=\"8\" halign=\"left\">YearsInCurrentRole</th>\n",
       "    </tr>\n",
       "    <tr>\n",
       "      <th></th>\n",
       "      <th>count</th>\n",
       "      <th>mean</th>\n",
       "      <th>std</th>\n",
       "      <th>min</th>\n",
       "      <th>25%</th>\n",
       "      <th>50%</th>\n",
       "      <th>75%</th>\n",
       "      <th>max</th>\n",
       "    </tr>\n",
       "    <tr>\n",
       "      <th>Attrition</th>\n",
       "      <th></th>\n",
       "      <th></th>\n",
       "      <th></th>\n",
       "      <th></th>\n",
       "      <th></th>\n",
       "      <th></th>\n",
       "      <th></th>\n",
       "      <th></th>\n",
       "    </tr>\n",
       "  </thead>\n",
       "  <tbody>\n",
       "    <tr>\n",
       "      <th>0</th>\n",
       "      <td>1233.0</td>\n",
       "      <td>4.484185</td>\n",
       "      <td>3.649402</td>\n",
       "      <td>0.0</td>\n",
       "      <td>2.0</td>\n",
       "      <td>3.0</td>\n",
       "      <td>7.0</td>\n",
       "      <td>18.0</td>\n",
       "    </tr>\n",
       "    <tr>\n",
       "      <th>1</th>\n",
       "      <td>237.0</td>\n",
       "      <td>2.902954</td>\n",
       "      <td>3.174827</td>\n",
       "      <td>0.0</td>\n",
       "      <td>0.0</td>\n",
       "      <td>2.0</td>\n",
       "      <td>4.0</td>\n",
       "      <td>15.0</td>\n",
       "    </tr>\n",
       "  </tbody>\n",
       "</table>\n",
       "</div>"
      ],
      "text/plain": [
       "          YearsInCurrentRole                                              \n",
       "                       count      mean       std  min  25%  50%  75%   max\n",
       "Attrition                                                                 \n",
       "0                     1233.0  4.484185  3.649402  0.0  2.0  3.0  7.0  18.0\n",
       "1                      237.0  2.902954  3.174827  0.0  0.0  2.0  4.0  15.0"
      ]
     },
     "execution_count": 27,
     "metadata": {},
     "output_type": "execute_result"
    }
   ],
   "source": [
    "attrition[['Attrition','YearsInCurrentRole']].groupby(['Attrition']).describe()"
   ]
  },
  {
   "cell_type": "code",
   "execution_count": 28,
   "metadata": {
    "colab": {
     "base_uri": "https://localhost:8080/",
     "height": 351
    },
    "executionInfo": {
     "elapsed": 11,
     "status": "ok",
     "timestamp": 1665312995681,
     "user": {
      "displayName": "SAI.SASI.SEKHAR RALLABANDI",
      "userId": "03962991214365984155"
     },
     "user_tz": -330
    },
    "id": "Tx_yJb9Pbg7w",
    "outputId": "d5df460f-ca34-4ca5-dd86-e81a2cbc9824"
   },
   "outputs": [
    {
     "data": {
      "text/plain": [
       "<AxesSubplot:xlabel='YearsInCurrentRole', ylabel='Density'>"
      ]
     },
     "execution_count": 28,
     "metadata": {},
     "output_type": "execute_result"
    },
    {
     "data": {
      "image/png": "[encoded data removed]",
      "text/plain": [
       "<Figure size 432x288 with 1 Axes>"
      ]
     },
     "metadata": {
      "needs_background": "light"
     },
     "output_type": "display_data"
    }
   ],
   "source": [
    "sns.distplot(attrition['YearsInCurrentRole'], kde=True)"
   ]
  },
  {
   "cell_type": "code",
   "execution_count": 29,
   "metadata": {
    "colab": {
     "base_uri": "https://localhost:8080/",
     "height": 475
    },
    "executionInfo": {
     "elapsed": 1151,
     "status": "ok",
     "timestamp": 1665312996823,
     "user": {
      "displayName": "SAI.SASI.SEKHAR RALLABANDI",
      "userId": "03962991214365984155"
     },
     "user_tz": -330
    },
    "id": "bxGKPcaolj8k",
    "outputId": "e0d2191b-9c76-4948-c64e-1571d67a5e85"
   },
   "outputs": [
    {
     "data": {
      "image/png": "[encoded data removed]",
      "text/plain": [
       "<Figure size 288x432 with 1 Axes>"
      ]
     },
     "metadata": {
      "needs_background": "light"
     },
     "output_type": "display_data"
    }
   ],
   "source": [
    "attrition.boxplot(column=\"YearsInCurrentRole\", grid=False,by=\"Attrition\",figsize=(4,6))\n",
    "plt.show()"
   ]
  },
  {
   "cell_type": "markdown",
   "metadata": {
    "id": "q3-JdJ-klqLt"
   },
   "source": [
    "5) Years in Current Role:  \n",
    "-The average Years in Current Role of all the employees is nearly 4.  \n",
    "-75% of the employees leaving the company are spending typically 4 years in current role.  \n"
   ]
  },
  {
   "cell_type": "markdown",
   "metadata": {
    "id": "_LTUAwFdml98"
   },
   "source": [
    "6.YearsSinceLastPromotion"
   ]
  },
  {
   "cell_type": "code",
   "execution_count": 30,
   "metadata": {
    "colab": {
     "base_uri": "https://localhost:8080/",
     "height": 175
    },
    "executionInfo": {
     "elapsed": 18,
     "status": "ok",
     "timestamp": 1665312996824,
     "user": {
      "displayName": "SAI.SASI.SEKHAR RALLABANDI",
      "userId": "03962991214365984155"
     },
     "user_tz": -330
    },
    "id": "4l0bhiBIZLyd",
    "outputId": "b6fac4b1-7061-452f-bd0d-80aa060bf2e7"
   },
   "outputs": [
    {
     "data": {
      "text/html": [
       "<div>\n",
       "<style scoped>\n",
       "    .dataframe tbody tr th:only-of-type {\n",
       "        vertical-align: middle;\n",
       "    }\n",
       "\n",
       "    .dataframe tbody tr th {\n",
       "        vertical-align: top;\n",
       "    }\n",
       "\n",
       "    .dataframe thead tr th {\n",
       "        text-align: left;\n",
       "    }\n",
       "\n",
       "    .dataframe thead tr:last-of-type th {\n",
       "        text-align: right;\n",
       "    }\n",
       "</style>\n",
       "<table border=\"1\" class=\"dataframe\">\n",
       "  <thead>\n",
       "    <tr>\n",
       "      <th></th>\n",
       "      <th colspan=\"8\" halign=\"left\">YearsSinceLastPromotion</th>\n",
       "    </tr>\n",
       "    <tr>\n",
       "      <th></th>\n",
       "      <th>count</th>\n",
       "      <th>mean</th>\n",
       "      <th>std</th>\n",
       "      <th>min</th>\n",
       "      <th>25%</th>\n",
       "      <th>50%</th>\n",
       "      <th>75%</th>\n",
       "      <th>max</th>\n",
       "    </tr>\n",
       "    <tr>\n",
       "      <th>Attrition</th>\n",
       "      <th></th>\n",
       "      <th></th>\n",
       "      <th></th>\n",
       "      <th></th>\n",
       "      <th></th>\n",
       "      <th></th>\n",
       "      <th></th>\n",
       "      <th></th>\n",
       "    </tr>\n",
       "  </thead>\n",
       "  <tbody>\n",
       "    <tr>\n",
       "      <th>0</th>\n",
       "      <td>1233.0</td>\n",
       "      <td>2.234388</td>\n",
       "      <td>3.234762</td>\n",
       "      <td>0.0</td>\n",
       "      <td>0.0</td>\n",
       "      <td>1.0</td>\n",
       "      <td>3.0</td>\n",
       "      <td>15.0</td>\n",
       "    </tr>\n",
       "    <tr>\n",
       "      <th>1</th>\n",
       "      <td>237.0</td>\n",
       "      <td>1.945148</td>\n",
       "      <td>3.153077</td>\n",
       "      <td>0.0</td>\n",
       "      <td>0.0</td>\n",
       "      <td>1.0</td>\n",
       "      <td>2.0</td>\n",
       "      <td>15.0</td>\n",
       "    </tr>\n",
       "  </tbody>\n",
       "</table>\n",
       "</div>"
      ],
      "text/plain": [
       "          YearsSinceLastPromotion                                          \\\n",
       "                            count      mean       std  min  25%  50%  75%   \n",
       "Attrition                                                                   \n",
       "0                          1233.0  2.234388  3.234762  0.0  0.0  1.0  3.0   \n",
       "1                           237.0  1.945148  3.153077  0.0  0.0  1.0  2.0   \n",
       "\n",
       "                 \n",
       "            max  \n",
       "Attrition        \n",
       "0          15.0  \n",
       "1          15.0  "
      ]
     },
     "execution_count": 30,
     "metadata": {},
     "output_type": "execute_result"
    }
   ],
   "source": [
    "attrition[['Attrition','YearsSinceLastPromotion']].groupby(['Attrition']).describe()"
   ]
  },
  {
   "cell_type": "code",
   "execution_count": 31,
   "metadata": {
    "colab": {
     "base_uri": "https://localhost:8080/",
     "height": 355
    },
    "executionInfo": {
     "elapsed": 17,
     "status": "ok",
     "timestamp": 1665312996824,
     "user": {
      "displayName": "SAI.SASI.SEKHAR RALLABANDI",
      "userId": "03962991214365984155"
     },
     "user_tz": -330
    },
    "id": "14CA91QdbnGt",
    "outputId": "7616e70b-23aa-4f1c-d35b-c0345e3b9481"
   },
   "outputs": [
    {
     "data": {
      "text/plain": [
       "<AxesSubplot:xlabel='YearsSinceLastPromotion', ylabel='Density'>"
      ]
     },
     "execution_count": 31,
     "metadata": {},
     "output_type": "execute_result"
    },
    {
     "data": {
      "image/png": "[encoded data removed]",
      "text/plain": [
       "<Figure size 432x288 with 1 Axes>"
      ]
     },
     "metadata": {
      "needs_background": "light"
     },
     "output_type": "display_data"
    }
   ],
   "source": [
    "sns.distplot(attrition['YearsSinceLastPromotion'], kde=True)"
   ]
  },
  {
   "cell_type": "code",
   "execution_count": 32,
   "metadata": {
    "colab": {
     "base_uri": "https://localhost:8080/",
     "height": 475
    },
    "executionInfo": {
     "elapsed": 12,
     "status": "ok",
     "timestamp": 1665312996824,
     "user": {
      "displayName": "SAI.SASI.SEKHAR RALLABANDI",
      "userId": "03962991214365984155"
     },
     "user_tz": -330
    },
    "id": "w0QlhHvQnEJ5",
    "outputId": "e8c8484d-996a-418a-96cf-1cf6b35f5ebb"
   },
   "outputs": [
    {
     "data": {
      "image/png": "[encoded data removed]",
      "text/plain": [
       "<Figure size 288x432 with 1 Axes>"
      ]
     },
     "metadata": {
      "needs_background": "light"
     },
     "output_type": "display_data"
    }
   ],
   "source": [
    "attrition.boxplot(column=\"YearsSinceLastPromotion\", grid=False,by=\"Attrition\",figsize=(4,6))\n",
    "plt.show()"
   ]
  },
  {
   "cell_type": "markdown",
   "metadata": {
    "id": "S-WE15iEnFp2"
   },
   "source": [
    "6)Years since last promotion:  \n",
    "-The average Years since last promotion of all the employees is nearly 2.  \n",
    "-Most of the employees got recently promoted i.e., last one year.  \n"
   ]
  },
  {
   "cell_type": "markdown",
   "metadata": {
    "id": "01rGKp7Enf87"
   },
   "source": [
    "7.YearsWithCurrManager"
   ]
  },
  {
   "cell_type": "code",
   "execution_count": 33,
   "metadata": {
    "colab": {
     "base_uri": "https://localhost:8080/",
     "height": 175
    },
    "executionInfo": {
     "elapsed": 11,
     "status": "ok",
     "timestamp": 1665312996825,
     "user": {
      "displayName": "SAI.SASI.SEKHAR RALLABANDI",
      "userId": "03962991214365984155"
     },
     "user_tz": -330
    },
    "id": "HinpkN3BZL1C",
    "outputId": "ba8bcdb1-e1be-46e0-be91-dad0e6c82af9"
   },
   "outputs": [
    {
     "data": {
      "text/html": [
       "<div>\n",
       "<style scoped>\n",
       "    .dataframe tbody tr th:only-of-type {\n",
       "        vertical-align: middle;\n",
       "    }\n",
       "\n",
       "    .dataframe tbody tr th {\n",
       "        vertical-align: top;\n",
       "    }\n",
       "\n",
       "    .dataframe thead tr th {\n",
       "        text-align: left;\n",
       "    }\n",
       "\n",
       "    .dataframe thead tr:last-of-type th {\n",
       "        text-align: right;\n",
       "    }\n",
       "</style>\n",
       "<table border=\"1\" class=\"dataframe\">\n",
       "  <thead>\n",
       "    <tr>\n",
       "      <th></th>\n",
       "      <th colspan=\"8\" halign=\"left\">YearsWithCurrManager</th>\n",
       "    </tr>\n",
       "    <tr>\n",
       "      <th></th>\n",
       "      <th>count</th>\n",
       "      <th>mean</th>\n",
       "      <th>std</th>\n",
       "      <th>min</th>\n",
       "      <th>25%</th>\n",
       "      <th>50%</th>\n",
       "      <th>75%</th>\n",
       "      <th>max</th>\n",
       "    </tr>\n",
       "    <tr>\n",
       "      <th>Attrition</th>\n",
       "      <th></th>\n",
       "      <th></th>\n",
       "      <th></th>\n",
       "      <th></th>\n",
       "      <th></th>\n",
       "      <th></th>\n",
       "      <th></th>\n",
       "      <th></th>\n",
       "    </tr>\n",
       "  </thead>\n",
       "  <tbody>\n",
       "    <tr>\n",
       "      <th>0</th>\n",
       "      <td>1233.0</td>\n",
       "      <td>4.367397</td>\n",
       "      <td>3.594116</td>\n",
       "      <td>0.0</td>\n",
       "      <td>2.0</td>\n",
       "      <td>3.0</td>\n",
       "      <td>7.0</td>\n",
       "      <td>17.0</td>\n",
       "    </tr>\n",
       "    <tr>\n",
       "      <th>1</th>\n",
       "      <td>237.0</td>\n",
       "      <td>2.852321</td>\n",
       "      <td>3.143349</td>\n",
       "      <td>0.0</td>\n",
       "      <td>0.0</td>\n",
       "      <td>2.0</td>\n",
       "      <td>5.0</td>\n",
       "      <td>14.0</td>\n",
       "    </tr>\n",
       "  </tbody>\n",
       "</table>\n",
       "</div>"
      ],
      "text/plain": [
       "          YearsWithCurrManager                                              \n",
       "                         count      mean       std  min  25%  50%  75%   max\n",
       "Attrition                                                                   \n",
       "0                       1233.0  4.367397  3.594116  0.0  2.0  3.0  7.0  17.0\n",
       "1                        237.0  2.852321  3.143349  0.0  0.0  2.0  5.0  14.0"
      ]
     },
     "execution_count": 33,
     "metadata": {},
     "output_type": "execute_result"
    }
   ],
   "source": [
    "attrition[['Attrition','YearsWithCurrManager']].groupby(['Attrition']).describe()"
   ]
  },
  {
   "cell_type": "code",
   "execution_count": 34,
   "metadata": {
    "colab": {
     "base_uri": "https://localhost:8080/",
     "height": 351
    },
    "executionInfo": {
     "elapsed": 11,
     "status": "ok",
     "timestamp": 1665312996825,
     "user": {
      "displayName": "SAI.SASI.SEKHAR RALLABANDI",
      "userId": "03962991214365984155"
     },
     "user_tz": -330
    },
    "id": "gt1t5T_Vbw43",
    "outputId": "83a662b9-dea1-4397-cea5-36283f72ce9c"
   },
   "outputs": [
    {
     "data": {
      "text/plain": [
       "<AxesSubplot:xlabel='YearsWithCurrManager', ylabel='Density'>"
      ]
     },
     "execution_count": 34,
     "metadata": {},
     "output_type": "execute_result"
    },
    {
     "data": {
      "image/png": "[encoded data removed]",
      "text/plain": [
       "<Figure size 432x288 with 1 Axes>"
      ]
     },
     "metadata": {
      "needs_background": "light"
     },
     "output_type": "display_data"
    }
   ],
   "source": [
    "sns.distplot(attrition['YearsWithCurrManager'], kde=True)"
   ]
  },
  {
   "cell_type": "code",
   "execution_count": 35,
   "metadata": {
    "colab": {
     "base_uri": "https://localhost:8080/",
     "height": 475
    },
    "executionInfo": {
     "elapsed": 959,
     "status": "ok",
     "timestamp": 1665312997775,
     "user": {
      "displayName": "SAI.SASI.SEKHAR RALLABANDI",
      "userId": "03962991214365984155"
     },
     "user_tz": -330
    },
    "id": "TWq1VQeMnqMB",
    "outputId": "03afbaff-7885-4f16-b1d7-996f73997440"
   },
   "outputs": [
    {
     "data": {
      "image/png": "[encoded data removed]",
      "text/plain": [
       "<Figure size 288x432 with 1 Axes>"
      ]
     },
     "metadata": {
      "needs_background": "light"
     },
     "output_type": "display_data"
    }
   ],
   "source": [
    "attrition.boxplot(column=\"YearsWithCurrManager\", grid=False,by=\"Attrition\",figsize=(4,6))\n",
    "plt.show()"
   ]
  },
  {
   "cell_type": "markdown",
   "metadata": {
    "id": "3Bj3pf2cns4T"
   },
   "source": [
    "7) Years with Current Manager:  \n",
    "-The average Years with Current Manager of all the employees is nearly 4.  "
   ]
  },
  {
   "cell_type": "markdown",
   "metadata": {
    "id": "awRyiFlFoORK"
   },
   "source": [
    "8.DistanceFromHome"
   ]
  },
  {
   "cell_type": "code",
   "execution_count": 36,
   "metadata": {
    "colab": {
     "base_uri": "https://localhost:8080/",
     "height": 175
    },
    "executionInfo": {
     "elapsed": 24,
     "status": "ok",
     "timestamp": 1665312997775,
     "user": {
      "displayName": "SAI.SASI.SEKHAR RALLABANDI",
      "userId": "03962991214365984155"
     },
     "user_tz": -330
    },
    "id": "rERI-_A6ZL31",
    "outputId": "6733396b-dcd0-4fe9-e3f8-cd28ab4b0691"
   },
   "outputs": [
    {
     "data": {
      "text/html": [
       "<div>\n",
       "<style scoped>\n",
       "    .dataframe tbody tr th:only-of-type {\n",
       "        vertical-align: middle;\n",
       "    }\n",
       "\n",
       "    .dataframe tbody tr th {\n",
       "        vertical-align: top;\n",
       "    }\n",
       "\n",
       "    .dataframe thead tr th {\n",
       "        text-align: left;\n",
       "    }\n",
       "\n",
       "    .dataframe thead tr:last-of-type th {\n",
       "        text-align: right;\n",
       "    }\n",
       "</style>\n",
       "<table border=\"1\" class=\"dataframe\">\n",
       "  <thead>\n",
       "    <tr>\n",
       "      <th></th>\n",
       "      <th colspan=\"8\" halign=\"left\">DistanceFromHome</th>\n",
       "    </tr>\n",
       "    <tr>\n",
       "      <th></th>\n",
       "      <th>count</th>\n",
       "      <th>mean</th>\n",
       "      <th>std</th>\n",
       "      <th>min</th>\n",
       "      <th>25%</th>\n",
       "      <th>50%</th>\n",
       "      <th>75%</th>\n",
       "      <th>max</th>\n",
       "    </tr>\n",
       "    <tr>\n",
       "      <th>Attrition</th>\n",
       "      <th></th>\n",
       "      <th></th>\n",
       "      <th></th>\n",
       "      <th></th>\n",
       "      <th></th>\n",
       "      <th></th>\n",
       "      <th></th>\n",
       "      <th></th>\n",
       "    </tr>\n",
       "  </thead>\n",
       "  <tbody>\n",
       "    <tr>\n",
       "      <th>0</th>\n",
       "      <td>1233.0</td>\n",
       "      <td>8.915653</td>\n",
       "      <td>8.012633</td>\n",
       "      <td>1.0</td>\n",
       "      <td>2.0</td>\n",
       "      <td>7.0</td>\n",
       "      <td>13.0</td>\n",
       "      <td>29.0</td>\n",
       "    </tr>\n",
       "    <tr>\n",
       "      <th>1</th>\n",
       "      <td>237.0</td>\n",
       "      <td>10.632911</td>\n",
       "      <td>8.452525</td>\n",
       "      <td>1.0</td>\n",
       "      <td>3.0</td>\n",
       "      <td>9.0</td>\n",
       "      <td>17.0</td>\n",
       "      <td>29.0</td>\n",
       "    </tr>\n",
       "  </tbody>\n",
       "</table>\n",
       "</div>"
      ],
      "text/plain": [
       "          DistanceFromHome                                                \n",
       "                     count       mean       std  min  25%  50%   75%   max\n",
       "Attrition                                                                 \n",
       "0                   1233.0   8.915653  8.012633  1.0  2.0  7.0  13.0  29.0\n",
       "1                    237.0  10.632911  8.452525  1.0  3.0  9.0  17.0  29.0"
      ]
     },
     "execution_count": 36,
     "metadata": {},
     "output_type": "execute_result"
    }
   ],
   "source": [
    "attrition[['Attrition','DistanceFromHome']].groupby(['Attrition']).describe()"
   ]
  },
  {
   "cell_type": "code",
   "execution_count": 37,
   "metadata": {
    "colab": {
     "base_uri": "https://localhost:8080/",
     "height": 351
    },
    "executionInfo": {
     "elapsed": 24,
     "status": "ok",
     "timestamp": 1665312997775,
     "user": {
      "displayName": "SAI.SASI.SEKHAR RALLABANDI",
      "userId": "03962991214365984155"
     },
     "user_tz": -330
    },
    "id": "BEUxS-C2b3qT",
    "outputId": "05737af8-3c23-4c45-e504-6a5fa7a3b565"
   },
   "outputs": [
    {
     "data": {
      "text/plain": [
       "<AxesSubplot:xlabel='DistanceFromHome', ylabel='Density'>"
      ]
     },
     "execution_count": 37,
     "metadata": {},
     "output_type": "execute_result"
    },
    {
     "data": {
      "image/png": "[encoded data removed]",
      "text/plain": [
       "<Figure size 432x288 with 1 Axes>"
      ]
     },
     "metadata": {
      "needs_background": "light"
     },
     "output_type": "display_data"
    }
   ],
   "source": [
    "sns.distplot(attrition['DistanceFromHome'], kde=True)"
   ]
  },
  {
   "cell_type": "code",
   "execution_count": 38,
   "metadata": {
    "colab": {
     "base_uri": "https://localhost:8080/",
     "height": 475
    },
    "executionInfo": {
     "elapsed": 21,
     "status": "ok",
     "timestamp": 1665312997776,
     "user": {
      "displayName": "SAI.SASI.SEKHAR RALLABANDI",
      "userId": "03962991214365984155"
     },
     "user_tz": -330
    },
    "id": "XYMWfHpDoZKV",
    "outputId": "9199921e-07aa-4237-f1a9-a594aee9030d"
   },
   "outputs": [
    {
     "data": {
      "image/png": "[encoded data removed]",
      "text/plain": [
       "<Figure size 288x432 with 1 Axes>"
      ]
     },
     "metadata": {
      "needs_background": "light"
     },
     "output_type": "display_data"
    }
   ],
   "source": [
    "attrition.boxplot(column=\"DistanceFromHome\", grid=False,by=\"Attrition\",figsize=(4,6))\n",
    "plt.show()"
   ]
  },
  {
   "cell_type": "markdown",
   "metadata": {
    "id": "izlBKg0noahP"
   },
   "source": [
    "8) Distance From Home:  \n",
    "-The average Distance From Home of all the employees is nearly 9.  \n",
    "-The distribution is positively skewed.   \n",
    "-From the distribution it can be infered that most of the employees stayed near to the office.  "
   ]
  },
  {
   "cell_type": "markdown",
   "metadata": {
    "id": "3dzPPkREgIaq"
   },
   "source": [
    "### Categorical variables"
   ]
  },
  {
   "cell_type": "markdown",
   "metadata": {
    "id": "HXOQFPLHiv8f"
   },
   "source": [
    "### 9) EnvironmentSatisfaction"
   ]
  },
  {
   "cell_type": "code",
   "execution_count": 39,
   "metadata": {
    "colab": {
     "base_uri": "https://localhost:8080/",
     "height": 175
    },
    "executionInfo": {
     "elapsed": 19,
     "status": "ok",
     "timestamp": 1665312997776,
     "user": {
      "displayName": "SAI.SASI.SEKHAR RALLABANDI",
      "userId": "03962991214365984155"
     },
     "user_tz": -330
    },
    "id": "sW4R53d0ZzO7",
    "outputId": "cb0daac5-d1cf-4f1f-e92f-3e470294ee9b"
   },
   "outputs": [
    {
     "data": {
      "text/html": [
       "<div>\n",
       "<style scoped>\n",
       "    .dataframe tbody tr th:only-of-type {\n",
       "        vertical-align: middle;\n",
       "    }\n",
       "\n",
       "    .dataframe tbody tr th {\n",
       "        vertical-align: top;\n",
       "    }\n",
       "\n",
       "    .dataframe thead tr th {\n",
       "        text-align: left;\n",
       "    }\n",
       "\n",
       "    .dataframe thead tr:last-of-type th {\n",
       "        text-align: right;\n",
       "    }\n",
       "</style>\n",
       "<table border=\"1\" class=\"dataframe\">\n",
       "  <thead>\n",
       "    <tr>\n",
       "      <th></th>\n",
       "      <th colspan=\"8\" halign=\"left\">EnvironmentSatisfaction</th>\n",
       "    </tr>\n",
       "    <tr>\n",
       "      <th></th>\n",
       "      <th>count</th>\n",
       "      <th>mean</th>\n",
       "      <th>std</th>\n",
       "      <th>min</th>\n",
       "      <th>25%</th>\n",
       "      <th>50%</th>\n",
       "      <th>75%</th>\n",
       "      <th>max</th>\n",
       "    </tr>\n",
       "    <tr>\n",
       "      <th>Attrition</th>\n",
       "      <th></th>\n",
       "      <th></th>\n",
       "      <th></th>\n",
       "      <th></th>\n",
       "      <th></th>\n",
       "      <th></th>\n",
       "      <th></th>\n",
       "      <th></th>\n",
       "    </tr>\n",
       "  </thead>\n",
       "  <tbody>\n",
       "    <tr>\n",
       "      <th>0</th>\n",
       "      <td>1233.0</td>\n",
       "      <td>2.771290</td>\n",
       "      <td>1.071132</td>\n",
       "      <td>1.0</td>\n",
       "      <td>2.0</td>\n",
       "      <td>3.0</td>\n",
       "      <td>4.0</td>\n",
       "      <td>4.0</td>\n",
       "    </tr>\n",
       "    <tr>\n",
       "      <th>1</th>\n",
       "      <td>237.0</td>\n",
       "      <td>2.464135</td>\n",
       "      <td>1.169791</td>\n",
       "      <td>1.0</td>\n",
       "      <td>1.0</td>\n",
       "      <td>3.0</td>\n",
       "      <td>4.0</td>\n",
       "      <td>4.0</td>\n",
       "    </tr>\n",
       "  </tbody>\n",
       "</table>\n",
       "</div>"
      ],
      "text/plain": [
       "          EnvironmentSatisfaction                                             \n",
       "                            count      mean       std  min  25%  50%  75%  max\n",
       "Attrition                                                                     \n",
       "0                          1233.0  2.771290  1.071132  1.0  2.0  3.0  4.0  4.0\n",
       "1                           237.0  2.464135  1.169791  1.0  1.0  3.0  4.0  4.0"
      ]
     },
     "execution_count": 39,
     "metadata": {},
     "output_type": "execute_result"
    }
   ],
   "source": [
    "attrition[['Attrition','EnvironmentSatisfaction']].groupby(['Attrition']).describe()"
   ]
  },
  {
   "cell_type": "code",
   "execution_count": 40,
   "metadata": {
    "colab": {
     "base_uri": "https://localhost:8080/",
     "height": 351
    },
    "executionInfo": {
     "elapsed": 19,
     "status": "ok",
     "timestamp": 1665312997776,
     "user": {
      "displayName": "SAI.SASI.SEKHAR RALLABANDI",
      "userId": "03962991214365984155"
     },
     "user_tz": -330
    },
    "id": "xnUdxiZPfSOp",
    "outputId": "69e7861a-6d42-4798-8826-884571960aec"
   },
   "outputs": [
    {
     "data": {
      "text/plain": [
       "<AxesSubplot:xlabel='EnvironmentSatisfaction', ylabel='count'>"
      ]
     },
     "execution_count": 40,
     "metadata": {},
     "output_type": "execute_result"
    },
    {
     "data": {
      "image/png": "[encoded data removed]",
      "text/plain": [
       "<Figure size 432x288 with 1 Axes>"
      ]
     },
     "metadata": {
      "needs_background": "light"
     },
     "output_type": "display_data"
    }
   ],
   "source": [
    "sns.countplot('EnvironmentSatisfaction',data=attrition)"
   ]
  },
  {
   "cell_type": "code",
   "execution_count": 41,
   "metadata": {
    "colab": {
     "base_uri": "https://localhost:8080/",
     "height": 293
    },
    "executionInfo": {
     "elapsed": 18,
     "status": "ok",
     "timestamp": 1665312997777,
     "user": {
      "displayName": "SAI.SASI.SEKHAR RALLABANDI",
      "userId": "03962991214365984155"
     },
     "user_tz": -330
    },
    "id": "ebi4FFPf34e5",
    "outputId": "8f156052-8fb1-4e6d-ecd3-f2beb3aa0936"
   },
   "outputs": [
    {
     "data": {
      "text/plain": [
       "<AxesSubplot:xlabel='EnvironmentSatisfaction'>"
      ]
     },
     "execution_count": 41,
     "metadata": {},
     "output_type": "execute_result"
    },
    {
     "data": {
      "image/png": "[encoded data removed]",
      "text/plain": [
       "<Figure size 432x288 with 1 Axes>"
      ]
     },
     "metadata": {
      "needs_background": "light"
     },
     "output_type": "display_data"
    }
   ],
   "source": [
    "ct=pd.crosstab(attrition['EnvironmentSatisfaction'],attrition['Attrition'], normalize='index')\n",
    "ct.plot.bar(stacked=True)"
   ]
  },
  {
   "cell_type": "code",
   "execution_count": 42,
   "metadata": {
    "colab": {
     "base_uri": "https://localhost:8080/"
    },
    "executionInfo": {
     "elapsed": 16,
     "status": "ok",
     "timestamp": 1665312997777,
     "user": {
      "displayName": "SAI.SASI.SEKHAR RALLABANDI",
      "userId": "03962991214365984155"
     },
     "user_tz": -330
    },
    "id": "mNumkBKSpZUx",
    "outputId": "c330fd7b-3541-4e6b-fc09-c9d2e15fe991"
   },
   "outputs": [
    {
     "name": "stdout",
     "output_type": "stream",
     "text": [
      "1)Total: 1470 \n",
      " 3    453\n",
      "4    446\n",
      "2    287\n",
      "1    284\n",
      "Name: EnvironmentSatisfaction, dtype: int64 \n",
      "\n",
      "2)table of joint proportion\n",
      " EnvironmentSatisfaction    1    2    3    4\n",
      "Attrition                                  \n",
      "0                        212  244  391  386\n",
      "1                         72   43   62   60 \n",
      "\n",
      "3)conditional probability conditioned on columns \n",
      " EnvironmentSatisfaction         1         2         3         4\n",
      "Attrition                                                      \n",
      "0                        0.746479  0.850174  0.863135  0.865471\n",
      "1                        0.253521  0.149826  0.136865  0.134529 \n",
      "\n",
      "4)conditional probability conditioned on rows \n",
      " EnvironmentSatisfaction         1         2         3         4\n",
      "Attrition                                                      \n",
      "0                        0.171938  0.197891  0.317113  0.313058\n",
      "1                        0.303797  0.181435  0.261603  0.253165\n"
     ]
    }
   ],
   "source": [
    "print('1)Total:',attrition['EnvironmentSatisfaction'].count(),'\\n',attrition['EnvironmentSatisfaction'].value_counts(),'\\n')\n",
    "table = pd.crosstab(attrition.Attrition,columns= attrition.EnvironmentSatisfaction)\n",
    "print('2)table of joint proportion\\n',table,'\\n')\n",
    "coltotal = table.sum(axis = 0)\n",
    "print('3)conditional probability conditioned on columns \\n',table.div(coltotal,axis = 1),'\\n')\n",
    "rowtotal = table.sum(axis=1)\n",
    "print('4)conditional probability conditioned on rows \\n',table.div(rowtotal,axis = 0))"
   ]
  },
  {
   "cell_type": "markdown",
   "metadata": {
    "id": "qr1py_uGpnPz"
   },
   "source": [
    "-From the bar plot we can observe that around 60% of the employees are having higher environment satisfaction  i.e., levels 3 and 4.  \n",
    "-Where as around 40% of the employees are having lower environment satisfaction i.e., levels 1 and 2.  \n"
   ]
  },
  {
   "cell_type": "markdown",
   "metadata": {
    "id": "mDgv7GYli7b8"
   },
   "source": [
    "### 10) JobInvolvement"
   ]
  },
  {
   "cell_type": "code",
   "execution_count": 43,
   "metadata": {
    "colab": {
     "base_uri": "https://localhost:8080/",
     "height": 175
    },
    "executionInfo": {
     "elapsed": 15,
     "status": "ok",
     "timestamp": 1665312997777,
     "user": {
      "displayName": "SAI.SASI.SEKHAR RALLABANDI",
      "userId": "03962991214365984155"
     },
     "user_tz": -330
    },
    "id": "PHeJsVaNgVXQ",
    "outputId": "60f3f594-3391-43ff-e808-197a2057e4ef"
   },
   "outputs": [
    {
     "data": {
      "text/html": [
       "<div>\n",
       "<style scoped>\n",
       "    .dataframe tbody tr th:only-of-type {\n",
       "        vertical-align: middle;\n",
       "    }\n",
       "\n",
       "    .dataframe tbody tr th {\n",
       "        vertical-align: top;\n",
       "    }\n",
       "\n",
       "    .dataframe thead tr th {\n",
       "        text-align: left;\n",
       "    }\n",
       "\n",
       "    .dataframe thead tr:last-of-type th {\n",
       "        text-align: right;\n",
       "    }\n",
       "</style>\n",
       "<table border=\"1\" class=\"dataframe\">\n",
       "  <thead>\n",
       "    <tr>\n",
       "      <th></th>\n",
       "      <th colspan=\"8\" halign=\"left\">JobInvolvement</th>\n",
       "    </tr>\n",
       "    <tr>\n",
       "      <th></th>\n",
       "      <th>count</th>\n",
       "      <th>mean</th>\n",
       "      <th>std</th>\n",
       "      <th>min</th>\n",
       "      <th>25%</th>\n",
       "      <th>50%</th>\n",
       "      <th>75%</th>\n",
       "      <th>max</th>\n",
       "    </tr>\n",
       "    <tr>\n",
       "      <th>Attrition</th>\n",
       "      <th></th>\n",
       "      <th></th>\n",
       "      <th></th>\n",
       "      <th></th>\n",
       "      <th></th>\n",
       "      <th></th>\n",
       "      <th></th>\n",
       "      <th></th>\n",
       "    </tr>\n",
       "  </thead>\n",
       "  <tbody>\n",
       "    <tr>\n",
       "      <th>0</th>\n",
       "      <td>1233.0</td>\n",
       "      <td>2.770479</td>\n",
       "      <td>0.692050</td>\n",
       "      <td>1.0</td>\n",
       "      <td>2.0</td>\n",
       "      <td>3.0</td>\n",
       "      <td>3.0</td>\n",
       "      <td>4.0</td>\n",
       "    </tr>\n",
       "    <tr>\n",
       "      <th>1</th>\n",
       "      <td>237.0</td>\n",
       "      <td>2.518987</td>\n",
       "      <td>0.773405</td>\n",
       "      <td>1.0</td>\n",
       "      <td>2.0</td>\n",
       "      <td>3.0</td>\n",
       "      <td>3.0</td>\n",
       "      <td>4.0</td>\n",
       "    </tr>\n",
       "  </tbody>\n",
       "</table>\n",
       "</div>"
      ],
      "text/plain": [
       "          JobInvolvement                                             \n",
       "                   count      mean       std  min  25%  50%  75%  max\n",
       "Attrition                                                            \n",
       "0                 1233.0  2.770479  0.692050  1.0  2.0  3.0  3.0  4.0\n",
       "1                  237.0  2.518987  0.773405  1.0  2.0  3.0  3.0  4.0"
      ]
     },
     "execution_count": 43,
     "metadata": {},
     "output_type": "execute_result"
    }
   ],
   "source": [
    "attrition[['Attrition','JobInvolvement']].groupby(['Attrition']).describe()"
   ]
  },
  {
   "cell_type": "code",
   "execution_count": 44,
   "metadata": {
    "colab": {
     "base_uri": "https://localhost:8080/",
     "height": 351
    },
    "executionInfo": {
     "elapsed": 15,
     "status": "ok",
     "timestamp": 1665312997777,
     "user": {
      "displayName": "SAI.SASI.SEKHAR RALLABANDI",
      "userId": "03962991214365984155"
     },
     "user_tz": -330
    },
    "id": "XszL0kDXgVcW",
    "outputId": "717e70d3-2c3a-4063-b933-8c53fe6795cd"
   },
   "outputs": [
    {
     "data": {
      "text/plain": [
       "<AxesSubplot:xlabel='JobInvolvement', ylabel='count'>"
      ]
     },
     "execution_count": 44,
     "metadata": {},
     "output_type": "execute_result"
    },
    {
     "data": {
      "image/png": "[encoded data removed]",
      "text/plain": [
       "<Figure size 432x288 with 1 Axes>"
      ]
     },
     "metadata": {
      "needs_background": "light"
     },
     "output_type": "display_data"
    }
   ],
   "source": [
    "sns.countplot('JobInvolvement',data=attrition)"
   ]
  },
  {
   "cell_type": "code",
   "execution_count": 45,
   "metadata": {
    "colab": {
     "base_uri": "https://localhost:8080/",
     "height": 293
    },
    "executionInfo": {
     "elapsed": 22,
     "status": "ok",
     "timestamp": 1665312999011,
     "user": {
      "displayName": "SAI.SASI.SEKHAR RALLABANDI",
      "userId": "03962991214365984155"
     },
     "user_tz": -330
    },
    "id": "MbivSTvl4ho5",
    "outputId": "ef6ae2c2-2b0e-477a-bac5-4b0b9ab0757e"
   },
   "outputs": [
    {
     "data": {
      "text/plain": [
       "<AxesSubplot:xlabel='JobInvolvement'>"
      ]
     },
     "execution_count": 45,
     "metadata": {},
     "output_type": "execute_result"
    },
    {
     "data": {
      "image/png": "[encoded data removed]",
      "text/plain": [
       "<Figure size 432x288 with 1 Axes>"
      ]
     },
     "metadata": {
      "needs_background": "light"
     },
     "output_type": "display_data"
    }
   ],
   "source": [
    "ct=pd.crosstab(attrition['JobInvolvement'],attrition['Attrition'], normalize='index')\n",
    "ct.plot.bar(stacked=True)"
   ]
  },
  {
   "cell_type": "code",
   "execution_count": 46,
   "metadata": {
    "colab": {
     "base_uri": "https://localhost:8080/"
    },
    "executionInfo": {
     "elapsed": 20,
     "status": "ok",
     "timestamp": 1665312999011,
     "user": {
      "displayName": "SAI.SASI.SEKHAR RALLABANDI",
      "userId": "03962991214365984155"
     },
     "user_tz": -330
    },
    "id": "k7RK4Y5yrLTn",
    "outputId": "fb5d2bbf-712d-42c9-9eb1-89e82209cf9f"
   },
   "outputs": [
    {
     "name": "stdout",
     "output_type": "stream",
     "text": [
      "1)Total: 1470 \n",
      " 3    868\n",
      "2    375\n",
      "4    144\n",
      "1     83\n",
      "Name: JobInvolvement, dtype: int64 \n",
      "\n",
      "2)table of joint proportion\n",
      " JobInvolvement   1    2    3    4\n",
      "Attrition                        \n",
      "0               55  304  743  131\n",
      "1               28   71  125   13 \n",
      "\n",
      "3)conditional probability conditioned on columns \n",
      " JobInvolvement         1         2         3         4\n",
      "Attrition                                             \n",
      "0               0.662651  0.810667  0.855991  0.909722\n",
      "1               0.337349  0.189333  0.144009  0.090278 \n",
      "\n",
      "4)conditional probability conditioned on rows \n",
      " JobInvolvement         1         2         3         4\n",
      "Attrition                                             \n",
      "0               0.044607  0.246553  0.602595  0.106245\n",
      "1               0.118143  0.299578  0.527426  0.054852\n"
     ]
    }
   ],
   "source": [
    "print('1)Total:',attrition['JobInvolvement'].count(),'\\n',attrition['JobInvolvement'].value_counts(),'\\n')\n",
    "table = pd.crosstab(attrition.Attrition,columns= attrition.JobInvolvement)\n",
    "print('2)table of joint proportion\\n',table,'\\n')\n",
    "coltotal = table.sum(axis = 0)\n",
    "print('3)conditional probability conditioned on columns \\n',table.div(coltotal,axis = 1),'\\n')\n",
    "rowtotal = table.sum(axis=1)\n",
    "print('4)conditional probability conditioned on rows \\n',table.div(rowtotal,axis = 0))"
   ]
  },
  {
   "cell_type": "markdown",
   "metadata": {
    "id": "XA5m3nh7rj3t"
   },
   "source": [
    "-From bar plot we can observe that most of the employees have an above average job invovlement.  \n",
    "-Employees who are having lower job involvement have higher probability of leaving.  "
   ]
  },
  {
   "cell_type": "markdown",
   "metadata": {
    "id": "BNW3qjK6jbfN"
   },
   "source": [
    "### 11) JobLevel"
   ]
  },
  {
   "cell_type": "code",
   "execution_count": 47,
   "metadata": {
    "colab": {
     "base_uri": "https://localhost:8080/",
     "height": 175
    },
    "executionInfo": {
     "elapsed": 19,
     "status": "ok",
     "timestamp": 1665312999012,
     "user": {
      "displayName": "SAI.SASI.SEKHAR RALLABANDI",
      "userId": "03962991214365984155"
     },
     "user_tz": -330
    },
    "id": "h3OpDZPIgVe6",
    "outputId": "1bae77a1-beba-4ca8-f3aa-45371d0f2de2"
   },
   "outputs": [
    {
     "data": {
      "text/html": [
       "<div>\n",
       "<style scoped>\n",
       "    .dataframe tbody tr th:only-of-type {\n",
       "        vertical-align: middle;\n",
       "    }\n",
       "\n",
       "    .dataframe tbody tr th {\n",
       "        vertical-align: top;\n",
       "    }\n",
       "\n",
       "    .dataframe thead tr th {\n",
       "        text-align: left;\n",
       "    }\n",
       "\n",
       "    .dataframe thead tr:last-of-type th {\n",
       "        text-align: right;\n",
       "    }\n",
       "</style>\n",
       "<table border=\"1\" class=\"dataframe\">\n",
       "  <thead>\n",
       "    <tr>\n",
       "      <th></th>\n",
       "      <th colspan=\"8\" halign=\"left\">JobLevel</th>\n",
       "    </tr>\n",
       "    <tr>\n",
       "      <th></th>\n",
       "      <th>count</th>\n",
       "      <th>mean</th>\n",
       "      <th>std</th>\n",
       "      <th>min</th>\n",
       "      <th>25%</th>\n",
       "      <th>50%</th>\n",
       "      <th>75%</th>\n",
       "      <th>max</th>\n",
       "    </tr>\n",
       "    <tr>\n",
       "      <th>Attrition</th>\n",
       "      <th></th>\n",
       "      <th></th>\n",
       "      <th></th>\n",
       "      <th></th>\n",
       "      <th></th>\n",
       "      <th></th>\n",
       "      <th></th>\n",
       "      <th></th>\n",
       "    </tr>\n",
       "  </thead>\n",
       "  <tbody>\n",
       "    <tr>\n",
       "      <th>0</th>\n",
       "      <td>1233.0</td>\n",
       "      <td>2.145985</td>\n",
       "      <td>1.117933</td>\n",
       "      <td>1.0</td>\n",
       "      <td>1.0</td>\n",
       "      <td>2.0</td>\n",
       "      <td>3.0</td>\n",
       "      <td>5.0</td>\n",
       "    </tr>\n",
       "    <tr>\n",
       "      <th>1</th>\n",
       "      <td>237.0</td>\n",
       "      <td>1.637131</td>\n",
       "      <td>0.940594</td>\n",
       "      <td>1.0</td>\n",
       "      <td>1.0</td>\n",
       "      <td>1.0</td>\n",
       "      <td>2.0</td>\n",
       "      <td>5.0</td>\n",
       "    </tr>\n",
       "  </tbody>\n",
       "</table>\n",
       "</div>"
      ],
      "text/plain": [
       "          JobLevel                                             \n",
       "             count      mean       std  min  25%  50%  75%  max\n",
       "Attrition                                                      \n",
       "0           1233.0  2.145985  1.117933  1.0  1.0  2.0  3.0  5.0\n",
       "1            237.0  1.637131  0.940594  1.0  1.0  1.0  2.0  5.0"
      ]
     },
     "execution_count": 47,
     "metadata": {},
     "output_type": "execute_result"
    }
   ],
   "source": [
    "attrition[['Attrition','JobLevel']].groupby(['Attrition']).describe()"
   ]
  },
  {
   "cell_type": "code",
   "execution_count": 48,
   "metadata": {
    "colab": {
     "base_uri": "https://localhost:8080/",
     "height": 351
    },
    "executionInfo": {
     "elapsed": 18,
     "status": "ok",
     "timestamp": 1665312999012,
     "user": {
      "displayName": "SAI.SASI.SEKHAR RALLABANDI",
      "userId": "03962991214365984155"
     },
     "user_tz": -330
    },
    "id": "WfB_LNVIgVj6",
    "outputId": "5b8fe27b-0388-46fa-e632-b738bcde6cdc"
   },
   "outputs": [
    {
     "data": {
      "text/plain": [
       "<AxesSubplot:xlabel='JobLevel', ylabel='count'>"
      ]
     },
     "execution_count": 48,
     "metadata": {},
     "output_type": "execute_result"
    },
    {
     "data": {
      "image/png": "[encoded data removed]",
      "text/plain": [
       "<Figure size 432x288 with 1 Axes>"
      ]
     },
     "metadata": {
      "needs_background": "light"
     },
     "output_type": "display_data"
    }
   ],
   "source": [
    "sns.countplot('JobLevel',data=attrition)"
   ]
  },
  {
   "cell_type": "code",
   "execution_count": 49,
   "metadata": {
    "colab": {
     "base_uri": "https://localhost:8080/",
     "height": 293
    },
    "executionInfo": {
     "elapsed": 16,
     "status": "ok",
     "timestamp": 1665312999012,
     "user": {
      "displayName": "SAI.SASI.SEKHAR RALLABANDI",
      "userId": "03962991214365984155"
     },
     "user_tz": -330
    },
    "id": "1ZVufT4_439G",
    "outputId": "5c2c3034-0ce5-4b2d-ef82-df29c3252482"
   },
   "outputs": [
    {
     "data": {
      "text/plain": [
       "<AxesSubplot:xlabel='JobLevel'>"
      ]
     },
     "execution_count": 49,
     "metadata": {},
     "output_type": "execute_result"
    },
    {
     "data": {
      "image/png": "[encoded data removed]",
      "text/plain": [
       "<Figure size 432x288 with 1 Axes>"
      ]
     },
     "metadata": {
      "needs_background": "light"
     },
     "output_type": "display_data"
    }
   ],
   "source": [
    "ct=pd.crosstab(attrition['JobLevel'],attrition['Attrition'], normalize='index')\n",
    "ct.plot.bar(stacked=True)"
   ]
  },
  {
   "cell_type": "code",
   "execution_count": 50,
   "metadata": {
    "colab": {
     "base_uri": "https://localhost:8080/"
    },
    "executionInfo": {
     "elapsed": 15,
     "status": "ok",
     "timestamp": 1665312999013,
     "user": {
      "displayName": "SAI.SASI.SEKHAR RALLABANDI",
      "userId": "03962991214365984155"
     },
     "user_tz": -330
    },
    "id": "r5sYbuo8rhhy",
    "outputId": "a70cd9e7-73a3-4546-d216-765d361529ac"
   },
   "outputs": [
    {
     "name": "stdout",
     "output_type": "stream",
     "text": [
      "1)Total: 1470 \n",
      " 1    543\n",
      "2    534\n",
      "3    218\n",
      "4    106\n",
      "5     69\n",
      "Name: JobLevel, dtype: int64 \n",
      "\n",
      "2)table of joint proportion\n",
      " JobLevel     1    2    3    4   5\n",
      "Attrition                        \n",
      "0          400  482  186  101  64\n",
      "1          143   52   32    5   5 \n",
      "\n",
      "3)conditional probability conditioned on columns \n",
      " JobLevel          1         2         3        4         5\n",
      "Attrition                                                 \n",
      "0          0.736648  0.902622  0.853211  0.95283  0.927536\n",
      "1          0.263352  0.097378  0.146789  0.04717  0.072464 \n",
      "\n",
      "4)conditional probability conditioned on rows \n",
      " JobLevel          1         2         3         4         5\n",
      "Attrition                                                  \n",
      "0          0.324412  0.390916  0.150852  0.081914  0.051906\n",
      "1          0.603376  0.219409  0.135021  0.021097  0.021097\n"
     ]
    }
   ],
   "source": [
    "print('1)Total:',attrition['JobLevel'].count(),'\\n',attrition['JobLevel'].value_counts(),'\\n')\n",
    "table = pd.crosstab(attrition.Attrition,columns= attrition.JobLevel)\n",
    "print('2)table of joint proportion\\n',table,'\\n')\n",
    "coltotal = table.sum(axis = 0)\n",
    "print('3)conditional probability conditioned on columns \\n',table.div(coltotal,axis = 1),'\\n')\n",
    "rowtotal = table.sum(axis=1)\n",
    "print('4)conditional probability conditioned on rows \\n',table.div(rowtotal,axis = 0))"
   ]
  },
  {
   "cell_type": "markdown",
   "metadata": {
    "id": "vB-PFEnaty9F"
   },
   "source": [
    "-From bar plot we can observe that most employees are in lower job level.  \n",
    "-Employees who are in lower job level has a highest probability of leaving.   \n"
   ]
  },
  {
   "cell_type": "markdown",
   "metadata": {
    "id": "2g_sQzmskSwJ"
   },
   "source": [
    "### 12) JobSatisfaction"
   ]
  },
  {
   "cell_type": "code",
   "execution_count": 51,
   "metadata": {
    "colab": {
     "base_uri": "https://localhost:8080/",
     "height": 175
    },
    "executionInfo": {
     "elapsed": 12,
     "status": "ok",
     "timestamp": 1665312999013,
     "user": {
      "displayName": "SAI.SASI.SEKHAR RALLABANDI",
      "userId": "03962991214365984155"
     },
     "user_tz": -330
    },
    "id": "J_WnSS5CfSUT",
    "outputId": "c416302f-86d2-47e2-d375-d1e17f0f3671"
   },
   "outputs": [
    {
     "data": {
      "text/html": [
       "<div>\n",
       "<style scoped>\n",
       "    .dataframe tbody tr th:only-of-type {\n",
       "        vertical-align: middle;\n",
       "    }\n",
       "\n",
       "    .dataframe tbody tr th {\n",
       "        vertical-align: top;\n",
       "    }\n",
       "\n",
       "    .dataframe thead tr th {\n",
       "        text-align: left;\n",
       "    }\n",
       "\n",
       "    .dataframe thead tr:last-of-type th {\n",
       "        text-align: right;\n",
       "    }\n",
       "</style>\n",
       "<table border=\"1\" class=\"dataframe\">\n",
       "  <thead>\n",
       "    <tr>\n",
       "      <th></th>\n",
       "      <th colspan=\"8\" halign=\"left\">JobSatisfaction</th>\n",
       "    </tr>\n",
       "    <tr>\n",
       "      <th></th>\n",
       "      <th>count</th>\n",
       "      <th>mean</th>\n",
       "      <th>std</th>\n",
       "      <th>min</th>\n",
       "      <th>25%</th>\n",
       "      <th>50%</th>\n",
       "      <th>75%</th>\n",
       "      <th>max</th>\n",
       "    </tr>\n",
       "    <tr>\n",
       "      <th>Attrition</th>\n",
       "      <th></th>\n",
       "      <th></th>\n",
       "      <th></th>\n",
       "      <th></th>\n",
       "      <th></th>\n",
       "      <th></th>\n",
       "      <th></th>\n",
       "      <th></th>\n",
       "    </tr>\n",
       "  </thead>\n",
       "  <tbody>\n",
       "    <tr>\n",
       "      <th>0</th>\n",
       "      <td>1233.0</td>\n",
       "      <td>2.778589</td>\n",
       "      <td>1.093277</td>\n",
       "      <td>1.0</td>\n",
       "      <td>2.0</td>\n",
       "      <td>3.0</td>\n",
       "      <td>4.0</td>\n",
       "      <td>4.0</td>\n",
       "    </tr>\n",
       "    <tr>\n",
       "      <th>1</th>\n",
       "      <td>237.0</td>\n",
       "      <td>2.468354</td>\n",
       "      <td>1.118058</td>\n",
       "      <td>1.0</td>\n",
       "      <td>1.0</td>\n",
       "      <td>3.0</td>\n",
       "      <td>3.0</td>\n",
       "      <td>4.0</td>\n",
       "    </tr>\n",
       "  </tbody>\n",
       "</table>\n",
       "</div>"
      ],
      "text/plain": [
       "          JobSatisfaction                                             \n",
       "                    count      mean       std  min  25%  50%  75%  max\n",
       "Attrition                                                             \n",
       "0                  1233.0  2.778589  1.093277  1.0  2.0  3.0  4.0  4.0\n",
       "1                   237.0  2.468354  1.118058  1.0  1.0  3.0  3.0  4.0"
      ]
     },
     "execution_count": 51,
     "metadata": {},
     "output_type": "execute_result"
    }
   ],
   "source": [
    "attrition[['Attrition','JobSatisfaction']].groupby(['Attrition']).describe()"
   ]
  },
  {
   "cell_type": "code",
   "execution_count": 52,
   "metadata": {
    "colab": {
     "base_uri": "https://localhost:8080/",
     "height": 351
    },
    "executionInfo": {
     "elapsed": 1178,
     "status": "ok",
     "timestamp": 1665313000180,
     "user": {
      "displayName": "SAI.SASI.SEKHAR RALLABANDI",
      "userId": "03962991214365984155"
     },
     "user_tz": -330
    },
    "id": "xe1t0TcyfSa7",
    "outputId": "a7bdf002-fd76-4f22-f1f9-1d913651f38c"
   },
   "outputs": [
    {
     "data": {
      "text/plain": [
       "<AxesSubplot:xlabel='JobSatisfaction', ylabel='count'>"
      ]
     },
     "execution_count": 52,
     "metadata": {},
     "output_type": "execute_result"
    },
    {
     "data": {
      "image/png": "[encoded data removed]",
      "text/plain": [
       "<Figure size 432x288 with 1 Axes>"
      ]
     },
     "metadata": {
      "needs_background": "light"
     },
     "output_type": "display_data"
    }
   ],
   "source": [
    "sns.countplot('JobSatisfaction',data=attrition)"
   ]
  },
  {
   "cell_type": "code",
   "execution_count": 53,
   "metadata": {
    "colab": {
     "base_uri": "https://localhost:8080/",
     "height": 293
    },
    "executionInfo": {
     "elapsed": 25,
     "status": "ok",
     "timestamp": 1665313000180,
     "user": {
      "displayName": "SAI.SASI.SEKHAR RALLABANDI",
      "userId": "03962991214365984155"
     },
     "user_tz": -330
    },
    "id": "gUvjAK665BP2",
    "outputId": "fd29fe8c-8321-495d-a77c-2496fc2e8770"
   },
   "outputs": [
    {
     "data": {
      "text/plain": [
       "<AxesSubplot:xlabel='JobSatisfaction'>"
      ]
     },
     "execution_count": 53,
     "metadata": {},
     "output_type": "execute_result"
    },
    {
     "data": {
      "image/png": "[encoded data removed]",
      "text/plain": [
       "<Figure size 432x288 with 1 Axes>"
      ]
     },
     "metadata": {
      "needs_background": "light"
     },
     "output_type": "display_data"
    }
   ],
   "source": [
    "ct=pd.crosstab(attrition['JobSatisfaction'],attrition['Attrition'], normalize='index')\n",
    "ct.plot.bar(stacked=True)"
   ]
  },
  {
   "cell_type": "code",
   "execution_count": 54,
   "metadata": {
    "colab": {
     "base_uri": "https://localhost:8080/"
    },
    "executionInfo": {
     "elapsed": 21,
     "status": "ok",
     "timestamp": 1665313000180,
     "user": {
      "displayName": "SAI.SASI.SEKHAR RALLABANDI",
      "userId": "03962991214365984155"
     },
     "user_tz": -330
    },
    "id": "ul_VRErYsP4D",
    "outputId": "51e22017-7b3f-4aea-9089-d68e9daae47f"
   },
   "outputs": [
    {
     "name": "stdout",
     "output_type": "stream",
     "text": [
      "1)Total: 1470 \n",
      " 4    459\n",
      "3    442\n",
      "1    289\n",
      "2    280\n",
      "Name: JobSatisfaction, dtype: int64 \n",
      "\n",
      "2)table of joint proportion\n",
      " JobSatisfaction    1    2    3    4\n",
      "Attrition                          \n",
      "0                223  234  369  407\n",
      "1                 66   46   73   52 \n",
      "\n",
      "3)conditional probability conditioned on columns \n",
      " JobSatisfaction         1         2         3        4\n",
      "Attrition                                             \n",
      "0                0.771626  0.835714  0.834842  0.88671\n",
      "1                0.228374  0.164286  0.165158  0.11329 \n",
      "\n",
      "4)conditional probability conditioned on rows \n",
      " JobSatisfaction         1         2         3         4\n",
      "Attrition                                              \n",
      "0                0.180860  0.189781  0.299270  0.330089\n",
      "1                0.278481  0.194093  0.308017  0.219409\n"
     ]
    }
   ],
   "source": [
    "print('1)Total:',attrition['JobSatisfaction'].count(),'\\n',attrition['JobSatisfaction'].value_counts(),'\\n')\n",
    "table = pd.crosstab(attrition.Attrition,columns= attrition.JobSatisfaction)\n",
    "print('2)table of joint proportion\\n',table,'\\n')\n",
    "coltotal = table.sum(axis = 0)\n",
    "print('3)conditional probability conditioned on columns \\n',table.div(coltotal,axis = 1),'\\n')\n",
    "rowtotal = table.sum(axis=1)\n",
    "print('4)conditional probability conditioned on rows \\n',table.div(rowtotal,axis = 0))"
   ]
  },
  {
   "cell_type": "markdown",
   "metadata": {
    "id": "p641XNNXu2DS"
   },
   "source": [
    "-Around 60% of employees are having higher job satisfaction i.e., levels 3 and 4. Where as 40% of employees are having lower job satisfaction i.e., levels 1 and 2.   \n",
    "-Employees who are having job satisfaction of 1 are having slightly higher probability of leaving company.  "
   ]
  },
  {
   "cell_type": "markdown",
   "metadata": {
    "id": "qfzstVm0koM8"
   },
   "source": [
    "### 13) WorkLifeBalance"
   ]
  },
  {
   "cell_type": "code",
   "execution_count": 55,
   "metadata": {
    "colab": {
     "base_uri": "https://localhost:8080/",
     "height": 175
    },
    "executionInfo": {
     "elapsed": 21,
     "status": "ok",
     "timestamp": 1665313000181,
     "user": {
      "displayName": "SAI.SASI.SEKHAR RALLABANDI",
      "userId": "03962991214365984155"
     },
     "user_tz": -330
    },
    "id": "ivKoZXGwZL6k",
    "outputId": "f98e2f8b-455a-40c9-f92b-c4ef43cbb9e2"
   },
   "outputs": [
    {
     "data": {
      "text/html": [
       "<div>\n",
       "<style scoped>\n",
       "    .dataframe tbody tr th:only-of-type {\n",
       "        vertical-align: middle;\n",
       "    }\n",
       "\n",
       "    .dataframe tbody tr th {\n",
       "        vertical-align: top;\n",
       "    }\n",
       "\n",
       "    .dataframe thead tr th {\n",
       "        text-align: left;\n",
       "    }\n",
       "\n",
       "    .dataframe thead tr:last-of-type th {\n",
       "        text-align: right;\n",
       "    }\n",
       "</style>\n",
       "<table border=\"1\" class=\"dataframe\">\n",
       "  <thead>\n",
       "    <tr>\n",
       "      <th></th>\n",
       "      <th colspan=\"8\" halign=\"left\">WorkLifeBalance</th>\n",
       "    </tr>\n",
       "    <tr>\n",
       "      <th></th>\n",
       "      <th>count</th>\n",
       "      <th>mean</th>\n",
       "      <th>std</th>\n",
       "      <th>min</th>\n",
       "      <th>25%</th>\n",
       "      <th>50%</th>\n",
       "      <th>75%</th>\n",
       "      <th>max</th>\n",
       "    </tr>\n",
       "    <tr>\n",
       "      <th>Attrition</th>\n",
       "      <th></th>\n",
       "      <th></th>\n",
       "      <th></th>\n",
       "      <th></th>\n",
       "      <th></th>\n",
       "      <th></th>\n",
       "      <th></th>\n",
       "      <th></th>\n",
       "    </tr>\n",
       "  </thead>\n",
       "  <tbody>\n",
       "    <tr>\n",
       "      <th>0</th>\n",
       "      <td>1233.0</td>\n",
       "      <td>2.781022</td>\n",
       "      <td>0.681907</td>\n",
       "      <td>1.0</td>\n",
       "      <td>2.0</td>\n",
       "      <td>3.0</td>\n",
       "      <td>3.0</td>\n",
       "      <td>4.0</td>\n",
       "    </tr>\n",
       "    <tr>\n",
       "      <th>1</th>\n",
       "      <td>237.0</td>\n",
       "      <td>2.658228</td>\n",
       "      <td>0.816453</td>\n",
       "      <td>1.0</td>\n",
       "      <td>2.0</td>\n",
       "      <td>3.0</td>\n",
       "      <td>3.0</td>\n",
       "      <td>4.0</td>\n",
       "    </tr>\n",
       "  </tbody>\n",
       "</table>\n",
       "</div>"
      ],
      "text/plain": [
       "          WorkLifeBalance                                             \n",
       "                    count      mean       std  min  25%  50%  75%  max\n",
       "Attrition                                                             \n",
       "0                  1233.0  2.781022  0.681907  1.0  2.0  3.0  3.0  4.0\n",
       "1                   237.0  2.658228  0.816453  1.0  2.0  3.0  3.0  4.0"
      ]
     },
     "execution_count": 55,
     "metadata": {},
     "output_type": "execute_result"
    }
   ],
   "source": [
    "attrition[['Attrition','WorkLifeBalance']].groupby(['Attrition']).describe()"
   ]
  },
  {
   "cell_type": "code",
   "execution_count": 56,
   "metadata": {
    "colab": {
     "base_uri": "https://localhost:8080/",
     "height": 351
    },
    "executionInfo": {
     "elapsed": 20,
     "status": "ok",
     "timestamp": 1665313000181,
     "user": {
      "displayName": "SAI.SASI.SEKHAR RALLABANDI",
      "userId": "03962991214365984155"
     },
     "user_tz": -330
    },
    "id": "7Jk_cnfLkR4c",
    "outputId": "58d77a7f-3c98-4c3d-8671-92938b222440"
   },
   "outputs": [
    {
     "data": {
      "text/plain": [
       "<AxesSubplot:xlabel='WorkLifeBalance', ylabel='count'>"
      ]
     },
     "execution_count": 56,
     "metadata": {},
     "output_type": "execute_result"
    },
    {
     "data": {
      "image/png": "[encoded data removed]",
      "text/plain": [
       "<Figure size 432x288 with 1 Axes>"
      ]
     },
     "metadata": {
      "needs_background": "light"
     },
     "output_type": "display_data"
    }
   ],
   "source": [
    "sns.countplot('WorkLifeBalance',data=attrition)"
   ]
  },
  {
   "cell_type": "code",
   "execution_count": 57,
   "metadata": {
    "colab": {
     "base_uri": "https://localhost:8080/",
     "height": 293
    },
    "executionInfo": {
     "elapsed": 19,
     "status": "ok",
     "timestamp": 1665313000181,
     "user": {
      "displayName": "SAI.SASI.SEKHAR RALLABANDI",
      "userId": "03962991214365984155"
     },
     "user_tz": -330
    },
    "id": "Pr6bcHfH5F6_",
    "outputId": "a06e4e9d-cee4-457c-bc46-fadd45abe21f"
   },
   "outputs": [
    {
     "data": {
      "text/plain": [
       "<AxesSubplot:xlabel='WorkLifeBalance'>"
      ]
     },
     "execution_count": 57,
     "metadata": {},
     "output_type": "execute_result"
    },
    {
     "data": {
      "image/png": "[encoded data removed]",
      "text/plain": [
       "<Figure size 432x288 with 1 Axes>"
      ]
     },
     "metadata": {
      "needs_background": "light"
     },
     "output_type": "display_data"
    }
   ],
   "source": [
    "ct=pd.crosstab(attrition['WorkLifeBalance'],attrition['Attrition'], normalize='index')\n",
    "ct.plot.bar(stacked=True)"
   ]
  },
  {
   "cell_type": "code",
   "execution_count": 58,
   "metadata": {
    "colab": {
     "base_uri": "https://localhost:8080/"
    },
    "executionInfo": {
     "elapsed": 17,
     "status": "ok",
     "timestamp": 1665313000181,
     "user": {
      "displayName": "SAI.SASI.SEKHAR RALLABANDI",
      "userId": "03962991214365984155"
     },
     "user_tz": -330
    },
    "id": "2zuFm4VCsZ0O",
    "outputId": "e17fba82-6198-4542-a850-caafa2443ddd"
   },
   "outputs": [
    {
     "name": "stdout",
     "output_type": "stream",
     "text": [
      "1)Total: 1470 \n",
      " 3    893\n",
      "2    344\n",
      "4    153\n",
      "1     80\n",
      "Name: WorkLifeBalance, dtype: int64 \n",
      "\n",
      "2)table of joint proportion\n",
      " WorkLifeBalance   1    2    3    4\n",
      "Attrition                         \n",
      "0                55  286  766  126\n",
      "1                25   58  127   27 \n",
      "\n",
      "3)conditional probability conditioned on columns \n",
      " WorkLifeBalance       1         2         3         4\n",
      "Attrition                                            \n",
      "0                0.6875  0.831395  0.857783  0.823529\n",
      "1                0.3125  0.168605  0.142217  0.176471 \n",
      "\n",
      "4)conditional probability conditioned on rows \n",
      " WorkLifeBalance         1         2         3         4\n",
      "Attrition                                              \n",
      "0                0.044607  0.231955  0.621249  0.102190\n",
      "1                0.105485  0.244726  0.535865  0.113924\n"
     ]
    }
   ],
   "source": [
    "print('1)Total:',attrition['WorkLifeBalance'].count(),'\\n',attrition['WorkLifeBalance'].value_counts(),'\\n')\n",
    "table = pd.crosstab(attrition.Attrition,columns= attrition.WorkLifeBalance)\n",
    "print('2)table of joint proportion\\n',table,'\\n')\n",
    "coltotal = table.sum(axis = 0)\n",
    "print('3)conditional probability conditioned on columns \\n',table.div(coltotal,axis = 1),'\\n')\n",
    "rowtotal = table.sum(axis=1)\n",
    "print('4)conditional probability conditioned on rows \\n',table.div(rowtotal,axis = 0))"
   ]
  },
  {
   "cell_type": "markdown",
   "metadata": {
    "id": "JH82fOnfv3J9"
   },
   "source": [
    "-Most of the employees having above average worklifebalance so it implies very less employees are having bad worklifebalance.   \n",
    "-If the worklifebalance is 1 the probability of leaving the company is higher. Where as for worklifebalance 2,3,4 the probability of leaving the company is lower.  \n"
   ]
  },
  {
   "cell_type": "markdown",
   "metadata": {
    "id": "r2QIi466k-pG"
   },
   "source": [
    "### 14) BusinessTravel"
   ]
  },
  {
   "cell_type": "code",
   "execution_count": 59,
   "metadata": {
    "colab": {
     "base_uri": "https://localhost:8080/",
     "height": 175
    },
    "executionInfo": {
     "elapsed": 16,
     "status": "ok",
     "timestamp": 1665313000181,
     "user": {
      "displayName": "SAI.SASI.SEKHAR RALLABANDI",
      "userId": "03962991214365984155"
     },
     "user_tz": -330
    },
    "id": "U4C_GSMMkR2d",
    "outputId": "c7c7be05-3f4f-42e7-f0ad-545472997c14"
   },
   "outputs": [
    {
     "data": {
      "text/html": [
       "<div>\n",
       "<style scoped>\n",
       "    .dataframe tbody tr th:only-of-type {\n",
       "        vertical-align: middle;\n",
       "    }\n",
       "\n",
       "    .dataframe tbody tr th {\n",
       "        vertical-align: top;\n",
       "    }\n",
       "\n",
       "    .dataframe thead tr th {\n",
       "        text-align: left;\n",
       "    }\n",
       "\n",
       "    .dataframe thead tr:last-of-type th {\n",
       "        text-align: right;\n",
       "    }\n",
       "</style>\n",
       "<table border=\"1\" class=\"dataframe\">\n",
       "  <thead>\n",
       "    <tr>\n",
       "      <th></th>\n",
       "      <th colspan=\"4\" halign=\"left\">BusinessTravel</th>\n",
       "    </tr>\n",
       "    <tr>\n",
       "      <th></th>\n",
       "      <th>count</th>\n",
       "      <th>unique</th>\n",
       "      <th>top</th>\n",
       "      <th>freq</th>\n",
       "    </tr>\n",
       "    <tr>\n",
       "      <th>Attrition</th>\n",
       "      <th></th>\n",
       "      <th></th>\n",
       "      <th></th>\n",
       "      <th></th>\n",
       "    </tr>\n",
       "  </thead>\n",
       "  <tbody>\n",
       "    <tr>\n",
       "      <th>0</th>\n",
       "      <td>1233</td>\n",
       "      <td>3</td>\n",
       "      <td>Travel_Rarely</td>\n",
       "      <td>887</td>\n",
       "    </tr>\n",
       "    <tr>\n",
       "      <th>1</th>\n",
       "      <td>237</td>\n",
       "      <td>3</td>\n",
       "      <td>Travel_Rarely</td>\n",
       "      <td>156</td>\n",
       "    </tr>\n",
       "  </tbody>\n",
       "</table>\n",
       "</div>"
      ],
      "text/plain": [
       "          BusinessTravel                           \n",
       "                   count unique            top freq\n",
       "Attrition                                          \n",
       "0                   1233      3  Travel_Rarely  887\n",
       "1                    237      3  Travel_Rarely  156"
      ]
     },
     "execution_count": 59,
     "metadata": {},
     "output_type": "execute_result"
    }
   ],
   "source": [
    "attrition[['Attrition','BusinessTravel']].groupby(['Attrition']).describe()"
   ]
  },
  {
   "cell_type": "code",
   "execution_count": 60,
   "metadata": {
    "colab": {
     "base_uri": "https://localhost:8080/",
     "height": 352
    },
    "executionInfo": {
     "elapsed": 17,
     "status": "ok",
     "timestamp": 1665313000182,
     "user": {
      "displayName": "SAI.SASI.SEKHAR RALLABANDI",
      "userId": "03962991214365984155"
     },
     "user_tz": -330
    },
    "id": "TjUPwKoGkRx5",
    "outputId": "f82a9a6a-da55-4289-e9bc-ee5159062ee0"
   },
   "outputs": [
    {
     "data": {
      "text/plain": [
       "<AxesSubplot:xlabel='BusinessTravel', ylabel='count'>"
      ]
     },
     "execution_count": 60,
     "metadata": {},
     "output_type": "execute_result"
    },
    {
     "data": {
      "image/png": "[encoded data removed]",
      "text/plain": [
       "<Figure size 432x288 with 1 Axes>"
      ]
     },
     "metadata": {
      "needs_background": "light"
     },
     "output_type": "display_data"
    }
   ],
   "source": [
    "sns.countplot('BusinessTravel',data=attrition)"
   ]
  },
  {
   "cell_type": "code",
   "execution_count": 61,
   "metadata": {
    "colab": {
     "base_uri": "https://localhost:8080/",
     "height": 374
    },
    "executionInfo": {
     "elapsed": 15,
     "status": "ok",
     "timestamp": 1665313000182,
     "user": {
      "displayName": "SAI.SASI.SEKHAR RALLABANDI",
      "userId": "03962991214365984155"
     },
     "user_tz": -330
    },
    "id": "GButO-bg5VZf",
    "outputId": "e24e01ed-7476-4751-e8d0-82d6e7e747c9"
   },
   "outputs": [
    {
     "data": {
      "text/plain": [
       "<AxesSubplot:xlabel='BusinessTravel'>"
      ]
     },
     "execution_count": 61,
     "metadata": {},
     "output_type": "execute_result"
    },
    {
     "data": {
      "image/png": "[encoded data removed]",
      "text/plain": [
       "<Figure size 432x288 with 1 Axes>"
      ]
     },
     "metadata": {
      "needs_background": "light"
     },
     "output_type": "display_data"
    }
   ],
   "source": [
    "ct=pd.crosstab(attrition['BusinessTravel'],attrition['Attrition'], normalize='index')\n",
    "ct.plot.bar(stacked=True)"
   ]
  },
  {
   "cell_type": "code",
   "execution_count": 62,
   "metadata": {
    "colab": {
     "base_uri": "https://localhost:8080/"
    },
    "executionInfo": {
     "elapsed": 14,
     "status": "ok",
     "timestamp": 1665313000182,
     "user": {
      "displayName": "SAI.SASI.SEKHAR RALLABANDI",
      "userId": "03962991214365984155"
     },
     "user_tz": -330
    },
    "id": "hGBZcECgskdx",
    "outputId": "dafb7245-3963-4251-c164-60d0e87c1287"
   },
   "outputs": [
    {
     "name": "stdout",
     "output_type": "stream",
     "text": [
      "1)Total: 1470 \n",
      " Travel_Rarely        1043\n",
      "Travel_Frequently     277\n",
      "Non-Travel            150\n",
      "Name: BusinessTravel, dtype: int64 \n",
      "\n",
      "2)table of joint proportion\n",
      " BusinessTravel  Non-Travel  Travel_Frequently  Travel_Rarely\n",
      "Attrition                                                   \n",
      "0                      138                208            887\n",
      "1                       12                 69            156 \n",
      "\n",
      "3)conditional probability conditioned on columns \n",
      " BusinessTravel  Non-Travel  Travel_Frequently  Travel_Rarely\n",
      "Attrition                                                   \n",
      "0                     0.92           0.750903       0.850431\n",
      "1                     0.08           0.249097       0.149569 \n",
      "\n",
      "4)conditional probability conditioned on rows \n",
      " BusinessTravel  Non-Travel  Travel_Frequently  Travel_Rarely\n",
      "Attrition                                                   \n",
      "0                 0.111922           0.168694       0.719384\n",
      "1                 0.050633           0.291139       0.658228\n"
     ]
    }
   ],
   "source": [
    "print('1)Total:',attrition['BusinessTravel'].count(),'\\n',attrition['BusinessTravel'].value_counts(),'\\n')\n",
    "table = pd.crosstab(attrition.Attrition,columns= attrition.BusinessTravel)\n",
    "print('2)table of joint proportion\\n',table,'\\n')\n",
    "coltotal = table.sum(axis = 0)\n",
    "print('3)conditional probability conditioned on columns \\n',table.div(coltotal,axis = 1),'\\n')\n",
    "rowtotal = table.sum(axis=1)\n",
    "print('4)conditional probability conditioned on rows \\n',table.div(rowtotal,axis = 0))"
   ]
  },
  {
   "cell_type": "markdown",
   "metadata": {
    "id": "4CUJP3rfw-F3"
   },
   "source": [
    "-Most of the employees rarely travel.  \n",
    "-Around 1/4th of employees travel frequently.  \n",
    "-Out of the employees who travel frequently have significantly higher probability of leaving.  "
   ]
  },
  {
   "cell_type": "markdown",
   "metadata": {
    "id": "hLhwhoynlO6g"
   },
   "source": [
    "### 15) Department"
   ]
  },
  {
   "cell_type": "code",
   "execution_count": 63,
   "metadata": {
    "colab": {
     "base_uri": "https://localhost:8080/",
     "height": 175
    },
    "executionInfo": {
     "elapsed": 636,
     "status": "ok",
     "timestamp": 1665313000805,
     "user": {
      "displayName": "SAI.SASI.SEKHAR RALLABANDI",
      "userId": "03962991214365984155"
     },
     "user_tz": -330
    },
    "id": "t-JZwyRakRvn",
    "outputId": "bca61d8b-13d8-404a-e769-87d066a89d96"
   },
   "outputs": [
    {
     "data": {
      "text/html": [
       "<div>\n",
       "<style scoped>\n",
       "    .dataframe tbody tr th:only-of-type {\n",
       "        vertical-align: middle;\n",
       "    }\n",
       "\n",
       "    .dataframe tbody tr th {\n",
       "        vertical-align: top;\n",
       "    }\n",
       "\n",
       "    .dataframe thead tr th {\n",
       "        text-align: left;\n",
       "    }\n",
       "\n",
       "    .dataframe thead tr:last-of-type th {\n",
       "        text-align: right;\n",
       "    }\n",
       "</style>\n",
       "<table border=\"1\" class=\"dataframe\">\n",
       "  <thead>\n",
       "    <tr>\n",
       "      <th></th>\n",
       "      <th colspan=\"4\" halign=\"left\">Department</th>\n",
       "    </tr>\n",
       "    <tr>\n",
       "      <th></th>\n",
       "      <th>count</th>\n",
       "      <th>unique</th>\n",
       "      <th>top</th>\n",
       "      <th>freq</th>\n",
       "    </tr>\n",
       "    <tr>\n",
       "      <th>Attrition</th>\n",
       "      <th></th>\n",
       "      <th></th>\n",
       "      <th></th>\n",
       "      <th></th>\n",
       "    </tr>\n",
       "  </thead>\n",
       "  <tbody>\n",
       "    <tr>\n",
       "      <th>0</th>\n",
       "      <td>1233</td>\n",
       "      <td>3</td>\n",
       "      <td>Research &amp; Development</td>\n",
       "      <td>828</td>\n",
       "    </tr>\n",
       "    <tr>\n",
       "      <th>1</th>\n",
       "      <td>237</td>\n",
       "      <td>3</td>\n",
       "      <td>Research &amp; Development</td>\n",
       "      <td>133</td>\n",
       "    </tr>\n",
       "  </tbody>\n",
       "</table>\n",
       "</div>"
      ],
      "text/plain": [
       "          Department                                    \n",
       "               count unique                     top freq\n",
       "Attrition                                               \n",
       "0               1233      3  Research & Development  828\n",
       "1                237      3  Research & Development  133"
      ]
     },
     "execution_count": 63,
     "metadata": {},
     "output_type": "execute_result"
    }
   ],
   "source": [
    "attrition[['Attrition','Department']].groupby(['Attrition']).describe()"
   ]
  },
  {
   "cell_type": "code",
   "execution_count": 64,
   "metadata": {
    "colab": {
     "base_uri": "https://localhost:8080/",
     "height": 353
    },
    "executionInfo": {
     "elapsed": 21,
     "status": "ok",
     "timestamp": 1665313000806,
     "user": {
      "displayName": "SAI.SASI.SEKHAR RALLABANDI",
      "userId": "03962991214365984155"
     },
     "user_tz": -330
    },
    "id": "DpZ_ZYLekRrF",
    "outputId": "d04e50d1-c947-4051-aeba-49b94c2e21d5"
   },
   "outputs": [
    {
     "data": {
      "text/plain": [
       "<AxesSubplot:xlabel='Department', ylabel='count'>"
      ]
     },
     "execution_count": 64,
     "metadata": {},
     "output_type": "execute_result"
    },
    {
     "data": {
      "image/png": "[encoded data removed]",
      "text/plain": [
       "<Figure size 432x288 with 1 Axes>"
      ]
     },
     "metadata": {
      "needs_background": "light"
     },
     "output_type": "display_data"
    }
   ],
   "source": [
    "sns.countplot('Department',data=attrition)"
   ]
  },
  {
   "cell_type": "code",
   "execution_count": 65,
   "metadata": {
    "colab": {
     "base_uri": "https://localhost:8080/",
     "height": 413
    },
    "executionInfo": {
     "elapsed": 20,
     "status": "ok",
     "timestamp": 1665313000807,
     "user": {
      "displayName": "SAI.SASI.SEKHAR RALLABANDI",
      "userId": "03962991214365984155"
     },
     "user_tz": -330
    },
    "id": "pxOMrDBD5nSW",
    "outputId": "2f4050d5-84f4-467e-be4b-ddd7ed73c4b5"
   },
   "outputs": [
    {
     "data": {
      "text/plain": [
       "<AxesSubplot:xlabel='Department'>"
      ]
     },
     "execution_count": 65,
     "metadata": {},
     "output_type": "execute_result"
    },
    {
     "data": {
      "image/png": "[encoded data removed]",
      "text/plain": [
       "<Figure size 432x288 with 1 Axes>"
      ]
     },
     "metadata": {
      "needs_background": "light"
     },
     "output_type": "display_data"
    }
   ],
   "source": [
    "ct=pd.crosstab(attrition['Department'],attrition['Attrition'], normalize='index')\n",
    "ct.plot.bar(stacked=True)"
   ]
  },
  {
   "cell_type": "code",
   "execution_count": 66,
   "metadata": {
    "colab": {
     "base_uri": "https://localhost:8080/"
    },
    "executionInfo": {
     "elapsed": 18,
     "status": "ok",
     "timestamp": 1665313000807,
     "user": {
      "displayName": "SAI.SASI.SEKHAR RALLABANDI",
      "userId": "03962991214365984155"
     },
     "user_tz": -330
    },
    "id": "68A-nC76sonu",
    "outputId": "36f9fdf8-c5ea-4096-d8aa-a1c6fabd1e63"
   },
   "outputs": [
    {
     "name": "stdout",
     "output_type": "stream",
     "text": [
      "1)Total: 1470 \n",
      " Research & Development    961\n",
      "Sales                     446\n",
      "Human Resources            63\n",
      "Name: Department, dtype: int64 \n",
      "\n",
      "2)table of joint proportion\n",
      " Department  Human Resources  Research & Development  Sales\n",
      "Attrition                                                 \n",
      "0                        51                     828    354\n",
      "1                        12                     133     92 \n",
      "\n",
      "3)conditional probability conditioned on columns \n",
      " Department  Human Resources  Research & Development     Sales\n",
      "Attrition                                                    \n",
      "0                  0.809524                0.861602  0.793722\n",
      "1                  0.190476                0.138398  0.206278 \n",
      "\n",
      "4)conditional probability conditioned on rows \n",
      " Department  Human Resources  Research & Development     Sales\n",
      "Attrition                                                    \n",
      "0                  0.041363                0.671533  0.287105\n",
      "1                  0.050633                0.561181  0.388186\n"
     ]
    }
   ],
   "source": [
    "print('1)Total:',attrition['Department'].count(),'\\n',attrition['Department'].value_counts(),'\\n')\n",
    "table = pd.crosstab(attrition.Attrition,columns= attrition.Department)\n",
    "print('2)table of joint proportion\\n',table,'\\n')\n",
    "coltotal = table.sum(axis = 0)\n",
    "print('3)conditional probability conditioned on columns \\n',table.div(coltotal,axis = 1),'\\n')\n",
    "rowtotal = table.sum(axis=1)\n",
    "print('4)conditional probability conditioned on rows \\n',table.div(rowtotal,axis = 0))"
   ]
  },
  {
   "cell_type": "markdown",
   "metadata": {
    "id": "hc-kXDg0x0R2"
   },
   "source": [
    "-Most of the employees in the company worked in the R&D Department.  \n",
    "-The probability of the employees leaving the company from the department HR,R&D and sales are 0.19,0.13 and 0.20 respectively. While the employees from HR & sales are having slightly higher probability of leaving the company but it is not significant enough.  "
   ]
  },
  {
   "cell_type": "markdown",
   "metadata": {
    "id": "LwZIgfUmlcUs"
   },
   "source": [
    "### 16) EducationField"
   ]
  },
  {
   "cell_type": "code",
   "execution_count": 67,
   "metadata": {
    "colab": {
     "base_uri": "https://localhost:8080/",
     "height": 175
    },
    "executionInfo": {
     "elapsed": 16,
     "status": "ok",
     "timestamp": 1665313000807,
     "user": {
      "displayName": "SAI.SASI.SEKHAR RALLABANDI",
      "userId": "03962991214365984155"
     },
     "user_tz": -330
    },
    "id": "sLjDh9x6kRob",
    "outputId": "f563a5fe-f5d0-4c9d-9a7c-0166aa01c134"
   },
   "outputs": [
    {
     "data": {
      "text/html": [
       "<div>\n",
       "<style scoped>\n",
       "    .dataframe tbody tr th:only-of-type {\n",
       "        vertical-align: middle;\n",
       "    }\n",
       "\n",
       "    .dataframe tbody tr th {\n",
       "        vertical-align: top;\n",
       "    }\n",
       "\n",
       "    .dataframe thead tr th {\n",
       "        text-align: left;\n",
       "    }\n",
       "\n",
       "    .dataframe thead tr:last-of-type th {\n",
       "        text-align: right;\n",
       "    }\n",
       "</style>\n",
       "<table border=\"1\" class=\"dataframe\">\n",
       "  <thead>\n",
       "    <tr>\n",
       "      <th></th>\n",
       "      <th colspan=\"4\" halign=\"left\">EducationField</th>\n",
       "    </tr>\n",
       "    <tr>\n",
       "      <th></th>\n",
       "      <th>count</th>\n",
       "      <th>unique</th>\n",
       "      <th>top</th>\n",
       "      <th>freq</th>\n",
       "    </tr>\n",
       "    <tr>\n",
       "      <th>Attrition</th>\n",
       "      <th></th>\n",
       "      <th></th>\n",
       "      <th></th>\n",
       "      <th></th>\n",
       "    </tr>\n",
       "  </thead>\n",
       "  <tbody>\n",
       "    <tr>\n",
       "      <th>0</th>\n",
       "      <td>1233</td>\n",
       "      <td>6</td>\n",
       "      <td>Life Sciences</td>\n",
       "      <td>517</td>\n",
       "    </tr>\n",
       "    <tr>\n",
       "      <th>1</th>\n",
       "      <td>237</td>\n",
       "      <td>6</td>\n",
       "      <td>Life Sciences</td>\n",
       "      <td>89</td>\n",
       "    </tr>\n",
       "  </tbody>\n",
       "</table>\n",
       "</div>"
      ],
      "text/plain": [
       "          EducationField                           \n",
       "                   count unique            top freq\n",
       "Attrition                                          \n",
       "0                   1233      6  Life Sciences  517\n",
       "1                    237      6  Life Sciences   89"
      ]
     },
     "execution_count": 67,
     "metadata": {},
     "output_type": "execute_result"
    }
   ],
   "source": [
    "attrition[['Attrition','EducationField']].groupby(['Attrition']).describe()"
   ]
  },
  {
   "cell_type": "code",
   "execution_count": 68,
   "metadata": {
    "colab": {
     "base_uri": "https://localhost:8080/",
     "height": 351
    },
    "executionInfo": {
     "elapsed": 16,
     "status": "ok",
     "timestamp": 1665313000807,
     "user": {
      "displayName": "SAI.SASI.SEKHAR RALLABANDI",
      "userId": "03962991214365984155"
     },
     "user_tz": -330
    },
    "id": "OJdHJEB9kRjh",
    "outputId": "7ff24128-7a78-4cad-80fd-ecb3c289eb09"
   },
   "outputs": [
    {
     "data": {
      "text/plain": [
       "<AxesSubplot:xlabel='EducationField', ylabel='count'>"
      ]
     },
     "execution_count": 68,
     "metadata": {},
     "output_type": "execute_result"
    },
    {
     "data": {
      "image/png": "[encoded data removed]",
      "text/plain": [
       "<Figure size 432x288 with 1 Axes>"
      ]
     },
     "metadata": {
      "needs_background": "light"
     },
     "output_type": "display_data"
    }
   ],
   "source": [
    "sns.countplot('EducationField',data=attrition)"
   ]
  },
  {
   "cell_type": "code",
   "execution_count": 69,
   "metadata": {
    "colab": {
     "base_uri": "https://localhost:8080/",
     "height": 376
    },
    "executionInfo": {
     "elapsed": 15,
     "status": "ok",
     "timestamp": 1665313000808,
     "user": {
      "displayName": "SAI.SASI.SEKHAR RALLABANDI",
      "userId": "03962991214365984155"
     },
     "user_tz": -330
    },
    "id": "vi8Yx2U65u4O",
    "outputId": "1532e811-fcfa-4e72-99f9-e09b29a38e71"
   },
   "outputs": [
    {
     "data": {
      "text/plain": [
       "<AxesSubplot:xlabel='EducationField'>"
      ]
     },
     "execution_count": 69,
     "metadata": {},
     "output_type": "execute_result"
    },
    {
     "data": {
      "image/png": "[encoded data removed]",
      "text/plain": [
       "<Figure size 432x288 with 1 Axes>"
      ]
     },
     "metadata": {
      "needs_background": "light"
     },
     "output_type": "display_data"
    }
   ],
   "source": [
    "ct=pd.crosstab(attrition['EducationField'],attrition['Attrition'], normalize='index')\n",
    "ct.plot.bar(stacked=True)"
   ]
  },
  {
   "cell_type": "code",
   "execution_count": 70,
   "metadata": {
    "colab": {
     "base_uri": "https://localhost:8080/"
    },
    "executionInfo": {
     "elapsed": 14,
     "status": "ok",
     "timestamp": 1665313000808,
     "user": {
      "displayName": "SAI.SASI.SEKHAR RALLABANDI",
      "userId": "03962991214365984155"
     },
     "user_tz": -330
    },
    "id": "nWO_qY1_ssiz",
    "outputId": "5bb07a4b-1ca6-4251-ab4b-ed8cd30165db"
   },
   "outputs": [
    {
     "name": "stdout",
     "output_type": "stream",
     "text": [
      "1)Total: 1470 \n",
      " Life Sciences       606\n",
      "Medical             464\n",
      "Marketing           159\n",
      "Technical Degree    132\n",
      "Other                82\n",
      "Human Resources      27\n",
      "Name: EducationField, dtype: int64 \n",
      "\n",
      "2)table of joint proportion\n",
      " EducationField  Human Resources  Life Sciences  Marketing  Medical  Other  \\\n",
      "Attrition                                                                   \n",
      "0                            20            517        124      401     71   \n",
      "1                             7             89         35       63     11   \n",
      "\n",
      "EducationField  Technical Degree  \n",
      "Attrition                         \n",
      "0                            100  \n",
      "1                             32   \n",
      "\n",
      "3)conditional probability conditioned on columns \n",
      " EducationField  Human Resources  Life Sciences  Marketing   Medical     Other  \\\n",
      "Attrition                                                                       \n",
      "0                      0.740741       0.853135   0.779874  0.864224  0.865854   \n",
      "1                      0.259259       0.146865   0.220126  0.135776  0.134146   \n",
      "\n",
      "EducationField  Technical Degree  \n",
      "Attrition                         \n",
      "0                       0.757576  \n",
      "1                       0.242424   \n",
      "\n",
      "4)conditional probability conditioned on rows \n",
      " EducationField  Human Resources  Life Sciences  Marketing   Medical     Other  \\\n",
      "Attrition                                                                       \n",
      "0                      0.016221       0.419303   0.100568  0.325223  0.057583   \n",
      "1                      0.029536       0.375527   0.147679  0.265823  0.046414   \n",
      "\n",
      "EducationField  Technical Degree  \n",
      "Attrition                         \n",
      "0                       0.081103  \n",
      "1                       0.135021  \n"
     ]
    }
   ],
   "source": [
    "print('1)Total:',attrition['EducationField'].count(),'\\n',attrition['EducationField'].value_counts(),'\\n')\n",
    "table = pd.crosstab(attrition.Attrition,columns= attrition.EducationField)\n",
    "print('2)table of joint proportion\\n',table,'\\n')\n",
    "coltotal = table.sum(axis = 0)\n",
    "print('3)conditional probability conditioned on columns \\n',table.div(coltotal,axis = 1),'\\n')\n",
    "rowtotal = table.sum(axis=1)\n",
    "print('4)conditional probability conditioned on rows \\n',table.div(rowtotal,axis = 0))"
   ]
  },
  {
   "cell_type": "markdown",
   "metadata": {
    "id": "WeHQmzjFy4Ic"
   },
   "source": [
    "-Most of the employees are from Life Sciences and Medical.  \n",
    "-We can observe that employees from HR and Tech Degree are having relatively higher probability of leaving the company compare to other department.  "
   ]
  },
  {
   "cell_type": "markdown",
   "metadata": {
    "id": "5uKNdggxlzt2"
   },
   "source": [
    "### 17) Gender"
   ]
  },
  {
   "cell_type": "code",
   "execution_count": 71,
   "metadata": {
    "colab": {
     "base_uri": "https://localhost:8080/",
     "height": 175
    },
    "executionInfo": {
     "elapsed": 453,
     "status": "ok",
     "timestamp": 1665313001248,
     "user": {
      "displayName": "SAI.SASI.SEKHAR RALLABANDI",
      "userId": "03962991214365984155"
     },
     "user_tz": -330
    },
    "id": "ah7Pg_-PkRcj",
    "outputId": "4a54f5fb-bdad-4473-c501-7ee597310384"
   },
   "outputs": [
    {
     "data": {
      "text/html": [
       "<div>\n",
       "<style scoped>\n",
       "    .dataframe tbody tr th:only-of-type {\n",
       "        vertical-align: middle;\n",
       "    }\n",
       "\n",
       "    .dataframe tbody tr th {\n",
       "        vertical-align: top;\n",
       "    }\n",
       "\n",
       "    .dataframe thead tr th {\n",
       "        text-align: left;\n",
       "    }\n",
       "\n",
       "    .dataframe thead tr:last-of-type th {\n",
       "        text-align: right;\n",
       "    }\n",
       "</style>\n",
       "<table border=\"1\" class=\"dataframe\">\n",
       "  <thead>\n",
       "    <tr>\n",
       "      <th></th>\n",
       "      <th colspan=\"4\" halign=\"left\">Gender</th>\n",
       "    </tr>\n",
       "    <tr>\n",
       "      <th></th>\n",
       "      <th>count</th>\n",
       "      <th>unique</th>\n",
       "      <th>top</th>\n",
       "      <th>freq</th>\n",
       "    </tr>\n",
       "    <tr>\n",
       "      <th>Attrition</th>\n",
       "      <th></th>\n",
       "      <th></th>\n",
       "      <th></th>\n",
       "      <th></th>\n",
       "    </tr>\n",
       "  </thead>\n",
       "  <tbody>\n",
       "    <tr>\n",
       "      <th>0</th>\n",
       "      <td>1233</td>\n",
       "      <td>2</td>\n",
       "      <td>Male</td>\n",
       "      <td>732</td>\n",
       "    </tr>\n",
       "    <tr>\n",
       "      <th>1</th>\n",
       "      <td>237</td>\n",
       "      <td>2</td>\n",
       "      <td>Male</td>\n",
       "      <td>150</td>\n",
       "    </tr>\n",
       "  </tbody>\n",
       "</table>\n",
       "</div>"
      ],
      "text/plain": [
       "          Gender                  \n",
       "           count unique   top freq\n",
       "Attrition                         \n",
       "0           1233      2  Male  732\n",
       "1            237      2  Male  150"
      ]
     },
     "execution_count": 71,
     "metadata": {},
     "output_type": "execute_result"
    }
   ],
   "source": [
    "attrition[['Attrition','Gender']].groupby(['Attrition']).describe()"
   ]
  },
  {
   "cell_type": "code",
   "execution_count": 72,
   "metadata": {
    "colab": {
     "base_uri": "https://localhost:8080/",
     "height": 351
    },
    "executionInfo": {
     "elapsed": 14,
     "status": "ok",
     "timestamp": 1665313001249,
     "user": {
      "displayName": "SAI.SASI.SEKHAR RALLABANDI",
      "userId": "03962991214365984155"
     },
     "user_tz": -330
    },
    "id": "ZHHEh8Sdlscy",
    "outputId": "35dc73c3-8734-4f9f-a899-12e122b167fb"
   },
   "outputs": [
    {
     "data": {
      "text/plain": [
       "<AxesSubplot:xlabel='Gender', ylabel='count'>"
      ]
     },
     "execution_count": 72,
     "metadata": {},
     "output_type": "execute_result"
    },
    {
     "data": {
      "image/png": "[encoded data removed]",
      "text/plain": [
       "<Figure size 432x288 with 1 Axes>"
      ]
     },
     "metadata": {
      "needs_background": "light"
     },
     "output_type": "display_data"
    }
   ],
   "source": [
    "sns.countplot('Gender',data=attrition)"
   ]
  },
  {
   "cell_type": "code",
   "execution_count": 73,
   "metadata": {
    "colab": {
     "base_uri": "https://localhost:8080/",
     "height": 322
    },
    "executionInfo": {
     "elapsed": 13,
     "status": "ok",
     "timestamp": 1665313001249,
     "user": {
      "displayName": "SAI.SASI.SEKHAR RALLABANDI",
      "userId": "03962991214365984155"
     },
     "user_tz": -330
    },
    "id": "24P2l-LN5ymf",
    "outputId": "182e179d-be80-4115-8d63-529f483fd43e"
   },
   "outputs": [
    {
     "data": {
      "text/plain": [
       "<AxesSubplot:xlabel='Gender'>"
      ]
     },
     "execution_count": 73,
     "metadata": {},
     "output_type": "execute_result"
    },
    {
     "data": {
      "image/png": "[encoded data removed]",
      "text/plain": [
       "<Figure size 432x288 with 1 Axes>"
      ]
     },
     "metadata": {
      "needs_background": "light"
     },
     "output_type": "display_data"
    }
   ],
   "source": [
    "ct=pd.crosstab(attrition['Gender'],attrition['Attrition'], normalize='index')\n",
    "ct.plot.bar(stacked=True)"
   ]
  },
  {
   "cell_type": "code",
   "execution_count": 74,
   "metadata": {
    "colab": {
     "base_uri": "https://localhost:8080/"
    },
    "executionInfo": {
     "elapsed": 10,
     "status": "ok",
     "timestamp": 1665313001249,
     "user": {
      "displayName": "SAI.SASI.SEKHAR RALLABANDI",
      "userId": "03962991214365984155"
     },
     "user_tz": -330
    },
    "id": "V7wPOw_Es0CW",
    "outputId": "dde58530-da00-410f-a4c0-a58814f736fc"
   },
   "outputs": [
    {
     "name": "stdout",
     "output_type": "stream",
     "text": [
      "1)Total: 1470 \n",
      " Male      882\n",
      "Female    588\n",
      "Name: Gender, dtype: int64 \n",
      "\n",
      "2)table of joint proportion\n",
      " Gender     Female  Male\n",
      "Attrition              \n",
      "0             501   732\n",
      "1              87   150 \n",
      "\n",
      "3)conditional probability conditioned on columns \n",
      " Gender       Female      Male\n",
      "Attrition                    \n",
      "0          0.852041  0.829932\n",
      "1          0.147959  0.170068 \n",
      "\n",
      "4)conditional probability conditioned on rows \n",
      " Gender       Female      Male\n",
      "Attrition                    \n",
      "0          0.406326  0.593674\n",
      "1          0.367089  0.632911\n"
     ]
    }
   ],
   "source": [
    "print('1)Total:',attrition['Gender'].count(),'\\n',attrition['Gender'].value_counts(),'\\n')\n",
    "table = pd.crosstab(attrition.Attrition,columns= attrition.Gender)\n",
    "print('2)table of joint proportion\\n',table,'\\n')\n",
    "coltotal = table.sum(axis = 0)\n",
    "print('3)conditional probability conditioned on columns \\n',table.div(coltotal,axis = 1),'\\n')\n",
    "rowtotal = table.sum(axis=1)\n",
    "print('4)conditional probability conditioned on rows \\n',table.div(rowtotal,axis = 0))"
   ]
  },
  {
   "cell_type": "markdown",
   "metadata": {
    "id": "ZBPpg7y4zdev"
   },
   "source": [
    "-There are more male compared to female in this company probability of attrition given male/female is 0.17/0.14.So, being a particular gender doesnot really affect the attrition much(Male has slightly higher chance of leaving but its not significant enough).  "
   ]
  },
  {
   "cell_type": "markdown",
   "metadata": {
    "id": "SVEsjlI7mAt5"
   },
   "source": [
    "### 18) MaritalStatus"
   ]
  },
  {
   "cell_type": "code",
   "execution_count": 75,
   "metadata": {
    "colab": {
     "base_uri": "https://localhost:8080/",
     "height": 175
    },
    "executionInfo": {
     "elapsed": 9,
     "status": "ok",
     "timestamp": 1665313001249,
     "user": {
      "displayName": "SAI.SASI.SEKHAR RALLABANDI",
      "userId": "03962991214365984155"
     },
     "user_tz": -330
    },
    "id": "zAaDOc43lsZe",
    "outputId": "c6f56bd2-9ff9-4d37-cfb4-53ed60582e84"
   },
   "outputs": [
    {
     "data": {
      "text/html": [
       "<div>\n",
       "<style scoped>\n",
       "    .dataframe tbody tr th:only-of-type {\n",
       "        vertical-align: middle;\n",
       "    }\n",
       "\n",
       "    .dataframe tbody tr th {\n",
       "        vertical-align: top;\n",
       "    }\n",
       "\n",
       "    .dataframe thead tr th {\n",
       "        text-align: left;\n",
       "    }\n",
       "\n",
       "    .dataframe thead tr:last-of-type th {\n",
       "        text-align: right;\n",
       "    }\n",
       "</style>\n",
       "<table border=\"1\" class=\"dataframe\">\n",
       "  <thead>\n",
       "    <tr>\n",
       "      <th></th>\n",
       "      <th colspan=\"4\" halign=\"left\">MaritalStatus</th>\n",
       "    </tr>\n",
       "    <tr>\n",
       "      <th></th>\n",
       "      <th>count</th>\n",
       "      <th>unique</th>\n",
       "      <th>top</th>\n",
       "      <th>freq</th>\n",
       "    </tr>\n",
       "    <tr>\n",
       "      <th>Attrition</th>\n",
       "      <th></th>\n",
       "      <th></th>\n",
       "      <th></th>\n",
       "      <th></th>\n",
       "    </tr>\n",
       "  </thead>\n",
       "  <tbody>\n",
       "    <tr>\n",
       "      <th>0</th>\n",
       "      <td>1233</td>\n",
       "      <td>3</td>\n",
       "      <td>Married</td>\n",
       "      <td>589</td>\n",
       "    </tr>\n",
       "    <tr>\n",
       "      <th>1</th>\n",
       "      <td>237</td>\n",
       "      <td>3</td>\n",
       "      <td>Single</td>\n",
       "      <td>120</td>\n",
       "    </tr>\n",
       "  </tbody>\n",
       "</table>\n",
       "</div>"
      ],
      "text/plain": [
       "          MaritalStatus                     \n",
       "                  count unique      top freq\n",
       "Attrition                                   \n",
       "0                  1233      3  Married  589\n",
       "1                   237      3   Single  120"
      ]
     },
     "execution_count": 75,
     "metadata": {},
     "output_type": "execute_result"
    }
   ],
   "source": [
    "attrition[['Attrition','MaritalStatus']].groupby(['Attrition']).describe()"
   ]
  },
  {
   "cell_type": "code",
   "execution_count": 76,
   "metadata": {
    "colab": {
     "base_uri": "https://localhost:8080/",
     "height": 353
    },
    "executionInfo": {
     "elapsed": 10,
     "status": "ok",
     "timestamp": 1665313001250,
     "user": {
      "displayName": "SAI.SASI.SEKHAR RALLABANDI",
      "userId": "03962991214365984155"
     },
     "user_tz": -330
    },
    "id": "hPuMb59AlsU1",
    "outputId": "3ba76302-d969-452b-f27f-34cf92e1a9a5"
   },
   "outputs": [
    {
     "data": {
      "text/plain": [
       "<AxesSubplot:xlabel='MaritalStatus', ylabel='count'>"
      ]
     },
     "execution_count": 76,
     "metadata": {},
     "output_type": "execute_result"
    },
    {
     "data": {
      "image/png": "[encoded data removed]",
      "text/plain": [
       "<Figure size 432x288 with 1 Axes>"
      ]
     },
     "metadata": {
      "needs_background": "light"
     },
     "output_type": "display_data"
    }
   ],
   "source": [
    "sns.countplot('MaritalStatus',data=attrition)"
   ]
  },
  {
   "cell_type": "code",
   "execution_count": 77,
   "metadata": {
    "colab": {
     "base_uri": "https://localhost:8080/",
     "height": 331
    },
    "executionInfo": {
     "elapsed": 660,
     "status": "ok",
     "timestamp": 1665313001902,
     "user": {
      "displayName": "SAI.SASI.SEKHAR RALLABANDI",
      "userId": "03962991214365984155"
     },
     "user_tz": -330
    },
    "id": "RUcg0kU96C5e",
    "outputId": "f304c2f2-fef1-41e1-cde9-e9497142d5a1"
   },
   "outputs": [
    {
     "data": {
      "text/plain": [
       "<AxesSubplot:xlabel='MaritalStatus'>"
      ]
     },
     "execution_count": 77,
     "metadata": {},
     "output_type": "execute_result"
    },
    {
     "data": {
      "image/png": "[encoded data removed]",
      "text/plain": [
       "<Figure size 432x288 with 1 Axes>"
      ]
     },
     "metadata": {
      "needs_background": "light"
     },
     "output_type": "display_data"
    }
   ],
   "source": [
    "ct=pd.crosstab(attrition['MaritalStatus'],attrition['Attrition'], normalize='index')\n",
    "ct.plot.bar(stacked=True)"
   ]
  },
  {
   "cell_type": "code",
   "execution_count": 78,
   "metadata": {
    "colab": {
     "base_uri": "https://localhost:8080/"
    },
    "executionInfo": {
     "elapsed": 12,
     "status": "ok",
     "timestamp": 1665313001902,
     "user": {
      "displayName": "SAI.SASI.SEKHAR RALLABANDI",
      "userId": "03962991214365984155"
     },
     "user_tz": -330
    },
    "id": "Etrz6Mr0s6Q2",
    "outputId": "6b76b222-181b-426c-fba1-152e3a6fd863"
   },
   "outputs": [
    {
     "name": "stdout",
     "output_type": "stream",
     "text": [
      "1)Total: 1470 \n",
      " Married     673\n",
      "Single      470\n",
      "Divorced    327\n",
      "Name: MaritalStatus, dtype: int64 \n",
      "\n",
      "2)table of joint proportion\n",
      " MaritalStatus  Divorced  Married  Single\n",
      "Attrition                               \n",
      "0                   294      589     350\n",
      "1                    33       84     120 \n",
      "\n",
      "3)conditional probability conditioned on columns \n",
      " MaritalStatus  Divorced   Married    Single\n",
      "Attrition                                  \n",
      "0              0.899083  0.875186  0.744681\n",
      "1              0.100917  0.124814  0.255319 \n",
      "\n",
      "4)conditional probability conditioned on rows \n",
      " MaritalStatus  Divorced   Married    Single\n",
      "Attrition                                  \n",
      "0              0.238443  0.477697  0.283861\n",
      "1              0.139241  0.354430  0.506329\n"
     ]
    }
   ],
   "source": [
    "print('1)Total:',attrition['MaritalStatus'].count(),'\\n',attrition['MaritalStatus'].value_counts(),'\\n')\n",
    "table = pd.crosstab(attrition.Attrition,columns = attrition.MaritalStatus)\n",
    "print('2)table of joint proportion\\n',table,'\\n')\n",
    "coltotal = table.sum(axis = 0)\n",
    "print('3)conditional probability conditioned on columns \\n',table.div(coltotal,axis = 1),'\\n')\n",
    "rowtotal = table.sum(axis=1)\n",
    "print('4)conditional probability conditioned on rows \\n',table.div(rowtotal,axis = 0))"
   ]
  },
  {
   "cell_type": "markdown",
   "metadata": {
    "id": "nxVbJixC0bol"
   },
   "source": [
    "-Most of the employees in the company are married.  \n",
    "-Single employees are having higher probability of leaving the company. Where as Divorced and Married employees probably less."
   ]
  },
  {
   "cell_type": "markdown",
   "metadata": {
    "id": "9p0ozpElmMOm"
   },
   "source": [
    "### 19) OverTime"
   ]
  },
  {
   "cell_type": "code",
   "execution_count": 79,
   "metadata": {
    "colab": {
     "base_uri": "https://localhost:8080/",
     "height": 175
    },
    "executionInfo": {
     "elapsed": 11,
     "status": "ok",
     "timestamp": 1665313001903,
     "user": {
      "displayName": "SAI.SASI.SEKHAR RALLABANDI",
      "userId": "03962991214365984155"
     },
     "user_tz": -330
    },
    "id": "ostsYokElsSq",
    "outputId": "76f7e51e-bfcb-4a70-c1c0-48799fc7dd4d"
   },
   "outputs": [
    {
     "data": {
      "text/html": [
       "<div>\n",
       "<style scoped>\n",
       "    .dataframe tbody tr th:only-of-type {\n",
       "        vertical-align: middle;\n",
       "    }\n",
       "\n",
       "    .dataframe tbody tr th {\n",
       "        vertical-align: top;\n",
       "    }\n",
       "\n",
       "    .dataframe thead tr th {\n",
       "        text-align: left;\n",
       "    }\n",
       "\n",
       "    .dataframe thead tr:last-of-type th {\n",
       "        text-align: right;\n",
       "    }\n",
       "</style>\n",
       "<table border=\"1\" class=\"dataframe\">\n",
       "  <thead>\n",
       "    <tr>\n",
       "      <th></th>\n",
       "      <th colspan=\"4\" halign=\"left\">OverTime</th>\n",
       "    </tr>\n",
       "    <tr>\n",
       "      <th></th>\n",
       "      <th>count</th>\n",
       "      <th>unique</th>\n",
       "      <th>top</th>\n",
       "      <th>freq</th>\n",
       "    </tr>\n",
       "    <tr>\n",
       "      <th>Attrition</th>\n",
       "      <th></th>\n",
       "      <th></th>\n",
       "      <th></th>\n",
       "      <th></th>\n",
       "    </tr>\n",
       "  </thead>\n",
       "  <tbody>\n",
       "    <tr>\n",
       "      <th>0</th>\n",
       "      <td>1233</td>\n",
       "      <td>2</td>\n",
       "      <td>No</td>\n",
       "      <td>944</td>\n",
       "    </tr>\n",
       "    <tr>\n",
       "      <th>1</th>\n",
       "      <td>237</td>\n",
       "      <td>2</td>\n",
       "      <td>Yes</td>\n",
       "      <td>127</td>\n",
       "    </tr>\n",
       "  </tbody>\n",
       "</table>\n",
       "</div>"
      ],
      "text/plain": [
       "          OverTime                 \n",
       "             count unique  top freq\n",
       "Attrition                          \n",
       "0             1233      2   No  944\n",
       "1              237      2  Yes  127"
      ]
     },
     "execution_count": 79,
     "metadata": {},
     "output_type": "execute_result"
    }
   ],
   "source": [
    "attrition[['Attrition','OverTime']].groupby(['Attrition']).describe()"
   ]
  },
  {
   "cell_type": "code",
   "execution_count": 80,
   "metadata": {
    "colab": {
     "base_uri": "https://localhost:8080/",
     "height": 351
    },
    "executionInfo": {
     "elapsed": 11,
     "status": "ok",
     "timestamp": 1665313001903,
     "user": {
      "displayName": "SAI.SASI.SEKHAR RALLABANDI",
      "userId": "03962991214365984155"
     },
     "user_tz": -330
    },
    "id": "bsr6M0-0lsNe",
    "outputId": "ad70d96b-4fd4-41ed-8adf-7b6fbaea7d8e"
   },
   "outputs": [
    {
     "data": {
      "text/plain": [
       "<AxesSubplot:xlabel='OverTime', ylabel='count'>"
      ]
     },
     "execution_count": 80,
     "metadata": {},
     "output_type": "execute_result"
    },
    {
     "data": {
      "image/png": "[encoded data removed]",
      "text/plain": [
       "<Figure size 432x288 with 1 Axes>"
      ]
     },
     "metadata": {
      "needs_background": "light"
     },
     "output_type": "display_data"
    }
   ],
   "source": [
    "sns.countplot('OverTime',data=attrition)"
   ]
  },
  {
   "cell_type": "code",
   "execution_count": 81,
   "metadata": {
    "colab": {
     "base_uri": "https://localhost:8080/",
     "height": 302
    },
    "executionInfo": {
     "elapsed": 417,
     "status": "ok",
     "timestamp": 1665313002311,
     "user": {
      "displayName": "SAI.SASI.SEKHAR RALLABANDI",
      "userId": "03962991214365984155"
     },
     "user_tz": -330
    },
    "id": "m-LFLPqY6Jtn",
    "outputId": "21099603-1894-43a7-e261-7b3154818d61"
   },
   "outputs": [
    {
     "data": {
      "text/plain": [
       "<AxesSubplot:xlabel='OverTime'>"
      ]
     },
     "execution_count": 81,
     "metadata": {},
     "output_type": "execute_result"
    },
    {
     "data": {
      "image/png": "[encoded data removed]",
      "text/plain": [
       "<Figure size 432x288 with 1 Axes>"
      ]
     },
     "metadata": {
      "needs_background": "light"
     },
     "output_type": "display_data"
    }
   ],
   "source": [
    "ct=pd.crosstab(attrition['OverTime'],attrition['Attrition'], normalize='index')\n",
    "ct.plot.bar(stacked=True)"
   ]
  },
  {
   "cell_type": "code",
   "execution_count": 82,
   "metadata": {
    "colab": {
     "base_uri": "https://localhost:8080/"
    },
    "executionInfo": {
     "elapsed": 5,
     "status": "ok",
     "timestamp": 1665313002311,
     "user": {
      "displayName": "SAI.SASI.SEKHAR RALLABANDI",
      "userId": "03962991214365984155"
     },
     "user_tz": -330
    },
    "id": "vcwdVgOclr7M",
    "outputId": "4df2c4ca-3298-4611-cb36-cd8d1cff224a"
   },
   "outputs": [
    {
     "name": "stdout",
     "output_type": "stream",
     "text": [
      "1)Total: 1470 \n",
      " No     1054\n",
      "Yes     416\n",
      "Name: OverTime, dtype: int64 \n",
      "\n",
      "2)table of joint proportion\n",
      " OverTime    No  Yes\n",
      "Attrition          \n",
      "0          944  289\n",
      "1          110  127 \n",
      "\n",
      "3)conditional probability conditioned on columns \n",
      " OverTime         No       Yes\n",
      "Attrition                    \n",
      "0          0.895636  0.694712\n",
      "1          0.104364  0.305288 \n",
      "\n",
      "4)conditional probability conditioned on rows \n",
      " OverTime         No       Yes\n",
      "Attrition                    \n",
      "0          0.765612  0.234388\n",
      "1          0.464135  0.535865\n"
     ]
    }
   ],
   "source": [
    "print('1)Total:',attrition['OverTime'].count(),'\\n',attrition['OverTime'].value_counts(),'\\n')\n",
    "table = pd.crosstab(attrition.Attrition,columns= attrition.OverTime)\n",
    "print('2)table of joint proportion\\n',table,'\\n')\n",
    "coltotal = table.sum(axis = 0)\n",
    "print('3)conditional probability conditioned on columns \\n',table.div(coltotal,axis = 1),'\\n')\n",
    "rowtotal = table.sum(axis=1)\n",
    "print('4)conditional probability conditioned on rows \\n',table.div(rowtotal,axis = 0))"
   ]
  },
  {
   "cell_type": "markdown",
   "metadata": {
    "id": "lc6_qipc0_Ho"
   },
   "source": [
    "-We can observe that 1470 employees only 416 employees work overtime.  \n",
    "-If a person works overtime he has probability of leaving whereas if he doesn't work overtime there is a lesser probability."
   ]
  },
  {
   "cell_type": "markdown",
   "metadata": {
    "id": "fajIPmyywSXc"
   },
   "source": [
    "### From the above factors lets pick few factors that seem to affect the attrition the most\n",
    "\n",
    "- Marital status\n",
    "- Business travel\n",
    "- Overtime\n",
    "- Job involvement\n",
    "- Job level\n",
    "- Age   \n",
    "- Monthly Income    \n",
    "- Total Working Years   \n"
   ]
  },
  {
   "cell_type": "markdown",
   "metadata": {
    "id": "CigkKc9KPaYt"
   },
   "source": [
    "## Exploring Multivariate Analysis on the existing variables against attrition."
   ]
  },
  {
   "cell_type": "markdown",
   "metadata": {},
   "source": [
    "### Note:"
   ]
  },
  {
   "cell_type": "markdown",
   "metadata": {},
   "source": [
    "To get better result,we can use T-test and chi-square test between the target and independent attributes."
   ]
  }
 ],
 "metadata": {
  "colab": {
   "collapsed_sections": [],
   "provenance": []
  },
  "kernelspec": {
   "display_name": "Python 3 (ipykernel)",
   "language": "python",
   "name": "python3"
  },
  "language_info": {
   "codemirror_mode": {
    "name": "ipython",
    "version": 3
   },
   "file_extension": ".py",
   "mimetype": "text/x-python",
   "name": "python",
   "nbconvert_exporter": "python",
   "pygments_lexer": "ipython3",
   "version": "3.9.12"
  }
 },
 "nbformat": 4,
 "nbformat_minor": 1
}
